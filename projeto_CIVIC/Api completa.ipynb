{
 "cells": [
  {
   "cell_type": "markdown",
   "id": "f4dbacb8",
   "metadata": {},
   "source": [
    "# Visão geral\n",
    "Esse caderno tem como objetivo pegar os dados da API publica CIVIC (Clinical Interpretation of variants in cancer) e transforma-los em dataframes.\n",
    "Nossa escola de API possui 4 diferentes URL's das quais teremos que receber os dados, ou seja, repitiremos o mesmo processo para todas as URL's.\n",
    "## Objetivo do código\n",
    "Acessar a API CIVIC e coletar os dados fornecidos por ela."
   ]
  },
  {
   "cell_type": "code",
   "execution_count": null,
   "id": "3cdb84ed",
   "metadata": {},
   "outputs": [],
   "source": [
    "#Importações\n",
    "import requests\n",
    "import json\n",
    "import pandas as pd"
   ]
  },
  {
   "cell_type": "markdown",
   "id": "f88ef767",
   "metadata": {},
   "source": [
    "Inicialmente, iremos realizar as importações necessárias. Precisaremos da biblioteca requests, que nos permite fazer solicitações em HTTP com os métodos padrões. Usaremos o método GET para todas as URLs.\n",
    "\n",
    "A biblioteca Json fornece uma maneira fácil de codificar e decodificar dados no formato JSON. Esse formato é comumente utilizado para trocar informações entre diferentes sistemas, sendo amplamente utilizado em serviços web e APIs RESTful.\n",
    "\n",
    "Por último, usaremos a biblioteca Pandas para análise e manipulação de dados. Essa biblioteca fornece estruturas de dados de alta performance."
   ]
  },
  {
   "cell_type": "markdown",
   "id": "925cf610",
   "metadata": {},
   "source": [
    "# Assertion\n",
    "https://civic.readthedocs.io/en/latest/api/v1/assertions.html"
   ]
  },
  {
   "cell_type": "markdown",
   "id": "6d88ddbe",
   "metadata": {},
   "source": [
    "Começaremos com a URL de Assertions, que possui um total de 48 valores de retorno divididos em 48 páginas. Para realizar a coleta desses valores, definiremos a URL informada pelo site \"https://civicdb.org/api/assertions\" e mudaremos o parâmetro \"count\" de 1 (valor padrão) para 48. Dessa forma, receberemos todos os dados em uma única chamada.\n",
    "\n",
    "Faremos uma solicitação GET para a API com foco em \"assertions\" com um limite de 10.000 retorno de dados, (porém essa API retorna apenas 48 dados, mas por padrão manterei todas as URL's em 10.000).\n",
    "\n",
    "Em seguida, solicitaremos o \"status_code\" para verificar se a solicitação de coleta foi aceita. Os códigos mais comuns são:\n",
    "\n",
    "200: tudo funcionou como esperado e a validação dos dados foi realizada com sucesso.\n",
    "\n",
    "400: problemas durante a autenticação.\n",
    "\n",
    "401: este erro ocorre quando há algum erro na requisição.\n",
    "\n",
    "500: ocorreu algum erro interno no servidor."
   ]
  },
  {
   "cell_type": "code",
   "execution_count": null,
   "id": "82470460",
   "metadata": {},
   "outputs": [],
   "source": [
    "#URL da API\n",
    "Assertion = requests.get('https://civicdb.org/api/assertions?count=10000')\n",
    "#Codigo de status \n",
    "Assertion.status_code"
   ]
  },
  {
   "cell_type": "markdown",
   "id": "9f114539",
   "metadata": {},
   "source": [
    "Json.loads() É um método usado para decodificar uma string JSON em um objeto Python. O objeto Python resultante pode ser uma lista, um dicionário, um valor de string, um número, um valor booleano ou None. \n",
    "A função .content é usada para retornar o conteúdo de uma resposta HTTP em formato de bytes."
   ]
  },
  {
   "cell_type": "markdown",
   "id": "ac531ded",
   "metadata": {},
   "source": [
    "Converteremos o conteúdo da resposta HTTP, que é originalmente uma string no formato JSON, para um dicionário Python utilizando a função .loads.\n"
   ]
  },
  {
   "cell_type": "code",
   "execution_count": null,
   "id": "c124e2ca",
   "metadata": {},
   "outputs": [],
   "source": [
    "#Json.load: Pega um objeto em arquivo e retorna o objeto json; contendo dados na forma de chave/valor;\n",
    "#contente: Retorna o contéudo da resposta em dicionario.\n",
    "Assertion_dict=json.loads(Assertion.content)"
   ]
  },
  {
   "cell_type": "markdown",
   "id": "369aa10b",
   "metadata": {},
   "source": [
    "Utilizando o método pd.DataFrame iremos converter o dicionário Python em um dataframe pandas com os dados retornados pela API."
   ]
  },
  {
   "cell_type": "code",
   "execution_count": null,
   "id": "31cdc791",
   "metadata": {},
   "outputs": [],
   "source": [
    "#Pega apenas uma das chaves que a URL retorna e a transforma em um dataframe.\n",
    "df_assertion=pd.DataFrame(Assertion_dict[\"records\"])\n",
    "#Dataframe\n",
    "df_assertion"
   ]
  },
  {
   "cell_type": "markdown",
   "id": "ec1855f9",
   "metadata": {},
   "source": [
    "Por ultimo nessa URL iremos salvar o Dataframe criado para que ele possa ser usado para posterior análise e manipulação."
   ]
  },
  {
   "cell_type": "code",
   "execution_count": null,
   "id": "dbe29a8e",
   "metadata": {},
   "outputs": [],
   "source": [
    "#Salva o dataframe criado.\n",
    "df_assertion.to_csv('Assertions.csv', index=False)"
   ]
  },
  {
   "cell_type": "markdown",
   "id": "17ff668d",
   "metadata": {},
   "source": [
    "# Evidences\n",
    "https://civic.readthedocs.io/en/latest/api/v1/evidence.html\n",
    "\n",
    "Segureimos para Evidences, que possui um total de 8939 valores de retorno divididos em 8939 páginas. Para realizar a coleta desses valores, definiremos a URL informada pelo site \"https://civicdb.org/api/evidence_items\"\n",
    "e mudaremos o parâmetro \"count\" de 1 (valor padrão) para 8939. Dessa forma, receberemos todos os dados em uma única chamada."
   ]
  },
  {
   "cell_type": "code",
   "execution_count": null,
   "id": "7248b5d8",
   "metadata": {},
   "outputs": [],
   "source": [
    "#URL da API\n",
    "Evidences = requests.get('https://civicdb.org/api/evidence_items?count=10000')\n",
    "#Codigo de status \n",
    "Evidences.status_code"
   ]
  },
  {
   "cell_type": "code",
   "execution_count": null,
   "id": "f30f4e35",
   "metadata": {},
   "outputs": [],
   "source": [
    "#Json.load: Pega um objeto em arquivo e retorna o objeto json; contendo dados na forma de chave/valor;\n",
    "#contente: Retorna o contéudo da resposta em dicionario.\n",
    "Evidences_dict=json.loads(Evidences.content)"
   ]
  },
  {
   "cell_type": "code",
   "execution_count": null,
   "id": "d464d417",
   "metadata": {},
   "outputs": [],
   "source": [
    "#Pega apenas uma das chaves que a URL retorna e a transforma em um dataframe.\n",
    "df_evidences=pd.DataFrame(Evidences_dict[\"records\"])\n",
    "#Dataframe\n",
    "df_evidences"
   ]
  },
  {
   "cell_type": "code",
   "execution_count": null,
   "id": "1973b73f",
   "metadata": {},
   "outputs": [],
   "source": [
    "#Salva o dataframe criado.\n",
    "df_evidences.to_csv('Evidence.csv', index=False)"
   ]
  },
  {
   "cell_type": "markdown",
   "id": "b3e91fa4",
   "metadata": {},
   "source": [
    "# Variant\n",
    "https://civic.readthedocs.io/en/latest/api/v1/variants.html\n",
    "\n",
    "Segureimos para Evidences, que possui um total de 3163 valores de retorno divididos em 3163 páginas. Para realizar a coleta desses valores, definiremos a URL informada pelo site \"https://civicdb.org/api/variants\"\n",
    "e mudaremos o parâmetro \"count\" de 1 (valor padrão) para 3163. Dessa forma, receberemos todos os dados em uma única chamada."
   ]
  },
  {
   "cell_type": "code",
   "execution_count": null,
   "id": "a4cf543a",
   "metadata": {},
   "outputs": [],
   "source": [
    "#URL da API\n",
    "Variant = requests.get('https://civicdb.org/api/variants?count=10000')\n",
    "#Codigo de status \n",
    "Variant.status_code"
   ]
  },
  {
   "cell_type": "code",
   "execution_count": null,
   "id": "feb88642",
   "metadata": {},
   "outputs": [],
   "source": [
    "#Json.load: Pega um objeto em arquivo e retorna o objeto json; contendo dados na forma de chave/valor;\n",
    "#contente: Retorna o contéudo da resposta em dicionario.\n",
    "Variant_dict=json.loads(Variant.content)"
   ]
  },
  {
   "cell_type": "code",
   "execution_count": null,
   "id": "b9f8ee7c",
   "metadata": {},
   "outputs": [],
   "source": [
    "#Pega apenas uma das chaves que a URL retorna e a transforma em um dataframe.\n",
    "df_variant=pd.DataFrame(Variant_dict[\"records\"])\n",
    "#Dataframe\n",
    "df_variant"
   ]
  },
  {
   "cell_type": "code",
   "execution_count": null,
   "id": "37612ddb",
   "metadata": {},
   "outputs": [],
   "source": [
    "#Salva o dataframe criado.\n",
    "df_variant.to_csv('variants.csv', index=False)"
   ]
  },
  {
   "cell_type": "markdown",
   "id": "b4cf2134",
   "metadata": {},
   "source": [
    "# Gene\n",
    "https://civic.readthedocs.io/en/latest/api/v1/genes.html\n",
    "\n",
    "Segureimos para Evidences, que possui um total de 332 valores de retorno divididos em 332 páginas. Para realizar a coleta desses valores, definiremos a URL informada pelo site \"https://civicdb.org/api/genes\"\n",
    "e mudaremos o parâmetro \"count\" de 1 (valor padrão) para 332. Dessa forma, receberemos todos os dados em uma única chamada."
   ]
  },
  {
   "cell_type": "code",
   "execution_count": null,
   "id": "2be142f9",
   "metadata": {},
   "outputs": [],
   "source": [
    "#URL da API\n",
    "Gene = requests.get('https://civicdb.org/api/genes?count=10000')\n",
    "#Codigo de status \n",
    "Gene.status_code"
   ]
  },
  {
   "cell_type": "code",
   "execution_count": null,
   "id": "e01aa2b0",
   "metadata": {},
   "outputs": [],
   "source": [
    "#Json.load: Pega um objeto em arquivo e retorna o objeto json; contendo dados na forma de chave/valor;\n",
    "#contente: Retorna o contéudo da resposta em dicionario.\n",
    "Gene_dict=json.loads(Gene.content)"
   ]
  },
  {
   "cell_type": "code",
   "execution_count": null,
   "id": "f20b2fd9",
   "metadata": {},
   "outputs": [],
   "source": [
    "#Pega apenas uma das chaves que a URL retorna e a transforma em um dataframe.\n",
    "df_gene=pd.DataFrame(Gene_dict[\"records\"])\n",
    "#Dataframe\n",
    "df_gene "
   ]
  },
  {
   "cell_type": "code",
   "execution_count": null,
   "id": "e36c1edc",
   "metadata": {},
   "outputs": [],
   "source": [
    "#Salva o dataframe criado.\n",
    "df_gene.to_csv('genes.csv', index=False)"
   ]
  },
  {
   "cell_type": "markdown",
   "id": "cc260445",
   "metadata": {},
   "source": [
    "Em virtude das informações citadas acima, entendemos que esse código busca um grande conjunto de dados em 4 URL's diferentes, Gene, Evidences, Variants, Assertions e os transforma em dataset para que possam ser usados posteriormente."
   ]
  }
 ],
 "metadata": {
  "kernelspec": {
   "display_name": "Python 3 (ipykernel)",
   "language": "python",
   "name": "python3"
  },
  "language_info": {
   "codemirror_mode": {
    "name": "ipython",
    "version": 3
   },
   "file_extension": ".py",
   "mimetype": "text/x-python",
   "name": "python",
   "nbconvert_exporter": "python",
   "pygments_lexer": "ipython3",
   "version": "3.9.7"
  }
 },
 "nbformat": 4,
 "nbformat_minor": 5
}
