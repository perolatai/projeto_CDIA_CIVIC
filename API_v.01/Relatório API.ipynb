{
 "cells": [
  {
   "cell_type": "markdown",
   "id": "bac727fa",
   "metadata": {},
   "source": [
    "## Relatório da API"
   ]
  },
  {
   "cell_type": "markdown",
   "id": "b9b6e412",
   "metadata": {},
   "source": [
    "No nosso trabalho, a função da API é extrair todas as informações do banco de dados CIVIC, feito com base numa planilha de mesmo nome, documentando várias informações sobre pacientes com câncer.\n",
    "\n",
    "Os dados estão divididos em três tabelas: Genes, Evidências e Variantes."
   ]
  },
  {
   "attachments": {},
   "cell_type": "markdown",
   "id": "ca773e6a",
   "metadata": {},
   "source": [
    "```python\n",
    "from flask import Flask, make_response, jsonify, request\n",
    "```"
   ]
  },
  {
   "attachments": {},
   "cell_type": "markdown",
   "id": "1205409b",
   "metadata": {},
   "source": [
    "O Flask traz o comandos GET, POST, PUT e DELETE, utilizados para interagir com bancos de dados. Assim, conseguimos utilizar também a sintaxe do SQL para fazer as requisições na nossa base.   \n",
    "O MySQL.connector liga a API ao banco de dados, bastando fornecer as credenciais criadas pelo gerente do database.   \n",
    "O Settings é um arquivo .py com as credenciais citadas acima.\n",
    "```python\n",
    "conn = psycopg2.connect(\n",
    "    database=database,\n",
    "    host=host,\n",
    "    user=user,\n",
    "    password=password,\n",
    "    port=port)\n",
    "\n",
    "app = Flask(__name__)\n",
    "app.config['JSON_SORT_KEYS'] = False\n",
    "\n",
    "cursor = conn.cursor()\n",
    "```"
   ]
  },
  {
   "cell_type": "markdown",
   "id": "36b60894",
   "metadata": {},
   "source": [
    "Colocamos o Flask na variável 'app' e importamos o cursor para poder \"navegar\" pelo banco de dados."
   ]
  },
  {
   "cell_type": "markdown",
   "id": "9e83680b",
   "metadata": {},
   "source": [
    "```python\n",
    "\n",
    "@app.route('/genes', methods=['GET'])\n",
    "def get_genes():\n",
    "    cursor.execute('SELECT * FROM genes')\n",
    "    lista_genes = cursor.fetchall()\n",
    "\n",
    "    genes = list()\n",
    "    for gene in lista_genes:\n",
    "        genes.append(\n",
    "            {\n",
    "                'id':gene[0],\n",
    "                'gene':gene[1],\n",
    "                'descrição':gene[2]\n",
    "            }\n",
    "        )\n",
    "\n",
    "    return make_response(\n",
    "        jsonify(\n",
    "            message ='Genes:',\n",
    "            data = genes\n",
    "        )\n",
    "    )\n",
    "```"
   ]
  },
  {
   "cell_type": "markdown",
   "id": "763f7b0b",
   "metadata": {},
   "source": [
    "Os comandos do Flask para definir a rota (/genes) e o método (GET) sempre começam com @.   \n",
    "Depois fizemos uma função para extrair tudo da tabela GENES, separar o rótulo das colunas e depois aplicá-los nos dados para torná-los mais fáceis de entender. Nessa junção final, utilizamos o **jsonify**."
   ]
  },
  {
   "cell_type": "markdown",
   "id": "e84258d1",
   "metadata": {},
   "source": [
    "O mesmo foi feito com as duas outras tabelas, EVIDENCIAS e VARIÁVEIS. O código é o mesmo, mudando apenas as váriaveis e a quantidade de rótulos extraídos, pois as tabelas têm números diferentes de colunas. De qualquer forma, segue o código:"
   ]
  },
  {
   "cell_type": "markdown",
   "id": "2774ea5d",
   "metadata": {},
   "source": [
    "```python\n",
    "@app.route('/evidencias', methods=['GET'])\n",
    "def get_evidencias():\n",
    "    cursor.execute('SELECT * FROM evidencias')\n",
    "    lista_evidencias = cursor.fetchall()\n",
    "\n",
    "    # Adicionando os rótulos das colunas;\n",
    "    evidencias = list()\n",
    "    for evidencia in lista_evidencias:\n",
    "        evidencias.append(\n",
    "            {\n",
    "                'evidence_id': evidencia[0],\n",
    "                'entrez_id': evidencia[1],\n",
    "                'disease': evidencia[2],\n",
    "                'doid': evidencia[3],\n",
    "                'phenotypes': evidencia[4],\n",
    "                'drugs': evidencia[5],\n",
    "                'drug_interaction_type': evidencia[6],\n",
    "                'evidence_type': evidencia[7],\n",
    "                'evidence_direction': evidencia[8],\n",
    "                'evidence_level': evidencia[9],\n",
    "                'clinical_significance': evidencia[10],\n",
    "                'evidence_statement': evidencia[11],\n",
    "                'citation_id': evidencia[12],\n",
    "                'source_type': evidencia[13],\n",
    "                'citation': evidencia[14],\n",
    "                'rating': evidencia[15],\n",
    "                'evidence_status': evidencia[16],\n",
    "                'variant_id': evidencia[17],\n",
    "                'chromosome': evidencia[18],\n",
    "                'variant_origin': evidencia[19],\n",
    "                'is_flagged': evidencia[20]\n",
    "            }\n",
    "        )\n",
    "\n",
    "    return make_response(\n",
    "        jsonify(\n",
    "            message ='Evidencias',\n",
    "            data = evidencias\n",
    "        )\n",
    "    )\n",
    "```"
   ]
  },
  {
   "cell_type": "markdown",
   "id": "77c53f49",
   "metadata": {},
   "source": [
    "```python\n",
    "@app.route('/variantes', methods=['GET'])\n",
    "def get_variantes():\n",
    "    cursor.execute('SELECT * FROM variantes')\n",
    "    lista_variantes = cursor.fetchall()\n",
    "\n",
    "    # Adicionando os rótulos das colunas;\n",
    "    variantes = list()\n",
    "    for variante in lista_variantes:\n",
    "        variantes.append(\n",
    "            {\n",
    "                'variant_id':variante[0],\n",
    "                'variant':variante[1],\n",
    "                'summary':variante[2],\n",
    "                'start':variante[3],\n",
    "                'stop':variante[4],\n",
    "                'reference_bases':variante[5],\n",
    "                'variant_bases':variante[6],\n",
    "                'representative_transcript':variante[7],\n",
    "                'ensembl_version':variante[8],\n",
    "                'reference_build':variante[9],\n",
    "                'variant_types':variante[10],\n",
    "                'hgvs_expressions':variante[11],\n",
    "                'civic_variant_evidence_score':variante[12],\n",
    "                'allele_registry_id':variante[13],\n",
    "                'clinvar_ids':variante[14],\n",
    "                'variant_aliases':variante[15]\n",
    "            }\n",
    "        )\n",
    "\n",
    "    return make_response(\n",
    "        jsonify(\n",
    "            message ='Variantes:',\n",
    "            data = variantes\n",
    "        )\n",
    "    )\n",
    "```"
   ]
  },
  {
   "attachments": {},
   "cell_type": "markdown",
   "id": "cf500dff",
   "metadata": {},
   "source": [
    "Por fim, rodamos a API com um comando do Flask:\n",
    "\n",
    "```python\n",
    "if __name__ == \"__main__\":\n",
    "    app.run()\n",
    "```"
   ]
  },
  {
   "attachments": {},
   "cell_type": "markdown",
   "id": "1ce03145",
   "metadata": {},
   "source": [
    "Para acessar a api, basta acessar http://164.152.32.139:5000"
   ]
  }
 ],
 "metadata": {
  "kernelspec": {
   "display_name": "Python 3 (ipykernel)",
   "language": "python",
   "name": "python3"
  },
  "language_info": {
   "codemirror_mode": {
    "name": "ipython",
    "version": 3
   },
   "file_extension": ".py",
   "mimetype": "text/x-python",
   "name": "python",
   "nbconvert_exporter": "python",
   "pygments_lexer": "ipython3",
   "version": "3.9.12"
  }
 },
 "nbformat": 4,
 "nbformat_minor": 5
}
