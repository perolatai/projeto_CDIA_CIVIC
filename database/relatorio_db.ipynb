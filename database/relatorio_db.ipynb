{
 "cells": [
  {
   "attachments": {},
   "cell_type": "markdown",
   "metadata": {},
   "source": [
    "# Criando um banco de dados e inserindo dados"
   ]
  },
  {
   "attachments": {},
   "cell_type": "markdown",
   "metadata": {},
   "source": [
    "## Criando um banco de dados"
   ]
  },
  {
   "attachments": {},
   "cell_type": "markdown",
   "metadata": {},
   "source": [
    "Para o banco de dados, utilizamos o MySQL, criando 3 tabelas, genes, variantes e evidencias. A tabela genes contém os genes que foram analisados, a tabela variantes contém as variantes encontradas e a tabela evidencias contém as evidências encontradas para cada variante."
   ]
  },
  {
   "attachments": {},
   "cell_type": "markdown",
   "metadata": {},
   "source": [
    "<img src=\"https://raw.githubusercontent.com/perolatai/projeto_CDIA_CIVIC/main/database/civic_erd.png\">"
   ]
  },
  {
   "cell_type": "code",
   "execution_count": null,
   "metadata": {
    "vscode": {
     "languageId": "sql"
    }
   },
   "outputs": [],
   "source": [
    "CREATE TABLE genes\n",
    "(\n",
    "    entrez_id INTEGER PRIMARY KEY,\n",
    "    gene VARCHAR(255),\n",
    "    description TEXT\n",
    ");\n",
    "\n",
    "CREATE TABLE variantes\n",
    "(\n",
    "    variant_id INTEGER PRIMARY KEY,\n",
    "    variant VARCHAR(255),\n",
    "    summary TEXT,\n",
    "    start VARCHAR(255),\n",
    "    stop VARCHAR(255),\n",
    "    reference_bases VARCHAR(255),\n",
    "    variant_bases VARCHAR(255),\n",
    "    representative_transcript VARCHAR(255),\n",
    "    ensembl_version FLOAT,\n",
    "    reference_build VARCHAR(255),\n",
    "    variant_types VARCHAR(255),\n",
    "    hgvs_expressions VARCHAR(255),\n",
    "    civic_variant_evidence_score FLOAT,\n",
    "    allele_registry_id VARCHAR(255),\n",
    "    clinvar_ids VARCHAR(255),\n",
    "    variant_aliases VARCHAR(255)\n",
    ");\n",
    "\n",
    "CREATE TABLE evidencias\n",
    "(\n",
    "    evidence_id INTEGER PRIMARY KEY,\n",
    "    entrez_id INTEGER,\n",
    "    disease VARCHAR(255),\n",
    "    doid FLOAT,\n",
    "    phenotypes VARCHAR(255),\n",
    "    drugs VARCHAR(255),\n",
    "    drug_interaction_type VARCHAR(255),\n",
    "    evidence_type VARCHAR(255),\n",
    "    evidence_direction VARCHAR(255),\n",
    "    evidence_level VARCHAR(255),\n",
    "    clinical_significance VARCHAR(255),\n",
    "    evidence_statement TEXT,\n",
    "    citation_id INTEGER,\n",
    "    source_type VARCHAR(255),\n",
    "    citation VARCHAR(255),\n",
    "    rating FLOAT,\n",
    "    evidence_status VARCHAR(255),\n",
    "    variant_id INTEGER,\n",
    "    chromosome VARCHAR(255),\n",
    "    variant_origin VARCHAR(255),\n",
    "    is_flagged BOOLEAN,\n",
    "    FOREIGN KEY (entrez_id) REFERENCES genes(entrez_id),\n",
    "    FOREIGN KEY (variant_id) REFERENCES variantes(variant_id)\n",
    ");"
   ]
  },
  {
   "attachments": {},
   "cell_type": "markdown",
   "metadata": {},
   "source": [
    "A tabela evidencias possui uma chave estrangeira para a tabela variantes, que é a variante_id e uma chave estrangeira para a tabela genes, que é a gene_id, possibilitando a ligação entre as tabelas."
   ]
  },
  {
   "attachments": {},
   "cell_type": "markdown",
   "metadata": {},
   "source": [
    "## Inserindo dados"
   ]
  },
  {
   "attachments": {},
   "cell_type": "markdown",
   "metadata": {},
   "source": [
    "Ao extrairmosos dados da API, utilizamos os arquivos para inserir os dados em nosso banco de dados, atraves de um script em python."
   ]
  },
  {
   "cell_type": "code",
   "execution_count": null,
   "metadata": {},
   "outputs": [],
   "source": [
    "def insert_dataframe_into_mysql(df, table_name, connection):\n",
    "    cursor = connection.cursor()\n",
    "    placeholders = ', '.join(['%s'] * len(df.columns))\n",
    "    columns = ', '.join(df.columns)\n",
    "    sql = f\"INSERT INTO {table_name} ({columns}) VALUES ({placeholders})\"\n",
    "    for _, row in df.iterrows():\n",
    "        row = pd.concat([pd.Series([0]), row])\n",
    "        row = row.iloc[1:]\n",
    "        values = tuple(row.fillna('None'))\n",
    "        cursor.execute(sql, values)\n",
    "    connection.commit()\n",
    "\n",
    "\n",
    "insert_dataframe_into_mysql(df_Gene, 'genes', conn)\n",
    "insert_dataframe_into_mysql(df_Variant, 'variantes', conn)\n",
    "insert_dataframe_into_mysql(df_Evidences, 'evidencias', conn)"
   ]
  },
  {
   "attachments": {},
   "cell_type": "markdown",
   "metadata": {},
   "source": [
    "## Disponibilizando os dados"
   ]
  },
  {
   "attachments": {},
   "cell_type": "markdown",
   "metadata": {},
   "source": [
    "Para que o grupo tenha acesso a todo momento aos dados, disponibilizamos um banco de dados na nuvem, para que possam acessar e fazer consultas, através do site [https://www.elephantsql.com/](https://www.elephantsql.com/), que utilizam o PostgreSQL como banco de dados.\n",
    "\n",
    "Para acessarmos os dados, utilizamos o seguitne comando:"
   ]
  },
  {
   "cell_type": "code",
   "execution_count": null,
   "metadata": {},
   "outputs": [],
   "source": [
    "conn = psycopg2.connect(\n",
    "    database=database,\n",
    "    host=host,\n",
    "    user=user,\n",
    "    password=password,\n",
    "    port=port)"
   ]
  }
 ],
 "metadata": {
  "language_info": {
   "name": "python"
  },
  "orig_nbformat": 4
 },
 "nbformat": 4,
 "nbformat_minor": 2
}
