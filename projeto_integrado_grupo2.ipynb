{
 "cells": [
  {
   "attachments": {},
   "cell_type": "markdown",
   "metadata": {},
   "source": [
    "# PROJETO INTEGRADO CDIA5 - GRUPO 2"
   ]
  },
  {
   "attachments": {},
   "cell_type": "markdown",
   "metadata": {},
   "source": [
    "## Coletando dados de uma API\n",
    "\n",
    "### Visão geral\n",
    "\n",
    "Esse caderno tem como objetivo coletar os dados da API publica CIViC (Clinical Interpretation of variants in cancer) e transforma-los em dataframes.\n",
    "\n",
    "### Objetivo do código\n",
    "\n",
    "Acessar a API CIViC e coletar os dados fornecidos."
   ]
  },
  {
   "cell_type": "code",
   "execution_count": 1,
   "metadata": {},
   "outputs": [],
   "source": [
    "#Importações\n",
    "import requests\n",
    "import json\n",
    "import pandas as pd"
   ]
  },
  {
   "attachments": {},
   "cell_type": "markdown",
   "metadata": {},
   "source": [
    "## API's\n",
    "\n",
    "Existem quatro tipos de informações diferentes que podem ser acessadas, cada um com seu próprio endereço na API. Por padrão, recebemos uma informação por vez. No entanto, estamos mudando o valor \"count\" para recebermos mais informações em uma unica chamada.\n",
    "\n",
    "URL's para coletar os valores*\n",
    "\n",
    "Evidences: \"https://civicdb.org/api/evidence_items\".\n",
    "\n",
    "Variant: \"https://civicdb.org/api/variants\".\n",
    "\n",
    "Gene: \"https://civicdb.org/api/genes\".\n",
    "\n",
    "Para cada uma das APIs, faremos uma solicitação GET, sendo que cada uma delas possui um retorno diferente. A fim de garantir que a solicitação de coleta tenha sido aceita, verificaremos o \"status_code\". Os códigos mais comuns incluem:\n",
    "\n",
    "200: tudo funcionou conforme o esperado e a validação dos dados foi realizada com sucesso.\n",
    "\n",
    "400: ocorreram problemas durante a autenticação.\n",
    "\n",
    "401: este erro ocorre quando há algum problema na requisição.\n",
    "\n",
    "500: ocorreu algum erro interno no servidor.\n",
    "\n",
    "Além disso, manteremos um padrão de 10.000 para o retorno."
   ]
  },
  {
   "cell_type": "code",
   "execution_count": 2,
   "metadata": {},
   "outputs": [],
   "source": [
    "#URL da API\n",
    "Evidences = requests.get('https://civicdb.org/api/evidence_items?count=10000')\n",
    "Variant = requests.get('https://civicdb.org/api/variants?count=10000')\n",
    "Gene = requests.get('https://civicdb.org/api/genes?count=10000')"
   ]
  },
  {
   "cell_type": "code",
   "execution_count": 3,
   "metadata": {},
   "outputs": [
    {
     "name": "stdout",
     "output_type": "stream",
     "text": [
      "Status_code de Evidences: 200\n",
      "Status_code de Variant: 200\n",
      "Status_code de Gene: 200\n"
     ]
    }
   ],
   "source": [
    "#Codigo de status \n",
    "print(f\"Status_code de Evidences: {Evidences.status_code}\")\n",
    "print(f\"Status_code de Variant: {Variant.status_code}\")\n",
    "print(f\"Status_code de Gene: {Gene.status_code}\")"
   ]
  },
  {
   "attachments": {},
   "cell_type": "markdown",
   "metadata": {},
   "source": [
    "Json.loads() É um método usado para decodificar uma string JSON em um objeto Python. O objeto Python resultante pode ser uma lista, um dicionário, um valor de string, um número, um valor booleano ou None. A função .content é usada para retornar o conteúdo de uma resposta HTTP em formato de bytes.\n",
    "\n",
    "Converteremos o conteúdo da resposta HTTP, que é originalmente uma string no formato JSON, para um dicionário Python utilizando a função .loads."
   ]
  },
  {
   "cell_type": "code",
   "execution_count": 4,
   "metadata": {},
   "outputs": [],
   "source": [
    "#Json.load: Pega um objeto em arquivo e retorna o objeto json;\n",
    "#contente: Retorna o contéudo da resposta em dicionario.\n",
    "Evidences_dict=json.loads(Evidences.content)\n",
    "Variant_dict=json.loads(Variant.content)\n",
    "Gene_dict=json.loads(Gene.content)"
   ]
  },
  {
   "attachments": {},
   "cell_type": "markdown",
   "metadata": {},
   "source": [
    "Utilizando o método pd.DataFrame iremos converter o dicionário Python em um dataframe pandas com os dados retornados pela API."
   ]
  },
  {
   "cell_type": "code",
   "execution_count": 5,
   "metadata": {},
   "outputs": [],
   "source": [
    "#Pega apenas uma das chaves que a URL retorna e a transforma em um dataframe.\n",
    "df_evidences=pd.DataFrame(Evidences_dict[\"records\"])\n",
    "df_variant=pd.DataFrame(Variant_dict[\"records\"])\n",
    "df_gene=pd.DataFrame(Gene_dict[\"records\"])"
   ]
  },
  {
   "cell_type": "code",
   "execution_count": 6,
   "metadata": {},
   "outputs": [],
   "source": [
    "#Salva o dataframe criado.\n",
    "df_evidences.to_csv('Evidence.csv', index=False)\n",
    "df_variant.to_csv('Variants.csv', index=False)\n",
    "df_gene.to_csv('Genes.csv', index=False)"
   ]
  },
  {
   "attachments": {},
   "cell_type": "markdown",
   "metadata": {},
   "source": [
    "Em virtude das informações citadas acima, entendemos que esse código busca um grande conjunto de dados em 3 URL's diferentes, Gene, Evidences, Variants e os transforma em dataset para que possam ser usados posteriormente."
   ]
  },
  {
   "attachments": {},
   "cell_type": "markdown",
   "metadata": {},
   "source": [
    "## Junção CSV's CIViC\n",
    "\n",
    "Infelizmente, os dados que a API oferece não são suficientes para a realização da nossa análise. Por isso, usaremos dados fornecidos pelo CIViC. Assim como na API, os arquivos CSV também estão separados e precisam ser mesclados. Para isso, iremos utilizar a função \"merge\".\n",
    "\n",
    "Abaixo, definiremos os arquivos que iremos utilizar."
   ]
  },
  {
   "cell_type": "code",
   "execution_count": 7,
   "metadata": {},
   "outputs": [],
   "source": [
    "#Definiçao dos arquivos que serão utilizados\n",
    "df_Variant = pd.read_csv('01-Apr-2022-VariantSummaries.csv')\n",
    "df_Evidences = pd.read_csv('01-Apr-2022-ClinicalEvidenceSummaries.csv')\n",
    "df_Gene = pd.read_csv('01-Apr-2022-GeneSummaries.csv')"
   ]
  },
  {
   "attachments": {},
   "cell_type": "markdown",
   "metadata": {},
   "source": [
    "Possuímos três DataFrames diferentes: df_Variant, que possui 1533 linhas e 33 colunas, df_evidences, que possui 3897 linhas e 42 colunas e df_gene com 477 linhas e 7 colunas.\n",
    "\n",
    "Antes de podermos realizar o merge, precisamos fazer um pequeno tratamento nos dados fornecidos. Inicialmente, iremos trocar o nome de duas colunas, que possue o mesmo valor e significado, porém com nome diferente em outros df's."
   ]
  },
  {
   "cell_type": "code",
   "execution_count": 8,
   "metadata": {},
   "outputs": [],
   "source": [
    "#Trocando o nome da coluna name para gene.\n",
    "df_Variant.rename(columns={'summary': 'variant_summary'}, inplace = True)\n",
    "df_Gene.rename(columns={'name': 'gene'}, inplace = True)"
   ]
  },
  {
   "attachments": {},
   "cell_type": "markdown",
   "metadata": {},
   "source": [
    "Também precisamos apagar algumas colunas, pois elas não se encontram em nenhum outro df, e por conta disso, a mesclagem se torna um problema. Essas colunas serão excluídas, mas nenhum dado importante será perdido."
   ]
  },
  {
   "cell_type": "code",
   "execution_count": 9,
   "metadata": {},
   "outputs": [],
   "source": [
    "#Apagando colunas\n",
    "df_Variant = df_Variant.drop(['assertion_ids', 'is_flagged'],axis=1)\n",
    "df_Gene = df_Gene.drop(['gene_civic_url', 'last_review_date', 'is_flagged'],axis=1)"
   ]
  },
  {
   "attachments": {},
   "cell_type": "markdown",
   "metadata": {},
   "source": [
    "Com os df's tratados, podemos realizar o merge. Inicialmente, iremos juntar o df_Variant tratado e o df_Evidences. Assim, criaremos um df nomeado CIViC que possui a junção de todos os registros dos dois conjuntos de dados originais.\n",
    "\n",
    "Para que essa mesclagem funcione, usaremos como chave a coluna 'variant_id'.\n",
    "\n",
    "Para que nossos dados não fiquem poluídos e que não precisemos ter um trabalho extra excluindo colunas repetidas que serão geradas com o merge, pois nosso conjunto de dados possuem colunas com o mesmo nome, iremos definir o parâmetro \"suffixes\" como uma tupla vazia e uma tupla com o sufixo \"_y\", o que garantirá que não haverá colunas duplicadas após a junção.\n",
    "\n",
    "Após a junção, usaremos o método \"filter\" para selecionar apenas as colunas que possuem o sufixo \"_y\" no nome e usaremos o método \"drop\" para removê-las."
   ]
  },
  {
   "cell_type": "code",
   "execution_count": 10,
   "metadata": {},
   "outputs": [],
   "source": [
    "#Merge entre Civic e df_Variant\n",
    "civic = pd.merge(df_Evidences, df_Variant,  left_on='variant_id', right_on='variant_id', how='left', suffixes=('','_y'))\n",
    "civic.drop(civic.filter(regex='_y$').columns, axis=1, inplace=True)"
   ]
  },
  {
   "attachments": {},
   "cell_type": "markdown",
   "metadata": {},
   "source": [
    "Em seguida juntaremos ao conjunto total ao df_Gene. Usaremos as colunas \"gene\" como chave de junção e passaremos o mesmo parâmetro \"suffixes\" para apagar colunas duplicadas."
   ]
  },
  {
   "cell_type": "code",
   "execution_count": 11,
   "metadata": {},
   "outputs": [],
   "source": [
    "#Merge entre Civic e df_gene\n",
    "civic = pd.merge(civic, df_Gene,  left_on='gene', right_on='gene', how='left', suffixes=('','_y'))\n",
    "civic.drop(civic.filter(regex='_y$').columns, axis=1, inplace=True)"
   ]
  },
  {
   "attachments": {},
   "cell_type": "markdown",
   "metadata": {},
   "source": [
    "Agora, com o dataframe pronto, realizaremos o último tratamento dessa etapa. Aqui, apagaremos colunas sem valor para nossa análise, como URLs e a última edição (\"last_review_date\"), colunas com valores nulos em todos os dataframes."
   ]
  },
  {
   "cell_type": "code",
   "execution_count": 12,
   "metadata": {},
   "outputs": [
    {
     "data": {
      "text/html": [
       "<div>\n",
       "<style scoped>\n",
       "    .dataframe tbody tr th:only-of-type {\n",
       "        vertical-align: middle;\n",
       "    }\n",
       "\n",
       "    .dataframe tbody tr th {\n",
       "        vertical-align: top;\n",
       "    }\n",
       "\n",
       "    .dataframe thead th {\n",
       "        text-align: right;\n",
       "    }\n",
       "</style>\n",
       "<table border=\"1\" class=\"dataframe\">\n",
       "  <thead>\n",
       "    <tr style=\"text-align: right;\">\n",
       "      <th></th>\n",
       "      <th>gene</th>\n",
       "      <th>entrez_id</th>\n",
       "      <th>variant</th>\n",
       "      <th>disease</th>\n",
       "      <th>doid</th>\n",
       "      <th>phenotypes</th>\n",
       "      <th>drugs</th>\n",
       "      <th>drug_interaction_type</th>\n",
       "      <th>evidence_type</th>\n",
       "      <th>evidence_direction</th>\n",
       "      <th>...</th>\n",
       "      <th>variant_summary</th>\n",
       "      <th>variant_origin</th>\n",
       "      <th>is_flagged</th>\n",
       "      <th>variant_types</th>\n",
       "      <th>hgvs_expressions</th>\n",
       "      <th>civic_variant_evidence_score</th>\n",
       "      <th>allele_registry_id</th>\n",
       "      <th>clinvar_ids</th>\n",
       "      <th>variant_aliases</th>\n",
       "      <th>description</th>\n",
       "    </tr>\n",
       "  </thead>\n",
       "  <tbody>\n",
       "    <tr>\n",
       "      <th>0</th>\n",
       "      <td>JAK2</td>\n",
       "      <td>3717</td>\n",
       "      <td>V617F</td>\n",
       "      <td>Lymphoid Leukemia</td>\n",
       "      <td>1037.0</td>\n",
       "      <td>NaN</td>\n",
       "      <td>NaN</td>\n",
       "      <td>NaN</td>\n",
       "      <td>Diagnostic</td>\n",
       "      <td>Supports</td>\n",
       "      <td>...</td>\n",
       "      <td>JAK2 V617F is a highly recurrent mutation in m...</td>\n",
       "      <td>Somatic</td>\n",
       "      <td>False</td>\n",
       "      <td>missense_variant,gain_of_function_variant</td>\n",
       "      <td>NC_000009.11:g.5073770G&gt;T,NM_004972.3:c.1849G&gt;...</td>\n",
       "      <td>83.0</td>\n",
       "      <td>CA124183</td>\n",
       "      <td>14662</td>\n",
       "      <td>VAL617PHE,RS77375493</td>\n",
       "      <td>JAK2 is a kinase that is misregulated or mutat...</td>\n",
       "    </tr>\n",
       "    <tr>\n",
       "      <th>1</th>\n",
       "      <td>PDGFRA</td>\n",
       "      <td>5156</td>\n",
       "      <td>D842V</td>\n",
       "      <td>Gastrointestinal Stromal Tumor</td>\n",
       "      <td>9253.0</td>\n",
       "      <td>NaN</td>\n",
       "      <td>NaN</td>\n",
       "      <td>NaN</td>\n",
       "      <td>Diagnostic</td>\n",
       "      <td>Supports</td>\n",
       "      <td>...</td>\n",
       "      <td>PDGFRA D842 mutations are characterized broadl...</td>\n",
       "      <td>Somatic</td>\n",
       "      <td>False</td>\n",
       "      <td>missense_variant</td>\n",
       "      <td>NM_006206.4:c.2525A&gt;T,NP_006197.1:p.Asp842Val,...</td>\n",
       "      <td>100.5</td>\n",
       "      <td>CA123194</td>\n",
       "      <td>13543</td>\n",
       "      <td>ASP842VAL,RS121908585</td>\n",
       "      <td>Commonly mutated in GI tract tumors, PDGFR fam...</td>\n",
       "    </tr>\n",
       "    <tr>\n",
       "      <th>2</th>\n",
       "      <td>DNMT3A</td>\n",
       "      <td>1788</td>\n",
       "      <td>R882</td>\n",
       "      <td>Acute Myeloid Leukemia</td>\n",
       "      <td>9119.0</td>\n",
       "      <td>NaN</td>\n",
       "      <td>NaN</td>\n",
       "      <td>NaN</td>\n",
       "      <td>Diagnostic</td>\n",
       "      <td>Supports</td>\n",
       "      <td>...</td>\n",
       "      <td>DNMT3A R882 mutations are associated with cyto...</td>\n",
       "      <td>Somatic</td>\n",
       "      <td>False</td>\n",
       "      <td>missense_variant</td>\n",
       "      <td>NaN</td>\n",
       "      <td>510.0</td>\n",
       "      <td>NaN</td>\n",
       "      <td>375882,375883,375884,375879,375880,375881</td>\n",
       "      <td>R693,ARG882,ARG693</td>\n",
       "      <td>DNMT3A is one of several epigenetic modifiers ...</td>\n",
       "    </tr>\n",
       "    <tr>\n",
       "      <th>3</th>\n",
       "      <td>DNMT3A</td>\n",
       "      <td>1788</td>\n",
       "      <td>R882</td>\n",
       "      <td>Acute Myeloid Leukemia</td>\n",
       "      <td>9119.0</td>\n",
       "      <td>NaN</td>\n",
       "      <td>NaN</td>\n",
       "      <td>NaN</td>\n",
       "      <td>Diagnostic</td>\n",
       "      <td>Supports</td>\n",
       "      <td>...</td>\n",
       "      <td>DNMT3A R882 mutations are associated with cyto...</td>\n",
       "      <td>Somatic</td>\n",
       "      <td>False</td>\n",
       "      <td>missense_variant</td>\n",
       "      <td>NaN</td>\n",
       "      <td>510.0</td>\n",
       "      <td>NaN</td>\n",
       "      <td>375882,375883,375884,375879,375880,375881</td>\n",
       "      <td>R693,ARG882,ARG693</td>\n",
       "      <td>DNMT3A is one of several epigenetic modifiers ...</td>\n",
       "    </tr>\n",
       "    <tr>\n",
       "      <th>4</th>\n",
       "      <td>JAK2</td>\n",
       "      <td>3717</td>\n",
       "      <td>V617F</td>\n",
       "      <td>Chronic Myeloid Leukemia</td>\n",
       "      <td>8552.0</td>\n",
       "      <td>NaN</td>\n",
       "      <td>NaN</td>\n",
       "      <td>NaN</td>\n",
       "      <td>Diagnostic</td>\n",
       "      <td>Supports</td>\n",
       "      <td>...</td>\n",
       "      <td>JAK2 V617F is a highly recurrent mutation in m...</td>\n",
       "      <td>Somatic</td>\n",
       "      <td>False</td>\n",
       "      <td>missense_variant,gain_of_function_variant</td>\n",
       "      <td>NC_000009.11:g.5073770G&gt;T,NM_004972.3:c.1849G&gt;...</td>\n",
       "      <td>83.0</td>\n",
       "      <td>CA124183</td>\n",
       "      <td>14662</td>\n",
       "      <td>VAL617PHE,RS77375493</td>\n",
       "      <td>JAK2 is a kinase that is misregulated or mutat...</td>\n",
       "    </tr>\n",
       "  </tbody>\n",
       "</table>\n",
       "<p>5 rows × 39 columns</p>\n",
       "</div>"
      ],
      "text/plain": [
       "     gene  entrez_id variant                         disease    doid   \n",
       "0    JAK2       3717   V617F               Lymphoid Leukemia  1037.0  \\\n",
       "1  PDGFRA       5156   D842V  Gastrointestinal Stromal Tumor  9253.0   \n",
       "2  DNMT3A       1788    R882          Acute Myeloid Leukemia  9119.0   \n",
       "3  DNMT3A       1788    R882          Acute Myeloid Leukemia  9119.0   \n",
       "4    JAK2       3717   V617F        Chronic Myeloid Leukemia  8552.0   \n",
       "\n",
       "  phenotypes drugs drug_interaction_type evidence_type evidence_direction   \n",
       "0        NaN   NaN                   NaN    Diagnostic           Supports  \\\n",
       "1        NaN   NaN                   NaN    Diagnostic           Supports   \n",
       "2        NaN   NaN                   NaN    Diagnostic           Supports   \n",
       "3        NaN   NaN                   NaN    Diagnostic           Supports   \n",
       "4        NaN   NaN                   NaN    Diagnostic           Supports   \n",
       "\n",
       "   ...                                    variant_summary variant_origin   \n",
       "0  ...  JAK2 V617F is a highly recurrent mutation in m...        Somatic  \\\n",
       "1  ...  PDGFRA D842 mutations are characterized broadl...        Somatic   \n",
       "2  ...  DNMT3A R882 mutations are associated with cyto...        Somatic   \n",
       "3  ...  DNMT3A R882 mutations are associated with cyto...        Somatic   \n",
       "4  ...  JAK2 V617F is a highly recurrent mutation in m...        Somatic   \n",
       "\n",
       "  is_flagged                              variant_types   \n",
       "0      False  missense_variant,gain_of_function_variant  \\\n",
       "1      False                           missense_variant   \n",
       "2      False                           missense_variant   \n",
       "3      False                           missense_variant   \n",
       "4      False  missense_variant,gain_of_function_variant   \n",
       "\n",
       "                                    hgvs_expressions   \n",
       "0  NC_000009.11:g.5073770G>T,NM_004972.3:c.1849G>...  \\\n",
       "1  NM_006206.4:c.2525A>T,NP_006197.1:p.Asp842Val,...   \n",
       "2                                                NaN   \n",
       "3                                                NaN   \n",
       "4  NC_000009.11:g.5073770G>T,NM_004972.3:c.1849G>...   \n",
       "\n",
       "  civic_variant_evidence_score  allele_registry_id   \n",
       "0                         83.0            CA124183  \\\n",
       "1                        100.5            CA123194   \n",
       "2                        510.0                 NaN   \n",
       "3                        510.0                 NaN   \n",
       "4                         83.0            CA124183   \n",
       "\n",
       "                                 clinvar_ids        variant_aliases   \n",
       "0                                      14662   VAL617PHE,RS77375493  \\\n",
       "1                                      13543  ASP842VAL,RS121908585   \n",
       "2  375882,375883,375884,375879,375880,375881     R693,ARG882,ARG693   \n",
       "3  375882,375883,375884,375879,375880,375881     R693,ARG882,ARG693   \n",
       "4                                      14662   VAL617PHE,RS77375493   \n",
       "\n",
       "                                         description  \n",
       "0  JAK2 is a kinase that is misregulated or mutat...  \n",
       "1  Commonly mutated in GI tract tumors, PDGFR fam...  \n",
       "2  DNMT3A is one of several epigenetic modifiers ...  \n",
       "3  DNMT3A is one of several epigenetic modifiers ...  \n",
       "4  JAK2 is a kinase that is misregulated or mutat...  \n",
       "\n",
       "[5 rows x 39 columns]"
      ]
     },
     "execution_count": 12,
     "metadata": {},
     "output_type": "execute_result"
    }
   ],
   "source": [
    "#Removendo colunas\n",
    "civic = civic.drop(['gene_civic_url', 'Unnamed: 32', 'Unnamed: 31', 'Unnamed: 29',\n",
    "                    'Unnamed: 30', 'assertion_civic_urls', 'variant_civic_url', \n",
    "                    'evidence_civic_url', 'last_review_date', 'asco_abstract_id',\n",
    "                    'nct_ids', 'chromosome2', 'start2', 'stop2', 'representative_transcript2',\n",
    "                    'variant_groups'],axis=1)\n",
    "civic.head()"
   ]
  },
  {
   "cell_type": "code",
   "execution_count": 13,
   "metadata": {},
   "outputs": [
    {
     "data": {
      "text/plain": [
       "Index(['gene', 'entrez_id', 'variant', 'disease', 'doid', 'phenotypes',\n",
       "       'drugs', 'drug_interaction_type', 'evidence_type', 'evidence_direction',\n",
       "       'evidence_level', 'clinical_significance', 'evidence_statement',\n",
       "       'citation_id', 'source_type', 'citation', 'rating', 'evidence_status',\n",
       "       'evidence_id', 'variant_id', 'gene_id', 'chromosome', 'start', 'stop',\n",
       "       'reference_bases', 'variant_bases', 'representative_transcript',\n",
       "       'ensembl_version', 'reference_build', 'variant_summary',\n",
       "       'variant_origin', 'is_flagged', 'variant_types', 'hgvs_expressions',\n",
       "       'civic_variant_evidence_score', 'allele_registry_id', 'clinvar_ids',\n",
       "       'variant_aliases', 'description'],\n",
       "      dtype='object')"
      ]
     },
     "execution_count": 13,
     "metadata": {},
     "output_type": "execute_result"
    }
   ],
   "source": [
    "civic.columns"
   ]
  },
  {
   "attachments": {},
   "cell_type": "markdown",
   "metadata": {},
   "source": [
    "Diante disso, podemos ver que nosso código consiste na leitura de três arquivos csv fornecidos pelo proprio CIViC, e na sua mesclagem em um dataframe final chamado civic, tambem possuimos alguns tratamentos sendo realizados nos dados, como a exclusão de colunas, a renomeação de colunas e a remoçao de valores duplicados. Ao final o Dataframe civic é salvo em um arquivo csv para ser utilizado posteriormente."
   ]
  },
  {
   "cell_type": "code",
   "execution_count": 14,
   "metadata": {},
   "outputs": [],
   "source": [
    "#Salvando o df Civic como um csv\n",
    "civic.to_csv('civic.csv', index=False)"
   ]
  },
  {
   "attachments": {},
   "cell_type": "markdown",
   "metadata": {},
   "source": [
    "# Análise Descritiva"
   ]
  },
  {
   "cell_type": "code",
   "execution_count": 15,
   "metadata": {},
   "outputs": [
    {
     "name": "stdout",
     "output_type": "stream",
     "text": [
      "O Conjunto de dados possui 3897 linhas e 39 colunas.\n"
     ]
    }
   ],
   "source": [
    "#Consultando numero de colunas e linhas.\n",
    "print(f'O Conjunto de dados possui {civic.shape[0]} linhas e {civic.shape[1]} colunas.')"
   ]
  },
  {
   "attachments": {},
   "cell_type": "markdown",
   "metadata": {},
   "source": [
    "### Descrição das colunas:\n",
    "\n",
    "- **Gene:** Nome do gene que sofreu a multação;\n",
    "- **entrez_id:** ID do gene;\n",
    "- **variant:** Descrição do tipo de variante;\n",
    "- **disease:** Doença específica ou subtipo de doença associada;\n",
    "- **doid:** ID de disease;\n",
    "- **phenotypes:** Fenótipo específico associado a declaração de evidências;\n",
    "- **drugs:** Droga usada durante o tratamento;\n",
    "- **evidence_type:** Categoria da ação clínica/relevância implicada pelo evento. (Predictive - Evidência pertencente ao efeito de um perfil molecular na resposta terapêutica. Diagnostic - Evidência relativa ao impacto de um perfil molecular no diagnóstico do paciente. Prognostic - Evidência pertencente ao impacto de um perfil molecular na progressão da doença, gravidade ou sobrevida do paciente; Predisposing - A evidência refere-se ao papel de um perfil molecular da linhagem germinativa em conferir suscetibilidade à doença (incluindo avaliações de patogenicidade); Oncogenic - A evidência refere-se ao envolvimento de um perfil molecular somático na patogênese do tumor; Functional - A evidência refere-se ao impacto de um perfil molecular na função do produto gênico(por exemplo, proteína));\n",
    "- **evidence_direction:** Um indicador de se a declaração de evidência apóia ou refuta a importância de um evento. (Supports ou Does not support);\n",
    "- **clinical_significance:** O impacto do perfil molecular (uma ou mais variantes) para tipos de evidências preditivas, prognósticas, diagnósticas, oncogênicas ou funcionais. (Sensitivity/Response - Associada a uma resposta clínica ou pré-clínica ao tratamento; Reduced Sensitivity - A resposta ao tratamento é menor do que a observada em outros contextos de tratamento; Resistance - Associada á resistência clínica ou pré-clínica ao tratamento; Adverse Response - Associada a uma resposta adversa ao tratamento medicamentoso; N/A - A variante não informa o interpretação clínica; Positive - Associada ao diagnóstico de doença ou subtipo; Negative - Associada á ausência de doença ou subtipo; Better outcome - Demonstra resultado clínico melhor do que o esperado; Poor outcome - Demonstra resultado clínico pior do que o esperado; Pathogenic - As evidências podem contribuir para uma interpretação de patogênico/benigno no nível de afirmação; Proteção - A presença de um perfil molecular germinativo reduz a chance de cancêr;\n",
    "- **variant_id:** ID da variante.\n",
    "- **gene_id:** ID do gene (Exibido automaticamente pela interface CIVIC.)\n",
    "- **is_flagged:** Se o paciente deu algum sinal de que possuia cancêr antes do inicio do tratamento. (Fácil detecção);\n",
    "- **drug_interaction_type:** Se a droga usada durante o tratamento teve que ser substituida ou combinada/complementada;\n",
    "- **evidence_level:** Descreve a robustez do tipo de estudo que suporta o item de evidência; (A - Associação validad, B - Evidência clínica, C - Estudo de caso, D - Evidência pré-clínica, E - Associação inferencial);\n",
    "- **evidence_statement:** Detalhes de tipos específicos de declarações de evidências: Uma reiteração do tipo de evidência, perfil molecular (variante), gene e doença;\n",
    "- **citation_id:** ID de citation\n",
    "- **source_type:** Tipo de fonte e ID, vincula o item de evidência à publicação original que suporta as reivindicações de evidência.\n",
    "- **citation:** Publicação onde o evento foi descrito/explorado gerado automaticamente a partir do ID PudMed fornecido pelo curador e links para a página interna da publicaçãi CIVIC mostrando todos os itens de evidência da publicação;\n",
    "- **rating:** Discernir rapidamente o quão bem a evidência derivada do artigo ou fonte suporta uma determinada declaração de evidência, um sistema de classificação de cinco estrelas é usado, (5 -Evidência fortes e bem fundamentadas de um laboratório ou periódico com reputação acadêmica respeitada. Os experimentos são bem controlados e os resultados são limpos e reprodutíveis em várias réplicas. Evidências confirmadas por métodos independentes. O estudo é estatisticamente bem alimentado, 4 - Evidência forte e bem suportada. As experiências são bem controladas e os resultados são convincentes. Quaisquer discrepâncias dos resultados esperados são bem explicadas e não são preocupantes, 3 - As evidências são convincentes, mas não apoiadas por uma variedade de experimentos. Podem ser projetos de menor escala ou novos resultados sem muitos experimentos de acompanhamento. As discrepâncias dos resultados esperados são explicadas e não são preocupantes, 2 - As evidências não são bem apoiadas por dados experimentais e poucos dados de acompanhamento estão disponíveis. A publicação é de um periódico de baixo impacto acadêmico. Os experimentos podem carecer de controles adequados, ter tamanho de amostra pequeno ou não serem estatisticamente convincentes, 1 - A alegação não é bem apoiada por evidências experimentais. Os resultados não são reprodutíveis ou têm um tamanho de amostra muito pequeno. Nenhum acompanhamento é feito para validar novas reivindicações.);\n",
    "- **evidence_status:** Se o experimento apoio ou não apoia a variante usada;\n",
    "- **evidence_id:** ID da evidencia;\n",
    "- **chromosome:** Nome do cromossomo no qual ocorre a variante;\n",
    "- **stat:** Posições inicial da variante (coordenada do genoma baseada em 1).\n",
    "- **stop:** Posições final da variante. A partida deve ser menor ou igual à parada.\n",
    "- **reference_bases:** A base nucleotídica do alelo de referência e variante (por exemplo, 'C', 'A');\n",
    "- **variant_bases:** A base nucleotídica do alelo de referência e variante (por exemplo, 'C', 'A');\n",
    "- **representative_transcript:** ID da transcrição do conjunto e número da versão para uma transcrição conhecida do gene que contém a variante;\n",
    "- **ensembl_version:** Versão de compilação da anotação Ensembl.\n",
    "- **reference_build:** Versão de montagem de referência humana NCBI ou GRC.\n",
    "- **variant_summary:** Descrição curta da variante; (Explicação do gene e do cancêr);\n",
    "- **variant_origin:** Como a variante começou. (Somatic - Essas variantes surgem pontualmente em algumas células do corpo e não são passadas de pai para filho, causa mais comum de câncer e resultam de danos acumulados no DNA ao longo da vida, Rare Germline- Tipo menos comum de cancêr, está presente nas células germinativas(gametas:espermatozoides e óvulos) e é passada diretamente de pai pra fiho no momento da concepção);\n",
    "- **variant_types:** Os tipos de variantes são usados para classificar variantes por termos de Ontologia de Sequência. (missense_variant - Uma variante de sequência, que muda uma ou mais bases, resultando em uma sequência de aminoácidos diferente, mas onde o comprimento é preservado, stop_gained - Uma variante de sequência em que pelo menos uma base de um códon é alterada, resultando em um códon de parada prematuro, levando a um polipeptídeo encurtado, protein_altering_variant - Uma sequência_variante que é prevista para alterar a proteína codificada na sequência de codificação, frameshift_truncamento - Uma variante de deslocamento de quadro que faz com que o quadro de leitura translacional seja encurtado em relação ao recurso de referência, inframe_deletion - Uma variante não sinônima de quadro que exclui bases da sequência de codificação, inframe_insertion - Uma variante não sinônima do quadro que insere bases na sequência de codificação, splice_acceptor_variant - Uma variante que afeta o local aceitador de splicing de RNA (ou seja, a montante ou a montante/3prime de uma borda de exon), splice_donor_variant - Uma variante que afeta o local receptor do doador de RNA (ou seja, a jusante/5prime de uma borda de exon), gene_variant - Uma variante de sequência em que a estrutura do gene é alterada, transcrição_variante - Uma variante de sequência que altera a estrutura da transcrição, loss_of_function_variant - Uma variante de sequência pela qual o produto do gene diminuiu ou aboliu a função, gain_of_function_variant - Uma variante de sequência pela qual uma função nova ou aprimorada é conferida ao produto gênico);\n",
    "- **hgvs_expressions:** Strings HGVS definidas pelo usuário seguindo a nomenclatura HGVS que representam esta Variante no nível de DNA, RNA ou proteína;\n",
    "- **civic_variant_evidence_score:** \n",
    "- **allele_registry_id:** Identificador de registro de alelo (id de CA) vinculado à página de registro de alelo ClinGen correspondente. Este link é gerado automaticamente usando as coordenadas primárias selecionadas (cromossomo, início, parada, base de referência, base variante).\n",
    "- **clinvar_ids:** ID ClinVar definido pelo usuário referenciando esta variante que será vinculada diretamente ao ClinVar. Um valor de “Nenhum especificado” indica que a variante não foi avaliada para uma ID ClinVar. Um valor de “None Found” indica que foi feita uma tentativa de encontrar uma entrada ClinVar correspondente, mas não existe nenhuma. Um valor de “N/A” indica que um registro ClinVar não é aplicável à variante\n",
    "- **variant_aliases:** Nomes alternativos para esta variante. Podem ser versões mais detalhadas (por exemplo, 'Val600Glu'), IDs dbSNP ou nomenclatura alternativa usada na literatura.\n",
    "- **description:** Descrição do gene e cancêr que será tratado."
   ]
  },
  {
   "cell_type": "code",
   "execution_count": 16,
   "metadata": {},
   "outputs": [
    {
     "data": {
      "text/plain": [
       "gene                             object\n",
       "entrez_id                         int64\n",
       "variant                          object\n",
       "disease                          object\n",
       "doid                            float64\n",
       "phenotypes                       object\n",
       "drugs                            object\n",
       "drug_interaction_type            object\n",
       "evidence_type                    object\n",
       "evidence_direction               object\n",
       "evidence_level                   object\n",
       "clinical_significance            object\n",
       "evidence_statement               object\n",
       "citation_id                       int64\n",
       "source_type                      object\n",
       "citation                         object\n",
       "rating                          float64\n",
       "evidence_status                  object\n",
       "evidence_id                       int64\n",
       "variant_id                        int64\n",
       "gene_id                           int64\n",
       "chromosome                       object\n",
       "start                           float64\n",
       "stop                            float64\n",
       "reference_bases                  object\n",
       "variant_bases                    object\n",
       "representative_transcript        object\n",
       "ensembl_version                 float64\n",
       "reference_build                  object\n",
       "variant_summary                  object\n",
       "variant_origin                   object\n",
       "is_flagged                         bool\n",
       "variant_types                    object\n",
       "hgvs_expressions                 object\n",
       "civic_variant_evidence_score    float64\n",
       "allele_registry_id               object\n",
       "clinvar_ids                      object\n",
       "variant_aliases                  object\n",
       "description                      object\n",
       "dtype: object"
      ]
     },
     "execution_count": 16,
     "metadata": {},
     "output_type": "execute_result"
    }
   ],
   "source": [
    "#Verificando o tipo dos dados.\n",
    "civic.dtypes"
   ]
  },
  {
   "attachments": {},
   "cell_type": "markdown",
   "metadata": {},
   "source": [
    "A maior parte dos nossos dados está no formato \"object\", o que indica que antes do treinamento será necessário um tratamento para transformá-los em valores numéricos, tambem possuimos valores como \"bool\", \"int64\" e \"float64\""
   ]
  },
  {
   "cell_type": "code",
   "execution_count": 17,
   "metadata": {},
   "outputs": [
    {
     "data": {
      "text/plain": [
       "gene                               0\n",
       "entrez_id                          0\n",
       "variant                            0\n",
       "disease                           23\n",
       "doid                              32\n",
       "phenotypes                      3389\n",
       "drugs                           1448\n",
       "drug_interaction_type           3278\n",
       "evidence_type                      0\n",
       "evidence_direction               179\n",
       "evidence_level                     0\n",
       "clinical_significance            222\n",
       "evidence_statement                 0\n",
       "citation_id                        0\n",
       "source_type                        0\n",
       "citation                           0\n",
       "rating                            68\n",
       "evidence_status                    0\n",
       "evidence_id                        0\n",
       "variant_id                         0\n",
       "gene_id                            0\n",
       "chromosome                       435\n",
       "start                            436\n",
       "stop                             436\n",
       "reference_bases                 2000\n",
       "variant_bases                   2055\n",
       "representative_transcript        466\n",
       "ensembl_version                  475\n",
       "reference_build                  426\n",
       "variant_summary                 2510\n",
       "variant_origin                   348\n",
       "is_flagged                         0\n",
       "variant_types                    632\n",
       "hgvs_expressions                1954\n",
       "civic_variant_evidence_score       0\n",
       "allele_registry_id              1954\n",
       "clinvar_ids                     1832\n",
       "variant_aliases                 1501\n",
       "description                      759\n",
       "dtype: int64"
      ]
     },
     "execution_count": 17,
     "metadata": {},
     "output_type": "execute_result"
    }
   ],
   "source": [
    "#Verificando valores nulo\n",
    "civic.isnull().sum()"
   ]
  },
  {
   "cell_type": "code",
   "execution_count": 18,
   "metadata": {},
   "outputs": [
    {
     "data": {
      "text/plain": [
       "gene                             332\n",
       "entrez_id                        332\n",
       "variant                         1184\n",
       "disease                          237\n",
       "doid                             233\n",
       "phenotypes                       162\n",
       "drugs                            607\n",
       "drug_interaction_type              3\n",
       "evidence_type                      6\n",
       "evidence_direction                 2\n",
       "evidence_level                     5\n",
       "clinical_significance             15\n",
       "evidence_statement              3675\n",
       "citation_id                     1705\n",
       "source_type                        2\n",
       "citation                        1695\n",
       "rating                             5\n",
       "evidence_status                    1\n",
       "evidence_id                     3897\n",
       "variant_id                      1533\n",
       "gene_id                          332\n",
       "chromosome                        23\n",
       "start                            983\n",
       "stop                             988\n",
       "reference_bases                   54\n",
       "variant_bases                     42\n",
       "representative_transcript        333\n",
       "ensembl_version                    3\n",
       "reference_build                    2\n",
       "variant_summary                  239\n",
       "variant_origin                     4\n",
       "is_flagged                         2\n",
       "variant_types                     95\n",
       "hgvs_expressions                 749\n",
       "civic_variant_evidence_score     176\n",
       "allele_registry_id               751\n",
       "clinvar_ids                      479\n",
       "variant_aliases                  887\n",
       "description                       61\n",
       "dtype: int64"
      ]
     },
     "execution_count": 18,
     "metadata": {},
     "output_type": "execute_result"
    }
   ],
   "source": [
    "#Consultando se há dados duplicados\n",
    "civic.nunique()"
   ]
  },
  {
   "attachments": {},
   "cell_type": "markdown",
   "metadata": {},
   "source": [
    "Ao consultar a quantidade de dados duplicados em nossa base, foi constatado que há diversos valores repetidos. Isso pode ser explicado pelo fato de que várias pessoas podem apresentar o mesmo tipo de câncer em um determinado gene, além de serem tratadas com a mesma droga, entre outras situações que podem gerar informações similares."
   ]
  },
  {
   "attachments": {},
   "cell_type": "markdown",
   "metadata": {},
   "source": [
    "**Bibliografia:**\n",
    "\n",
    "https://docs.civicdb.org/en/latest/api.html#v1-api-deprecated https://civic.readthedocs.io/en/latest/model/variants/overview.html https://civic.readthedocs.io/en/latest/model/assertions/overview.html https://civic.readthedocs.io/en/latest/model/evidence.html https://civic.readthedocs.io/en/latest/model/genes.html https://civic.readthedocs.io/en/latest/model/evidence/type.html#evidence-type https://civic.readthedocs.io/en/latest/model/evidence/significance.html#evidence-significance"
   ]
  },
  {
   "attachments": {},
   "cell_type": "markdown",
   "metadata": {},
   "source": [
    "# Análise Exploratória"
   ]
  },
  {
   "cell_type": "code",
   "execution_count": 19,
   "metadata": {},
   "outputs": [],
   "source": [
    "#bibliotecas necessárias para os gráficos\n",
    "import seaborn as sns\n",
    "import matplotlib.pyplot as plt\n",
    "import plotly.express as px"
   ]
  },
  {
   "attachments": {},
   "cell_type": "markdown",
   "metadata": {},
   "source": [
    "### Análise Gráfica Exploratória das Principais Variáveis"
   ]
  },
  {
   "cell_type": "code",
   "execution_count": 20,
   "metadata": {},
   "outputs": [
    {
     "data": {
      "image/png": "[encoded data removed]",
      "text/plain": [
       "<Figure size 640x480 with 1 Axes>"
      ]
     },
     "metadata": {},
     "output_type": "display_data"
    }
   ],
   "source": [
    "#gráfico de genes com maior incidência\n",
    "sns.barplot(x = civic['gene'].value_counts()[:15],\n",
    "            y = civic['gene'].value_counts()[:15].index)\n",
    "plt.title(\"Genes com maior incidência\")\n",
    "plt.xlabel(\"Número de vezes relatados\")\n",
    "plt.ylabel(\"Gene\")\n",
    "plt.show()"
   ]
  },
  {
   "attachments": {},
   "cell_type": "markdown",
   "metadata": {},
   "source": [
    "Esse gráfico tem como objetivo mostrar os 15 primeiros genes com maior incidência, dessa forma podemos ver qual gene sofre mutação com mais frequência. \n",
    "\n",
    "OBS: O gene VHL resposavel pelo câncer renal secundário está em primeiro lugar na lista enquanto o gene TP53 responsavel pelo câncer de pele esta em 10° lugar e é o mais frequente no Brasil enquanto o de pulmão que é o mais comum no mundo e está em 21° lugar."
   ]
  },
  {
   "cell_type": "code",
   "execution_count": 21,
   "metadata": {},
   "outputs": [
    {
     "data": {
      "image/png": "[encoded data removed]",
      "text/plain": [
       "<Figure size 640x480 with 1 Axes>"
      ]
     },
     "metadata": {},
     "output_type": "display_data"
    }
   ],
   "source": [
    "#gráfico de variantes com maior incidência\n",
    "sns.barplot(x = civic['variant'].value_counts()[:15],\n",
    "            y = civic['variant'].value_counts()[:15].index)\n",
    "plt.title(\"Variantes com maior incidência\")\n",
    "plt.xlabel(\"Número de vezes relatados\")\n",
    "plt.ylabel(\"Variantes\")\n",
    "plt.show()"
   ]
  },
  {
   "attachments": {},
   "cell_type": "markdown",
   "metadata": {},
   "source": [
    "Nossa base de dados esta repleta de tipos de variants, nesse gráfico aptamos por mostrar apenas as 15° com maior incidência para uma melhor visualização."
   ]
  },
  {
   "cell_type": "code",
   "execution_count": 22,
   "metadata": {},
   "outputs": [
    {
     "data": {
      "image/png": "[encoded data removed]",
      "text/plain": [
       "<Figure size 640x480 with 1 Axes>"
      ]
     },
     "metadata": {},
     "output_type": "display_data"
    }
   ],
   "source": [
    "\n",
    "#gráfico de doenças com maior incidência\n",
    "sns.barplot(x = civic['disease'].value_counts()[:15],\n",
    "            y = civic['disease'].value_counts()[:15].index)\n",
    "plt.title(\"Doenças com Maior incidência\")\n",
    "plt.xlabel(\"Número de vezes relatados\")\n",
    "plt.ylabel(\"Doenças\")\n",
    "plt.show()"
   ]
  },
  {
   "attachments": {},
   "cell_type": "markdown",
   "metadata": {},
   "source": [
    "\n",
    "Assim como o gráfico de Variant optamos por mostrar apenas 15 itens pra melhor visualização. \n",
    "\n",
    "OBS: Podemos observar, por exemplo, que a doença Von Hippel-Lindau Disease esta diretamente ligada ao gene VHL, por isso ambos esta em primeiro lugar e com maior incidência."
   ]
  },
  {
   "cell_type": "code",
   "execution_count": 23,
   "metadata": {},
   "outputs": [
    {
     "data": {
      "image/png": "[encoded data removed]",
      "text/plain": [
       "<Figure size 640x480 with 1 Axes>"
      ]
     },
     "metadata": {},
     "output_type": "display_data"
    }
   ],
   "source": [
    "#gráfico de drogas com maior incidência\n",
    "sns.barplot(x = civic['drugs'].value_counts()[:20],\n",
    "            y = civic['drugs'].value_counts()[:20].index)\n",
    "plt.title(\"Tipo de Drogas com Maior incidência\")\n",
    "plt.xlabel(\"Número de vezes relatados\")\n",
    "plt.ylabel(\"Drogas\")\n",
    "plt.show()"
   ]
  },
  {
   "attachments": {},
   "cell_type": "markdown",
   "metadata": {},
   "source": [
    "Em nossa base observamos que varias drogas foram usadas durante os tratamentos, nesse gráfico plotamos apenas 20 das drogas mais usadas."
   ]
  },
  {
   "cell_type": "code",
   "execution_count": 24,
   "metadata": {},
   "outputs": [
    {
     "data": {
      "image/png": "[encoded data removed]",
      "text/plain": [
       "<Figure size 640x480 with 1 Axes>"
      ]
     },
     "metadata": {},
     "output_type": "display_data"
    }
   ],
   "source": [
    "#gráfico de evidências\n",
    "sns.barplot(x = civic['evidence_level'].value_counts()[:5],\n",
    "            y = civic['evidence_level'].value_counts()[:5].index)\n",
    "plt.title(\"Evidências\")\n",
    "plt.xlabel(\"Número de vezes relatados\")\n",
    "plt.ylabel(\"Nivel de Evidencias\")\n",
    "plt.show()"
   ]
  },
  {
   "attachments": {},
   "cell_type": "markdown",
   "metadata": {},
   "source": [
    "Aqui visualizarmos a robustez do estudo suportado pela evidência, podemos ver que \"C - Estudo de caso\" possui a maior incidência com 200 itens a mais e \"E - Associanção inferencial\" possui a menor quantidade com menos de 200 itens."
   ]
  },
  {
   "cell_type": "code",
   "execution_count": 25,
   "metadata": {},
   "outputs": [
    {
     "data": {
      "image/png": "[encoded data removed]",
      "text/plain": [
       "<Figure size 640x480 with 1 Axes>"
      ]
     },
     "metadata": {},
     "output_type": "display_data"
    }
   ],
   "source": [
    "#Gráfico de origem das variantes\n",
    "sns.barplot(x = civic['variant_origin'].value_counts()[:3],\n",
    "            y = civic['variant_origin'].value_counts()[:3].index)\n",
    "plt.title(\"incidência de origem de Variantes\")\n",
    "plt.xlabel(\"Número de vezes relatados\")\n",
    "plt.ylabel(\"Origem da Variante\")\n",
    "plt.show()"
   ]
  },
  {
   "attachments": {},
   "cell_type": "markdown",
   "metadata": {},
   "source": [
    "Como a variante começou ?\n",
    "\n",
    "Nesse gráfico visualizamos que a maior parte das doenças cancerigenas começaram como somaticas, ou seja que surgem pontualmente em alguma célula do corpo e a menor parte como common gemline, ou seja presente nas células germinativas, cancer que pode ser transferido de pais para filhos."
   ]
  },
  {
   "cell_type": "code",
   "execution_count": 26,
   "metadata": {},
   "outputs": [
    {
     "data": {
      "image/png": "[encoded data removed]",
      "text/plain": [
       "<Figure size 640x480 with 1 Axes>"
      ]
     },
     "metadata": {},
     "output_type": "display_data"
    }
   ],
   "source": [
    "#Gráfico de resposta da evidência\n",
    "sns.barplot(x = civic['clinical_significance'].value_counts()[:6],\n",
    "            y = civic['clinical_significance'].value_counts()[:6].index)\n",
    "plt.title(\"Tipo de resposta da evicência\")\n",
    "plt.xlabel(\"Número de vezes relatados\")\n",
    "plt.ylabel(\"Significancia\")\n",
    "plt.show()"
   ]
  },
  {
   "attachments": {},
   "cell_type": "markdown",
   "metadata": {},
   "source": [
    "Como o perfil molecular reagiu ao tratamento ?\n",
    "\n",
    "A maior parte teve uma resposta \"Sensitivity/Responde\", significa que o organismo respondeu ao estímulo, isso não quer dizer que a resposta foi possitiva ou negativa, apenas indica que ouve uma minima resposta. A menor parte \"Better Outcome\", ou seja, Demosntra resultado clínico melhor do que o esperado."
   ]
  },
  {
   "cell_type": "code",
   "execution_count": 27,
   "metadata": {},
   "outputs": [
    {
     "data": {
      "image/png": "[encoded data removed]",
      "text/plain": [
       "<Figure size 640x480 with 1 Axes>"
      ]
     },
     "metadata": {},
     "output_type": "display_data"
    }
   ],
   "source": [
    "#Gráfico das incidências\n",
    "sns.barplot(x = civic['rating'].value_counts()[:5],\n",
    "            y = civic['rating'].value_counts()[:5].index)\n",
    "plt.title(\"Ranking com maior incidência\")\n",
    "plt.xlabel(\"Número de vezes relatados\")\n",
    "plt.ylabel(\"Rating\")\n",
    "plt.show()"
   ]
  },
  {
   "attachments": {},
   "cell_type": "markdown",
   "metadata": {},
   "source": [
    "Esse gráfico serve para nos mostrar rapidamente o quão bem foi o tratamento escolhido. A maior parte dos tratamentos receberam 5 \"estrelas\", forma como foram avaliados, tendo eviências fortes e bem fundamentadas com resultados limpos. A menor parte recebeu 1 \"estrela\", significando que a alegação não foi bem sucedida, os resultados são sujos e não reprodutíveis ou têm um tamanho de amostra muito pequeno."
   ]
  },
  {
   "cell_type": "code",
   "execution_count": 28,
   "metadata": {},
   "outputs": [
    {
     "data": {
      "image/png": "[encoded data removed]",
      "text/plain": [
       "<Figure size 640x480 with 1 Axes>"
      ]
     },
     "metadata": {},
     "output_type": "display_data"
    }
   ],
   "source": [
    "#Gráfico dos chromossomos\n",
    "sns.barplot(x = civic['chromosome'].value_counts()[:10],\n",
    "            y = civic['chromosome'].value_counts()[:10].index)\n",
    "plt.title(\"Chromosomo com maior incidencia\")\n",
    "plt.xlabel(\"Número de vezes relatados\")\n",
    "plt.ylabel(\"Chromosomo\")\n",
    "plt.show()"
   ]
  },
  {
   "attachments": {},
   "cell_type": "markdown",
   "metadata": {},
   "source": [
    "Esse gráfico é interessante pois nele podemos observar em quais cromossomos ouve a maior incidencia de mudanças, por exemplo o chromossomo 3. primeiro nesse gráfico, é onde ocorre a mutação que causa a doença VHL ou doença de Von Hippel-Lindau, os dois primeiros casos em gene e disease."
   ]
  },
  {
   "attachments": {},
   "cell_type": "markdown",
   "metadata": {},
   "source": [
    "### Comparação de outras colunas com disease usando px"
   ]
  },
  {
   "cell_type": "code",
   "execution_count": 29,
   "metadata": {},
   "outputs": [
    {
     "data": {
      "application/vnd.plotly.v1+json": {
       "config": {
        "plotlyServerURL": "https://plot.ly"
       },
       "data": [
        {
         "hovertemplate": "disease=%{x}<br>variant_origin=%{y}<br>count=%{marker.size}<extra></extra>",
         "legendgroup": "",
         "marker": {
          "color": "rgb(102, 197, 204)",
          "size": [
           584,
           324,
           302,
           287,
           208,
           133,
           114,
           113,
           90,
           87,
           80,
           57,
           48,
           38,
           36,
           34,
           26,
           26,
           23,
           22,
           21,
           20,
           18,
           16,
           16,
           15,
           15,
           14,
           14,
           14
          ],
          "sizemode": "area",
          "sizeref": 1.46,
          "symbol": "circle"
         },
         "mode": "markers",
         "name": "",
         "orientation": "v",
         "showlegend": false,
         "type": "scatter",
         "x": [
          "Von Hippel-Lindau Disease",
          "Lung Non-small Cell Carcinoma",
          "Chronic Myeloid Leukemia",
          "Colorectal Cancer",
          "Acute Myeloid Leukemia",
          "Cancer",
          "Melanoma",
          "Breast Cancer",
          "Gastrointestinal Stromal Tumor",
          "Lung Adenocarcinoma",
          "Her2-receptor Positive Breast Cancer",
          "B-lymphoblastic Leukemia/lymphoma, BCR-ABL1–like",
          "Skin Melanoma",
          "Chronic Lymphocytic Leukemia",
          "Childhood B-cell Acute Lymphoblastic Leukemia",
          "B-lymphoblastic Leukemia/lymphoma",
          "Multiple Myeloma",
          "Ovarian Cancer",
          "Head And Neck Squamous Cell Carcinoma",
          "Glioblastoma",
          "Neuroblastoma",
          "Endometrial Cancer",
          "Cholangiocarcinoma",
          "Prostate Cancer",
          "Clear Cell Renal Cell Carcinoma",
          "Thyroid Gland Papillary Carcinoma",
          "Renal Cell Carcinoma",
          "Uveal Melanoma",
          "Acute Lymphoblastic Leukemia",
          "Ovarian Cancer"
         ],
         "xaxis": "x",
         "y": [
          "Rare Germline",
          "Somatic",
          "Somatic",
          "Somatic",
          "Somatic",
          "Somatic",
          "Somatic",
          "Somatic",
          "Somatic",
          "Somatic",
          "Somatic",
          "Somatic",
          "Somatic",
          "Somatic",
          "Somatic",
          "Somatic",
          "Somatic",
          "Somatic",
          "Somatic",
          "Somatic",
          "Somatic",
          "Somatic",
          "Somatic",
          "Somatic",
          "Somatic",
          "Somatic",
          "Somatic",
          "Somatic",
          "Somatic",
          "Rare Germline"
         ],
         "yaxis": "y"
        }
       ],
       "layout": {
        "legend": {
         "itemsizing": "constant",
         "tracegroupgap": 0
        },
        "template": {
         "data": {
          "bar": [
           {
            "error_x": {
             "color": "#f2f5fa"
            },
            "error_y": {
             "color": "#f2f5fa"
            },
            "marker": {
             "line": {
              "color": "rgb(17,17,17)",
              "width": 0.5
             },
             "pattern": {
              "fillmode": "overlay",
              "size": 10,
              "solidity": 0.2
             }
            },
            "type": "bar"
           }
          ],
          "barpolar": [
           {
            "marker": {
             "line": {
              "color": "rgb(17,17,17)",
              "width": 0.5
             },
             "pattern": {
              "fillmode": "overlay",
              "size": 10,
              "solidity": 0.2
             }
            },
            "type": "barpolar"
           }
          ],
          "carpet": [
           {
            "aaxis": {
             "endlinecolor": "#A2B1C6",
             "gridcolor": "#506784",
             "linecolor": "#506784",
             "minorgridcolor": "#506784",
             "startlinecolor": "#A2B1C6"
            },
            "baxis": {
             "endlinecolor": "#A2B1C6",
             "gridcolor": "#506784",
             "linecolor": "#506784",
             "minorgridcolor": "#506784",
             "startlinecolor": "#A2B1C6"
            },
            "type": "carpet"
           }
          ],
          "choropleth": [
           {
            "colorbar": {
             "outlinewidth": 0,
             "ticks": ""
            },
            "type": "choropleth"
           }
          ],
          "contour": [
           {
            "colorbar": {
             "outlinewidth": 0,
             "ticks": ""
            },
            "colorscale": [
             [
              0,
              "#0d0887"
             ],
             [
              0.1111111111111111,
              "#46039f"
             ],
             [
              0.2222222222222222,
              "#7201a8"
             ],
             [
              0.3333333333333333,
              "#9c179e"
             ],
             [
              0.4444444444444444,
              "#bd3786"
             ],
             [
              0.5555555555555556,
              "#d8576b"
             ],
             [
              0.6666666666666666,
              "#ed7953"
             ],
             [
              0.7777777777777778,
              "#fb9f3a"
             ],
             [
              0.8888888888888888,
              "#fdca26"
             ],
             [
              1,
              "#f0f921"
             ]
            ],
            "type": "contour"
           }
          ],
          "contourcarpet": [
           {
            "colorbar": {
             "outlinewidth": 0,
             "ticks": ""
            },
            "type": "contourcarpet"
           }
          ],
          "heatmap": [
           {
            "colorbar": {
             "outlinewidth": 0,
             "ticks": ""
            },
            "colorscale": [
             [
              0,
              "#0d0887"
             ],
             [
              0.1111111111111111,
              "#46039f"
             ],
             [
              0.2222222222222222,
              "#7201a8"
             ],
             [
              0.3333333333333333,
              "#9c179e"
             ],
             [
              0.4444444444444444,
              "#bd3786"
             ],
             [
              0.5555555555555556,
              "#d8576b"
             ],
             [
              0.6666666666666666,
              "#ed7953"
             ],
             [
              0.7777777777777778,
              "#fb9f3a"
             ],
             [
              0.8888888888888888,
              "#fdca26"
             ],
             [
              1,
              "#f0f921"
             ]
            ],
            "type": "heatmap"
           }
          ],
          "heatmapgl": [
           {
            "colorbar": {
             "outlinewidth": 0,
             "ticks": ""
            },
            "colorscale": [
             [
              0,
              "#0d0887"
             ],
             [
              0.1111111111111111,
              "#46039f"
             ],
             [
              0.2222222222222222,
              "#7201a8"
             ],
             [
              0.3333333333333333,
              "#9c179e"
             ],
             [
              0.4444444444444444,
              "#bd3786"
             ],
             [
              0.5555555555555556,
              "#d8576b"
             ],
             [
              0.6666666666666666,
              "#ed7953"
             ],
             [
              0.7777777777777778,
              "#fb9f3a"
             ],
             [
              0.8888888888888888,
              "#fdca26"
             ],
             [
              1,
              "#f0f921"
             ]
            ],
            "type": "heatmapgl"
           }
          ],
          "histogram": [
           {
            "marker": {
             "pattern": {
              "fillmode": "overlay",
              "size": 10,
              "solidity": 0.2
             }
            },
            "type": "histogram"
           }
          ],
          "histogram2d": [
           {
            "colorbar": {
             "outlinewidth": 0,
             "ticks": ""
            },
            "colorscale": [
             [
              0,
              "#0d0887"
             ],
             [
              0.1111111111111111,
              "#46039f"
             ],
             [
              0.2222222222222222,
              "#7201a8"
             ],
             [
              0.3333333333333333,
              "#9c179e"
             ],
             [
              0.4444444444444444,
              "#bd3786"
             ],
             [
              0.5555555555555556,
              "#d8576b"
             ],
             [
              0.6666666666666666,
              "#ed7953"
             ],
             [
              0.7777777777777778,
              "#fb9f3a"
             ],
             [
              0.8888888888888888,
              "#fdca26"
             ],
             [
              1,
              "#f0f921"
             ]
            ],
            "type": "histogram2d"
           }
          ],
          "histogram2dcontour": [
           {
            "colorbar": {
             "outlinewidth": 0,
             "ticks": ""
            },
            "colorscale": [
             [
              0,
              "#0d0887"
             ],
             [
              0.1111111111111111,
              "#46039f"
             ],
             [
              0.2222222222222222,
              "#7201a8"
             ],
             [
              0.3333333333333333,
              "#9c179e"
             ],
             [
              0.4444444444444444,
              "#bd3786"
             ],
             [
              0.5555555555555556,
              "#d8576b"
             ],
             [
              0.6666666666666666,
              "#ed7953"
             ],
             [
              0.7777777777777778,
              "#fb9f3a"
             ],
             [
              0.8888888888888888,
              "#fdca26"
             ],
             [
              1,
              "#f0f921"
             ]
            ],
            "type": "histogram2dcontour"
           }
          ],
          "mesh3d": [
           {
            "colorbar": {
             "outlinewidth": 0,
             "ticks": ""
            },
            "type": "mesh3d"
           }
          ],
          "parcoords": [
           {
            "line": {
             "colorbar": {
              "outlinewidth": 0,
              "ticks": ""
             }
            },
            "type": "parcoords"
           }
          ],
          "pie": [
           {
            "automargin": true,
            "type": "pie"
           }
          ],
          "scatter": [
           {
            "marker": {
             "line": {
              "color": "#283442"
             }
            },
            "type": "scatter"
           }
          ],
          "scatter3d": [
           {
            "line": {
             "colorbar": {
              "outlinewidth": 0,
              "ticks": ""
             }
            },
            "marker": {
             "colorbar": {
              "outlinewidth": 0,
              "ticks": ""
             }
            },
            "type": "scatter3d"
           }
          ],
          "scattercarpet": [
           {
            "marker": {
             "colorbar": {
              "outlinewidth": 0,
              "ticks": ""
             }
            },
            "type": "scattercarpet"
           }
          ],
          "scattergeo": [
           {
            "marker": {
             "colorbar": {
              "outlinewidth": 0,
              "ticks": ""
             }
            },
            "type": "scattergeo"
           }
          ],
          "scattergl": [
           {
            "marker": {
             "line": {
              "color": "#283442"
             }
            },
            "type": "scattergl"
           }
          ],
          "scattermapbox": [
           {
            "marker": {
             "colorbar": {
              "outlinewidth": 0,
              "ticks": ""
             }
            },
            "type": "scattermapbox"
           }
          ],
          "scatterpolar": [
           {
            "marker": {
             "colorbar": {
              "outlinewidth": 0,
              "ticks": ""
             }
            },
            "type": "scatterpolar"
           }
          ],
          "scatterpolargl": [
           {
            "marker": {
             "colorbar": {
              "outlinewidth": 0,
              "ticks": ""
             }
            },
            "type": "scatterpolargl"
           }
          ],
          "scatterternary": [
           {
            "marker": {
             "colorbar": {
              "outlinewidth": 0,
              "ticks": ""
             }
            },
            "type": "scatterternary"
           }
          ],
          "surface": [
           {
            "colorbar": {
             "outlinewidth": 0,
             "ticks": ""
            },
            "colorscale": [
             [
              0,
              "#0d0887"
             ],
             [
              0.1111111111111111,
              "#46039f"
             ],
             [
              0.2222222222222222,
              "#7201a8"
             ],
             [
              0.3333333333333333,
              "#9c179e"
             ],
             [
              0.4444444444444444,
              "#bd3786"
             ],
             [
              0.5555555555555556,
              "#d8576b"
             ],
             [
              0.6666666666666666,
              "#ed7953"
             ],
             [
              0.7777777777777778,
              "#fb9f3a"
             ],
             [
              0.8888888888888888,
              "#fdca26"
             ],
             [
              1,
              "#f0f921"
             ]
            ],
            "type": "surface"
           }
          ],
          "table": [
           {
            "cells": {
             "fill": {
              "color": "#506784"
             },
             "line": {
              "color": "rgb(17,17,17)"
             }
            },
            "header": {
             "fill": {
              "color": "#2a3f5f"
             },
             "line": {
              "color": "rgb(17,17,17)"
             }
            },
            "type": "table"
           }
          ]
         },
         "layout": {
          "annotationdefaults": {
           "arrowcolor": "#f2f5fa",
           "arrowhead": 0,
           "arrowwidth": 1
          },
          "autotypenumbers": "strict",
          "coloraxis": {
           "colorbar": {
            "outlinewidth": 0,
            "ticks": ""
           }
          },
          "colorscale": {
           "diverging": [
            [
             0,
             "#8e0152"
            ],
            [
             0.1,
             "#c51b7d"
            ],
            [
             0.2,
             "#de77ae"
            ],
            [
             0.3,
             "#f1b6da"
            ],
            [
             0.4,
             "#fde0ef"
            ],
            [
             0.5,
             "#f7f7f7"
            ],
            [
             0.6,
             "#e6f5d0"
            ],
            [
             0.7,
             "#b8e186"
            ],
            [
             0.8,
             "#7fbc41"
            ],
            [
             0.9,
             "#4d9221"
            ],
            [
             1,
             "#276419"
            ]
           ],
           "sequential": [
            [
             0,
             "#0d0887"
            ],
            [
             0.1111111111111111,
             "#46039f"
            ],
            [
             0.2222222222222222,
             "#7201a8"
            ],
            [
             0.3333333333333333,
             "#9c179e"
            ],
            [
             0.4444444444444444,
             "#bd3786"
            ],
            [
             0.5555555555555556,
             "#d8576b"
            ],
            [
             0.6666666666666666,
             "#ed7953"
            ],
            [
             0.7777777777777778,
             "#fb9f3a"
            ],
            [
             0.8888888888888888,
             "#fdca26"
            ],
            [
             1,
             "#f0f921"
            ]
           ],
           "sequentialminus": [
            [
             0,
             "#0d0887"
            ],
            [
             0.1111111111111111,
             "#46039f"
            ],
            [
             0.2222222222222222,
             "#7201a8"
            ],
            [
             0.3333333333333333,
             "#9c179e"
            ],
            [
             0.4444444444444444,
             "#bd3786"
            ],
            [
             0.5555555555555556,
             "#d8576b"
            ],
            [
             0.6666666666666666,
             "#ed7953"
            ],
            [
             0.7777777777777778,
             "#fb9f3a"
            ],
            [
             0.8888888888888888,
             "#fdca26"
            ],
            [
             1,
             "#f0f921"
            ]
           ]
          },
          "colorway": [
           "#636efa",
           "#EF553B",
           "#00cc96",
           "#ab63fa",
           "#FFA15A",
           "#19d3f3",
           "#FF6692",
           "#B6E880",
           "#FF97FF",
           "#FECB52"
          ],
          "font": {
           "color": "#f2f5fa"
          },
          "geo": {
           "bgcolor": "rgb(17,17,17)",
           "lakecolor": "rgb(17,17,17)",
           "landcolor": "rgb(17,17,17)",
           "showlakes": true,
           "showland": true,
           "subunitcolor": "#506784"
          },
          "hoverlabel": {
           "align": "left"
          },
          "hovermode": "closest",
          "mapbox": {
           "style": "dark"
          },
          "paper_bgcolor": "rgb(17,17,17)",
          "plot_bgcolor": "rgb(17,17,17)",
          "polar": {
           "angularaxis": {
            "gridcolor": "#506784",
            "linecolor": "#506784",
            "ticks": ""
           },
           "bgcolor": "rgb(17,17,17)",
           "radialaxis": {
            "gridcolor": "#506784",
            "linecolor": "#506784",
            "ticks": ""
           }
          },
          "scene": {
           "xaxis": {
            "backgroundcolor": "rgb(17,17,17)",
            "gridcolor": "#506784",
            "gridwidth": 2,
            "linecolor": "#506784",
            "showbackground": true,
            "ticks": "",
            "zerolinecolor": "#C8D4E3"
           },
           "yaxis": {
            "backgroundcolor": "rgb(17,17,17)",
            "gridcolor": "#506784",
            "gridwidth": 2,
            "linecolor": "#506784",
            "showbackground": true,
            "ticks": "",
            "zerolinecolor": "#C8D4E3"
           },
           "zaxis": {
            "backgroundcolor": "rgb(17,17,17)",
            "gridcolor": "#506784",
            "gridwidth": 2,
            "linecolor": "#506784",
            "showbackground": true,
            "ticks": "",
            "zerolinecolor": "#C8D4E3"
           }
          },
          "shapedefaults": {
           "line": {
            "color": "#f2f5fa"
           }
          },
          "sliderdefaults": {
           "bgcolor": "#C8D4E3",
           "bordercolor": "rgb(17,17,17)",
           "borderwidth": 1,
           "tickwidth": 0
          },
          "ternary": {
           "aaxis": {
            "gridcolor": "#506784",
            "linecolor": "#506784",
            "ticks": ""
           },
           "baxis": {
            "gridcolor": "#506784",
            "linecolor": "#506784",
            "ticks": ""
           },
           "bgcolor": "rgb(17,17,17)",
           "caxis": {
            "gridcolor": "#506784",
            "linecolor": "#506784",
            "ticks": ""
           }
          },
          "title": {
           "x": 0.05
          },
          "updatemenudefaults": {
           "bgcolor": "#506784",
           "borderwidth": 0
          },
          "xaxis": {
           "automargin": true,
           "gridcolor": "#283442",
           "linecolor": "#506784",
           "ticks": "",
           "title": {
            "standoff": 15
           },
           "zerolinecolor": "#283442",
           "zerolinewidth": 2
          },
          "yaxis": {
           "automargin": true,
           "gridcolor": "#283442",
           "linecolor": "#506784",
           "ticks": "",
           "title": {
            "standoff": 15
           },
           "zerolinecolor": "#283442",
           "zerolinewidth": 2
          }
         }
        },
        "title": {
         "text": "Identificando a origen da doença"
        },
        "xaxis": {
         "anchor": "y",
         "domain": [
          0,
          1
         ],
         "title": {
          "text": "disease"
         }
        },
        "yaxis": {
         "anchor": "x",
         "domain": [
          0,
          1
         ],
         "title": {
          "text": "variant_origin"
         }
        }
       }
      }
     },
     "metadata": {},
     "output_type": "display_data"
    }
   ],
   "source": [
    "# agrupa os dados pela combinação de \"variant_origin\" e \"disease\" e soma a quantidade de ocorrências de cada combinação\n",
    "grouped_origin_df = civic.groupby(['variant_origin', 'disease']).size().reset_index(name='count')\n",
    "# ordena os dados pela quantidade de ocorrências em ordem decrescente\n",
    "sorted_origin_df = grouped_origin_df.sort_values('count', ascending=False)\n",
    "# seleciona as informações mais relevantes\n",
    "top_origin_df = sorted_origin_df.head(30)\n",
    "\n",
    "# conta a frequência dos valores em cada coluna\n",
    "var_counts = civic['disease'].value_counts().reset_index()\n",
    "origin_counts = civic['variant_origin'].value_counts().reset_index()\n",
    "# renomeia as colunas\n",
    "origin_counts.columns = ['variant_origin', 'count']\n",
    "var_counts.columns = ['disease', 'count']\n",
    "\n",
    "# cria o gráfico de dispersão\n",
    "fig = px.scatter(top_origin_df, x='disease', y='variant_origin', size='count',title='Identificando a origen da doença',\n",
    "            color_discrete_sequence=px.colors.qualitative.Pastel,\n",
    "            template='plotly_dark')\n",
    "# mostra o gráfico\n",
    "fig.show()"
   ]
  },
  {
   "attachments": {},
   "cell_type": "markdown",
   "metadata": {},
   "source": [
    "\n",
    "Com esse gráfico interativo podemos observar 15 itens de disease comparados a coluna variant_origin, podemos ver que a maioria dos cânceres são somaticos enquando 584 são geminativo raro e 14 germinativo comum."
   ]
  },
  {
   "cell_type": "code",
   "execution_count": 30,
   "metadata": {},
   "outputs": [
    {
     "data": {
      "application/vnd.plotly.v1+json": {
       "config": {
        "plotlyServerURL": "https://plot.ly"
       },
       "data": [
        {
         "alignmentgroup": "True",
         "hovertemplate": "disease=Von Hippel-Lindau Disease<br>gene=%{x}<br>count=%{y}<extra></extra>",
         "legendgroup": "Von Hippel-Lindau Disease",
         "marker": {
          "color": "rgb(102, 197, 204)",
          "pattern": {
           "shape": ""
          }
         },
         "name": "Von Hippel-Lindau Disease",
         "offsetgroup": "Von Hippel-Lindau Disease",
         "orientation": "v",
         "showlegend": true,
         "textposition": "auto",
         "type": "bar",
         "x": [
          "VHL"
         ],
         "xaxis": "x",
         "y": [
          588
         ],
         "yaxis": "y"
        },
        {
         "alignmentgroup": "True",
         "hovertemplate": "disease=Chronic Myeloid Leukemia<br>gene=%{x}<br>count=%{y}<extra></extra>",
         "legendgroup": "Chronic Myeloid Leukemia",
         "marker": {
          "color": "rgb(246, 207, 113)",
          "pattern": {
           "shape": ""
          }
         },
         "name": "Chronic Myeloid Leukemia",
         "offsetgroup": "Chronic Myeloid Leukemia",
         "orientation": "v",
         "showlegend": true,
         "textposition": "auto",
         "type": "bar",
         "x": [
          "ABL1"
         ],
         "xaxis": "x",
         "y": [
          297
         ],
         "yaxis": "y"
        },
        {
         "alignmentgroup": "True",
         "hovertemplate": "disease=Lung Non-small Cell Carcinoma<br>gene=%{x}<br>count=%{y}<extra></extra>",
         "legendgroup": "Lung Non-small Cell Carcinoma",
         "marker": {
          "color": "rgb(248, 156, 116)",
          "pattern": {
           "shape": ""
          }
         },
         "name": "Lung Non-small Cell Carcinoma",
         "offsetgroup": "Lung Non-small Cell Carcinoma",
         "orientation": "v",
         "showlegend": true,
         "textposition": "auto",
         "type": "bar",
         "x": [
          "EGFR",
          "ALK"
         ],
         "xaxis": "x",
         "y": [
          123,
          80
         ],
         "yaxis": "y"
        },
        {
         "alignmentgroup": "True",
         "hovertemplate": "disease=Colorectal Cancer<br>gene=%{x}<br>count=%{y}<extra></extra>",
         "legendgroup": "Colorectal Cancer",
         "marker": {
          "color": "rgb(220, 176, 242)",
          "pattern": {
           "shape": ""
          }
         },
         "name": "Colorectal Cancer",
         "offsetgroup": "Colorectal Cancer",
         "orientation": "v",
         "showlegend": true,
         "textposition": "auto",
         "type": "bar",
         "x": [
          "KRAS",
          "BRAF"
         ],
         "xaxis": "x",
         "y": [
          93,
          64
         ],
         "yaxis": "y"
        },
        {
         "alignmentgroup": "True",
         "hovertemplate": "disease=Gastrointestinal Stromal Tumor<br>gene=%{x}<br>count=%{y}<extra></extra>",
         "legendgroup": "Gastrointestinal Stromal Tumor",
         "marker": {
          "color": "rgb(135, 197, 95)",
          "pattern": {
           "shape": ""
          }
         },
         "name": "Gastrointestinal Stromal Tumor",
         "offsetgroup": "Gastrointestinal Stromal Tumor",
         "orientation": "v",
         "showlegend": true,
         "textposition": "auto",
         "type": "bar",
         "x": [
          "KIT"
         ],
         "xaxis": "x",
         "y": [
          71
         ],
         "yaxis": "y"
        },
        {
         "alignmentgroup": "True",
         "hovertemplate": "disease=Acute Myeloid Leukemia<br>gene=%{x}<br>count=%{y}<extra></extra>",
         "legendgroup": "Acute Myeloid Leukemia",
         "marker": {
          "color": "rgb(158, 185, 243)",
          "pattern": {
           "shape": ""
          }
         },
         "name": "Acute Myeloid Leukemia",
         "offsetgroup": "Acute Myeloid Leukemia",
         "orientation": "v",
         "showlegend": true,
         "textposition": "auto",
         "type": "bar",
         "x": [
          "FLT3"
         ],
         "xaxis": "x",
         "y": [
          64
         ],
         "yaxis": "y"
        },
        {
         "alignmentgroup": "True",
         "hovertemplate": "disease=Melanoma<br>gene=%{x}<br>count=%{y}<extra></extra>",
         "legendgroup": "Melanoma",
         "marker": {
          "color": "rgb(254, 136, 177)",
          "pattern": {
           "shape": ""
          }
         },
         "name": "Melanoma",
         "offsetgroup": "Melanoma",
         "orientation": "v",
         "showlegend": true,
         "textposition": "auto",
         "type": "bar",
         "x": [
          "BRAF"
         ],
         "xaxis": "x",
         "y": [
          59
         ],
         "yaxis": "y"
        },
        {
         "alignmentgroup": "True",
         "hovertemplate": "disease=Lung Adenocarcinoma<br>gene=%{x}<br>count=%{y}<extra></extra>",
         "legendgroup": "Lung Adenocarcinoma",
         "marker": {
          "color": "rgb(201, 219, 116)",
          "pattern": {
           "shape": ""
          }
         },
         "name": "Lung Adenocarcinoma",
         "offsetgroup": "Lung Adenocarcinoma",
         "orientation": "v",
         "showlegend": true,
         "textposition": "auto",
         "type": "bar",
         "x": [
          "EGFR"
         ],
         "xaxis": "x",
         "y": [
          44
         ],
         "yaxis": "y"
        }
       ],
       "layout": {
        "barmode": "relative",
        "legend": {
         "title": {
          "text": "disease"
         },
         "tracegroupgap": 0
        },
        "template": {
         "data": {
          "bar": [
           {
            "error_x": {
             "color": "#2a3f5f"
            },
            "error_y": {
             "color": "#2a3f5f"
            },
            "marker": {
             "line": {
              "color": "#E5ECF6",
              "width": 0.5
             },
             "pattern": {
              "fillmode": "overlay",
              "size": 10,
              "solidity": 0.2
             }
            },
            "type": "bar"
           }
          ],
          "barpolar": [
           {
            "marker": {
             "line": {
              "color": "#E5ECF6",
              "width": 0.5
             },
             "pattern": {
              "fillmode": "overlay",
              "size": 10,
              "solidity": 0.2
             }
            },
            "type": "barpolar"
           }
          ],
          "carpet": [
           {
            "aaxis": {
             "endlinecolor": "#2a3f5f",
             "gridcolor": "white",
             "linecolor": "white",
             "minorgridcolor": "white",
             "startlinecolor": "#2a3f5f"
            },
            "baxis": {
             "endlinecolor": "#2a3f5f",
             "gridcolor": "white",
             "linecolor": "white",
             "minorgridcolor": "white",
             "startlinecolor": "#2a3f5f"
            },
            "type": "carpet"
           }
          ],
          "choropleth": [
           {
            "colorbar": {
             "outlinewidth": 0,
             "ticks": ""
            },
            "type": "choropleth"
           }
          ],
          "contour": [
           {
            "colorbar": {
             "outlinewidth": 0,
             "ticks": ""
            },
            "colorscale": [
             [
              0,
              "#0d0887"
             ],
             [
              0.1111111111111111,
              "#46039f"
             ],
             [
              0.2222222222222222,
              "#7201a8"
             ],
             [
              0.3333333333333333,
              "#9c179e"
             ],
             [
              0.4444444444444444,
              "#bd3786"
             ],
             [
              0.5555555555555556,
              "#d8576b"
             ],
             [
              0.6666666666666666,
              "#ed7953"
             ],
             [
              0.7777777777777778,
              "#fb9f3a"
             ],
             [
              0.8888888888888888,
              "#fdca26"
             ],
             [
              1,
              "#f0f921"
             ]
            ],
            "type": "contour"
           }
          ],
          "contourcarpet": [
           {
            "colorbar": {
             "outlinewidth": 0,
             "ticks": ""
            },
            "type": "contourcarpet"
           }
          ],
          "heatmap": [
           {
            "colorbar": {
             "outlinewidth": 0,
             "ticks": ""
            },
            "colorscale": [
             [
              0,
              "#0d0887"
             ],
             [
              0.1111111111111111,
              "#46039f"
             ],
             [
              0.2222222222222222,
              "#7201a8"
             ],
             [
              0.3333333333333333,
              "#9c179e"
             ],
             [
              0.4444444444444444,
              "#bd3786"
             ],
             [
              0.5555555555555556,
              "#d8576b"
             ],
             [
              0.6666666666666666,
              "#ed7953"
             ],
             [
              0.7777777777777778,
              "#fb9f3a"
             ],
             [
              0.8888888888888888,
              "#fdca26"
             ],
             [
              1,
              "#f0f921"
             ]
            ],
            "type": "heatmap"
           }
          ],
          "heatmapgl": [
           {
            "colorbar": {
             "outlinewidth": 0,
             "ticks": ""
            },
            "colorscale": [
             [
              0,
              "#0d0887"
             ],
             [
              0.1111111111111111,
              "#46039f"
             ],
             [
              0.2222222222222222,
              "#7201a8"
             ],
             [
              0.3333333333333333,
              "#9c179e"
             ],
             [
              0.4444444444444444,
              "#bd3786"
             ],
             [
              0.5555555555555556,
              "#d8576b"
             ],
             [
              0.6666666666666666,
              "#ed7953"
             ],
             [
              0.7777777777777778,
              "#fb9f3a"
             ],
             [
              0.8888888888888888,
              "#fdca26"
             ],
             [
              1,
              "#f0f921"
             ]
            ],
            "type": "heatmapgl"
           }
          ],
          "histogram": [
           {
            "marker": {
             "pattern": {
              "fillmode": "overlay",
              "size": 10,
              "solidity": 0.2
             }
            },
            "type": "histogram"
           }
          ],
          "histogram2d": [
           {
            "colorbar": {
             "outlinewidth": 0,
             "ticks": ""
            },
            "colorscale": [
             [
              0,
              "#0d0887"
             ],
             [
              0.1111111111111111,
              "#46039f"
             ],
             [
              0.2222222222222222,
              "#7201a8"
             ],
             [
              0.3333333333333333,
              "#9c179e"
             ],
             [
              0.4444444444444444,
              "#bd3786"
             ],
             [
              0.5555555555555556,
              "#d8576b"
             ],
             [
              0.6666666666666666,
              "#ed7953"
             ],
             [
              0.7777777777777778,
              "#fb9f3a"
             ],
             [
              0.8888888888888888,
              "#fdca26"
             ],
             [
              1,
              "#f0f921"
             ]
            ],
            "type": "histogram2d"
           }
          ],
          "histogram2dcontour": [
           {
            "colorbar": {
             "outlinewidth": 0,
             "ticks": ""
            },
            "colorscale": [
             [
              0,
              "#0d0887"
             ],
             [
              0.1111111111111111,
              "#46039f"
             ],
             [
              0.2222222222222222,
              "#7201a8"
             ],
             [
              0.3333333333333333,
              "#9c179e"
             ],
             [
              0.4444444444444444,
              "#bd3786"
             ],
             [
              0.5555555555555556,
              "#d8576b"
             ],
             [
              0.6666666666666666,
              "#ed7953"
             ],
             [
              0.7777777777777778,
              "#fb9f3a"
             ],
             [
              0.8888888888888888,
              "#fdca26"
             ],
             [
              1,
              "#f0f921"
             ]
            ],
            "type": "histogram2dcontour"
           }
          ],
          "mesh3d": [
           {
            "colorbar": {
             "outlinewidth": 0,
             "ticks": ""
            },
            "type": "mesh3d"
           }
          ],
          "parcoords": [
           {
            "line": {
             "colorbar": {
              "outlinewidth": 0,
              "ticks": ""
             }
            },
            "type": "parcoords"
           }
          ],
          "pie": [
           {
            "automargin": true,
            "type": "pie"
           }
          ],
          "scatter": [
           {
            "fillpattern": {
             "fillmode": "overlay",
             "size": 10,
             "solidity": 0.2
            },
            "type": "scatter"
           }
          ],
          "scatter3d": [
           {
            "line": {
             "colorbar": {
              "outlinewidth": 0,
              "ticks": ""
             }
            },
            "marker": {
             "colorbar": {
              "outlinewidth": 0,
              "ticks": ""
             }
            },
            "type": "scatter3d"
           }
          ],
          "scattercarpet": [
           {
            "marker": {
             "colorbar": {
              "outlinewidth": 0,
              "ticks": ""
             }
            },
            "type": "scattercarpet"
           }
          ],
          "scattergeo": [
           {
            "marker": {
             "colorbar": {
              "outlinewidth": 0,
              "ticks": ""
             }
            },
            "type": "scattergeo"
           }
          ],
          "scattergl": [
           {
            "marker": {
             "colorbar": {
              "outlinewidth": 0,
              "ticks": ""
             }
            },
            "type": "scattergl"
           }
          ],
          "scattermapbox": [
           {
            "marker": {
             "colorbar": {
              "outlinewidth": 0,
              "ticks": ""
             }
            },
            "type": "scattermapbox"
           }
          ],
          "scatterpolar": [
           {
            "marker": {
             "colorbar": {
              "outlinewidth": 0,
              "ticks": ""
             }
            },
            "type": "scatterpolar"
           }
          ],
          "scatterpolargl": [
           {
            "marker": {
             "colorbar": {
              "outlinewidth": 0,
              "ticks": ""
             }
            },
            "type": "scatterpolargl"
           }
          ],
          "scatterternary": [
           {
            "marker": {
             "colorbar": {
              "outlinewidth": 0,
              "ticks": ""
             }
            },
            "type": "scatterternary"
           }
          ],
          "surface": [
           {
            "colorbar": {
             "outlinewidth": 0,
             "ticks": ""
            },
            "colorscale": [
             [
              0,
              "#0d0887"
             ],
             [
              0.1111111111111111,
              "#46039f"
             ],
             [
              0.2222222222222222,
              "#7201a8"
             ],
             [
              0.3333333333333333,
              "#9c179e"
             ],
             [
              0.4444444444444444,
              "#bd3786"
             ],
             [
              0.5555555555555556,
              "#d8576b"
             ],
             [
              0.6666666666666666,
              "#ed7953"
             ],
             [
              0.7777777777777778,
              "#fb9f3a"
             ],
             [
              0.8888888888888888,
              "#fdca26"
             ],
             [
              1,
              "#f0f921"
             ]
            ],
            "type": "surface"
           }
          ],
          "table": [
           {
            "cells": {
             "fill": {
              "color": "#EBF0F8"
             },
             "line": {
              "color": "white"
             }
            },
            "header": {
             "fill": {
              "color": "#C8D4E3"
             },
             "line": {
              "color": "white"
             }
            },
            "type": "table"
           }
          ]
         },
         "layout": {
          "annotationdefaults": {
           "arrowcolor": "#2a3f5f",
           "arrowhead": 0,
           "arrowwidth": 1
          },
          "autotypenumbers": "strict",
          "coloraxis": {
           "colorbar": {
            "outlinewidth": 0,
            "ticks": ""
           }
          },
          "colorscale": {
           "diverging": [
            [
             0,
             "#8e0152"
            ],
            [
             0.1,
             "#c51b7d"
            ],
            [
             0.2,
             "#de77ae"
            ],
            [
             0.3,
             "#f1b6da"
            ],
            [
             0.4,
             "#fde0ef"
            ],
            [
             0.5,
             "#f7f7f7"
            ],
            [
             0.6,
             "#e6f5d0"
            ],
            [
             0.7,
             "#b8e186"
            ],
            [
             0.8,
             "#7fbc41"
            ],
            [
             0.9,
             "#4d9221"
            ],
            [
             1,
             "#276419"
            ]
           ],
           "sequential": [
            [
             0,
             "#0d0887"
            ],
            [
             0.1111111111111111,
             "#46039f"
            ],
            [
             0.2222222222222222,
             "#7201a8"
            ],
            [
             0.3333333333333333,
             "#9c179e"
            ],
            [
             0.4444444444444444,
             "#bd3786"
            ],
            [
             0.5555555555555556,
             "#d8576b"
            ],
            [
             0.6666666666666666,
             "#ed7953"
            ],
            [
             0.7777777777777778,
             "#fb9f3a"
            ],
            [
             0.8888888888888888,
             "#fdca26"
            ],
            [
             1,
             "#f0f921"
            ]
           ],
           "sequentialminus": [
            [
             0,
             "#0d0887"
            ],
            [
             0.1111111111111111,
             "#46039f"
            ],
            [
             0.2222222222222222,
             "#7201a8"
            ],
            [
             0.3333333333333333,
             "#9c179e"
            ],
            [
             0.4444444444444444,
             "#bd3786"
            ],
            [
             0.5555555555555556,
             "#d8576b"
            ],
            [
             0.6666666666666666,
             "#ed7953"
            ],
            [
             0.7777777777777778,
             "#fb9f3a"
            ],
            [
             0.8888888888888888,
             "#fdca26"
            ],
            [
             1,
             "#f0f921"
            ]
           ]
          },
          "colorway": [
           "#636efa",
           "#EF553B",
           "#00cc96",
           "#ab63fa",
           "#FFA15A",
           "#19d3f3",
           "#FF6692",
           "#B6E880",
           "#FF97FF",
           "#FECB52"
          ],
          "font": {
           "color": "#2a3f5f"
          },
          "geo": {
           "bgcolor": "white",
           "lakecolor": "white",
           "landcolor": "#E5ECF6",
           "showlakes": true,
           "showland": true,
           "subunitcolor": "white"
          },
          "hoverlabel": {
           "align": "left"
          },
          "hovermode": "closest",
          "mapbox": {
           "style": "light"
          },
          "paper_bgcolor": "white",
          "plot_bgcolor": "#E5ECF6",
          "polar": {
           "angularaxis": {
            "gridcolor": "white",
            "linecolor": "white",
            "ticks": ""
           },
           "bgcolor": "#E5ECF6",
           "radialaxis": {
            "gridcolor": "white",
            "linecolor": "white",
            "ticks": ""
           }
          },
          "scene": {
           "xaxis": {
            "backgroundcolor": "#E5ECF6",
            "gridcolor": "white",
            "gridwidth": 2,
            "linecolor": "white",
            "showbackground": true,
            "ticks": "",
            "zerolinecolor": "white"
           },
           "yaxis": {
            "backgroundcolor": "#E5ECF6",
            "gridcolor": "white",
            "gridwidth": 2,
            "linecolor": "white",
            "showbackground": true,
            "ticks": "",
            "zerolinecolor": "white"
           },
           "zaxis": {
            "backgroundcolor": "#E5ECF6",
            "gridcolor": "white",
            "gridwidth": 2,
            "linecolor": "white",
            "showbackground": true,
            "ticks": "",
            "zerolinecolor": "white"
           }
          },
          "shapedefaults": {
           "line": {
            "color": "#2a3f5f"
           }
          },
          "ternary": {
           "aaxis": {
            "gridcolor": "white",
            "linecolor": "white",
            "ticks": ""
           },
           "baxis": {
            "gridcolor": "white",
            "linecolor": "white",
            "ticks": ""
           },
           "bgcolor": "#E5ECF6",
           "caxis": {
            "gridcolor": "white",
            "linecolor": "white",
            "ticks": ""
           }
          },
          "title": {
           "x": 0.05
          },
          "xaxis": {
           "automargin": true,
           "gridcolor": "white",
           "linecolor": "white",
           "ticks": "",
           "title": {
            "standoff": 15
           },
           "zerolinecolor": "white",
           "zerolinewidth": 2
          },
          "yaxis": {
           "automargin": true,
           "gridcolor": "white",
           "linecolor": "white",
           "ticks": "",
           "title": {
            "standoff": 15
           },
           "zerolinecolor": "white",
           "zerolinewidth": 2
          }
         }
        },
        "title": {
         "text": "Frequência dos disease por gene (Top 10)"
        },
        "xaxis": {
         "anchor": "y",
         "domain": [
          0,
          1
         ],
         "title": {
          "text": "gene"
         }
        },
        "yaxis": {
         "anchor": "x",
         "domain": [
          0,
          1
         ],
         "title": {
          "text": "Frequência"
         }
        }
       }
      }
     },
     "metadata": {},
     "output_type": "display_data"
    }
   ],
   "source": [
    "# agrupa os dados pela combinação de \"gene\" e \"disease\" e soma a quantidade de ocorrências de cada combinação\n",
    "grouped_genes_df = civic.groupby(['disease', 'gene']).size().reset_index(name='count')\n",
    "# ordena os dados pela quantidade de ocorrências em ordem decrescente\n",
    "sorted_genes_df = grouped_genes_df.sort_values('count', ascending=False)\n",
    "# seleciona as informações mais relevantes\n",
    "top_genes_df = sorted_genes_df.head(10)\n",
    "\n",
    "# Cria o gráfico de barras\n",
    "fig = px.bar(top_genes_df, x='gene', y='count', color='disease', \n",
    "             title='Frequência dos disease por gene (Top 10)',\n",
    "             color_discrete_sequence=px.colors.qualitative.Pastel)#, #template='plotly_dark')\n",
    "# Personaliza os rótulos do eixo x e y\n",
    "fig.update_xaxes(title='gene')\n",
    "fig.update_yaxes(title='Frequência')\n",
    "# Mostra o gráfico\n",
    "fig.show()"
   ]
  },
  {
   "attachments": {},
   "cell_type": "markdown",
   "metadata": {},
   "source": [
    "Com que frequencia disease é associada a gene ? VHL e Von Hippeç-Lindau tem um interação de quase 600, enquanto FLT3 e Acute Myloid Leukemia tem pouco menos de 100 intereções."
   ]
  },
  {
   "cell_type": "code",
   "execution_count": 31,
   "metadata": {},
   "outputs": [
    {
     "data": {
      "application/vnd.plotly.v1+json": {
       "config": {
        "plotlyServerURL": "https://plot.ly"
       },
       "data": [
        {
         "alignmentgroup": "True",
         "hovertemplate": "disease=Colorectal Cancer<br>variant=%{x}<br>count=%{y}<extra></extra>",
         "legendgroup": "Colorectal Cancer",
         "marker": {
          "color": "rgb(102, 197, 204)",
          "pattern": {
           "shape": ""
          }
         },
         "name": "Colorectal Cancer",
         "offsetgroup": "Colorectal Cancer",
         "orientation": "v",
         "showlegend": true,
         "textposition": "auto",
         "type": "bar",
         "x": [
          "Mutation",
          "V600E"
         ],
         "xaxis": "x",
         "y": [
          41,
          33
         ],
         "yaxis": "y"
        },
        {
         "alignmentgroup": "True",
         "hovertemplate": "disease=Acute Myeloid Leukemia<br>variant=%{x}<br>count=%{y}<extra></extra>",
         "legendgroup": "Acute Myeloid Leukemia",
         "marker": {
          "color": "rgb(246, 207, 113)",
          "pattern": {
           "shape": ""
          }
         },
         "name": "Acute Myeloid Leukemia",
         "offsetgroup": "Acute Myeloid Leukemia",
         "orientation": "v",
         "showlegend": true,
         "textposition": "auto",
         "type": "bar",
         "x": [
          "Mutation",
          "EXON 12 MUTATION",
          "R882",
          "ITD"
         ],
         "xaxis": "x",
         "y": [
          37,
          31,
          28,
          28
         ],
         "yaxis": "y"
        },
        {
         "alignmentgroup": "True",
         "hovertemplate": "disease=Lung Non-small Cell Carcinoma<br>variant=%{x}<br>count=%{y}<extra></extra>",
         "legendgroup": "Lung Non-small Cell Carcinoma",
         "marker": {
          "color": "rgb(248, 156, 116)",
          "pattern": {
           "shape": ""
          }
         },
         "name": "Lung Non-small Cell Carcinoma",
         "offsetgroup": "Lung Non-small Cell Carcinoma",
         "orientation": "v",
         "showlegend": true,
         "textposition": "auto",
         "type": "bar",
         "x": [
          "Mutation",
          "Fusion",
          "T790M"
         ],
         "xaxis": "x",
         "y": [
          36,
          27,
          25
         ],
         "yaxis": "y"
        },
        {
         "alignmentgroup": "True",
         "hovertemplate": "disease=Her2-receptor Positive Breast Cancer<br>variant=%{x}<br>count=%{y}<extra></extra>",
         "legendgroup": "Her2-receptor Positive Breast Cancer",
         "marker": {
          "color": "rgb(220, 176, 242)",
          "pattern": {
           "shape": ""
          }
         },
         "name": "Her2-receptor Positive Breast Cancer",
         "offsetgroup": "Her2-receptor Positive Breast Cancer",
         "orientation": "v",
         "showlegend": true,
         "textposition": "auto",
         "type": "bar",
         "x": [
          "Amplification"
         ],
         "xaxis": "x",
         "y": [
          30
         ],
         "yaxis": "y"
        }
       ],
       "layout": {
        "barmode": "relative",
        "legend": {
         "title": {
          "text": "disease"
         },
         "tracegroupgap": 0
        },
        "template": {
         "data": {
          "bar": [
           {
            "error_x": {
             "color": "#2a3f5f"
            },
            "error_y": {
             "color": "#2a3f5f"
            },
            "marker": {
             "line": {
              "color": "#E5ECF6",
              "width": 0.5
             },
             "pattern": {
              "fillmode": "overlay",
              "size": 10,
              "solidity": 0.2
             }
            },
            "type": "bar"
           }
          ],
          "barpolar": [
           {
            "marker": {
             "line": {
              "color": "#E5ECF6",
              "width": 0.5
             },
             "pattern": {
              "fillmode": "overlay",
              "size": 10,
              "solidity": 0.2
             }
            },
            "type": "barpolar"
           }
          ],
          "carpet": [
           {
            "aaxis": {
             "endlinecolor": "#2a3f5f",
             "gridcolor": "white",
             "linecolor": "white",
             "minorgridcolor": "white",
             "startlinecolor": "#2a3f5f"
            },
            "baxis": {
             "endlinecolor": "#2a3f5f",
             "gridcolor": "white",
             "linecolor": "white",
             "minorgridcolor": "white",
             "startlinecolor": "#2a3f5f"
            },
            "type": "carpet"
           }
          ],
          "choropleth": [
           {
            "colorbar": {
             "outlinewidth": 0,
             "ticks": ""
            },
            "type": "choropleth"
           }
          ],
          "contour": [
           {
            "colorbar": {
             "outlinewidth": 0,
             "ticks": ""
            },
            "colorscale": [
             [
              0,
              "#0d0887"
             ],
             [
              0.1111111111111111,
              "#46039f"
             ],
             [
              0.2222222222222222,
              "#7201a8"
             ],
             [
              0.3333333333333333,
              "#9c179e"
             ],
             [
              0.4444444444444444,
              "#bd3786"
             ],
             [
              0.5555555555555556,
              "#d8576b"
             ],
             [
              0.6666666666666666,
              "#ed7953"
             ],
             [
              0.7777777777777778,
              "#fb9f3a"
             ],
             [
              0.8888888888888888,
              "#fdca26"
             ],
             [
              1,
              "#f0f921"
             ]
            ],
            "type": "contour"
           }
          ],
          "contourcarpet": [
           {
            "colorbar": {
             "outlinewidth": 0,
             "ticks": ""
            },
            "type": "contourcarpet"
           }
          ],
          "heatmap": [
           {
            "colorbar": {
             "outlinewidth": 0,
             "ticks": ""
            },
            "colorscale": [
             [
              0,
              "#0d0887"
             ],
             [
              0.1111111111111111,
              "#46039f"
             ],
             [
              0.2222222222222222,
              "#7201a8"
             ],
             [
              0.3333333333333333,
              "#9c179e"
             ],
             [
              0.4444444444444444,
              "#bd3786"
             ],
             [
              0.5555555555555556,
              "#d8576b"
             ],
             [
              0.6666666666666666,
              "#ed7953"
             ],
             [
              0.7777777777777778,
              "#fb9f3a"
             ],
             [
              0.8888888888888888,
              "#fdca26"
             ],
             [
              1,
              "#f0f921"
             ]
            ],
            "type": "heatmap"
           }
          ],
          "heatmapgl": [
           {
            "colorbar": {
             "outlinewidth": 0,
             "ticks": ""
            },
            "colorscale": [
             [
              0,
              "#0d0887"
             ],
             [
              0.1111111111111111,
              "#46039f"
             ],
             [
              0.2222222222222222,
              "#7201a8"
             ],
             [
              0.3333333333333333,
              "#9c179e"
             ],
             [
              0.4444444444444444,
              "#bd3786"
             ],
             [
              0.5555555555555556,
              "#d8576b"
             ],
             [
              0.6666666666666666,
              "#ed7953"
             ],
             [
              0.7777777777777778,
              "#fb9f3a"
             ],
             [
              0.8888888888888888,
              "#fdca26"
             ],
             [
              1,
              "#f0f921"
             ]
            ],
            "type": "heatmapgl"
           }
          ],
          "histogram": [
           {
            "marker": {
             "pattern": {
              "fillmode": "overlay",
              "size": 10,
              "solidity": 0.2
             }
            },
            "type": "histogram"
           }
          ],
          "histogram2d": [
           {
            "colorbar": {
             "outlinewidth": 0,
             "ticks": ""
            },
            "colorscale": [
             [
              0,
              "#0d0887"
             ],
             [
              0.1111111111111111,
              "#46039f"
             ],
             [
              0.2222222222222222,
              "#7201a8"
             ],
             [
              0.3333333333333333,
              "#9c179e"
             ],
             [
              0.4444444444444444,
              "#bd3786"
             ],
             [
              0.5555555555555556,
              "#d8576b"
             ],
             [
              0.6666666666666666,
              "#ed7953"
             ],
             [
              0.7777777777777778,
              "#fb9f3a"
             ],
             [
              0.8888888888888888,
              "#fdca26"
             ],
             [
              1,
              "#f0f921"
             ]
            ],
            "type": "histogram2d"
           }
          ],
          "histogram2dcontour": [
           {
            "colorbar": {
             "outlinewidth": 0,
             "ticks": ""
            },
            "colorscale": [
             [
              0,
              "#0d0887"
             ],
             [
              0.1111111111111111,
              "#46039f"
             ],
             [
              0.2222222222222222,
              "#7201a8"
             ],
             [
              0.3333333333333333,
              "#9c179e"
             ],
             [
              0.4444444444444444,
              "#bd3786"
             ],
             [
              0.5555555555555556,
              "#d8576b"
             ],
             [
              0.6666666666666666,
              "#ed7953"
             ],
             [
              0.7777777777777778,
              "#fb9f3a"
             ],
             [
              0.8888888888888888,
              "#fdca26"
             ],
             [
              1,
              "#f0f921"
             ]
            ],
            "type": "histogram2dcontour"
           }
          ],
          "mesh3d": [
           {
            "colorbar": {
             "outlinewidth": 0,
             "ticks": ""
            },
            "type": "mesh3d"
           }
          ],
          "parcoords": [
           {
            "line": {
             "colorbar": {
              "outlinewidth": 0,
              "ticks": ""
             }
            },
            "type": "parcoords"
           }
          ],
          "pie": [
           {
            "automargin": true,
            "type": "pie"
           }
          ],
          "scatter": [
           {
            "fillpattern": {
             "fillmode": "overlay",
             "size": 10,
             "solidity": 0.2
            },
            "type": "scatter"
           }
          ],
          "scatter3d": [
           {
            "line": {
             "colorbar": {
              "outlinewidth": 0,
              "ticks": ""
             }
            },
            "marker": {
             "colorbar": {
              "outlinewidth": 0,
              "ticks": ""
             }
            },
            "type": "scatter3d"
           }
          ],
          "scattercarpet": [
           {
            "marker": {
             "colorbar": {
              "outlinewidth": 0,
              "ticks": ""
             }
            },
            "type": "scattercarpet"
           }
          ],
          "scattergeo": [
           {
            "marker": {
             "colorbar": {
              "outlinewidth": 0,
              "ticks": ""
             }
            },
            "type": "scattergeo"
           }
          ],
          "scattergl": [
           {
            "marker": {
             "colorbar": {
              "outlinewidth": 0,
              "ticks": ""
             }
            },
            "type": "scattergl"
           }
          ],
          "scattermapbox": [
           {
            "marker": {
             "colorbar": {
              "outlinewidth": 0,
              "ticks": ""
             }
            },
            "type": "scattermapbox"
           }
          ],
          "scatterpolar": [
           {
            "marker": {
             "colorbar": {
              "outlinewidth": 0,
              "ticks": ""
             }
            },
            "type": "scatterpolar"
           }
          ],
          "scatterpolargl": [
           {
            "marker": {
             "colorbar": {
              "outlinewidth": 0,
              "ticks": ""
             }
            },
            "type": "scatterpolargl"
           }
          ],
          "scatterternary": [
           {
            "marker": {
             "colorbar": {
              "outlinewidth": 0,
              "ticks": ""
             }
            },
            "type": "scatterternary"
           }
          ],
          "surface": [
           {
            "colorbar": {
             "outlinewidth": 0,
             "ticks": ""
            },
            "colorscale": [
             [
              0,
              "#0d0887"
             ],
             [
              0.1111111111111111,
              "#46039f"
             ],
             [
              0.2222222222222222,
              "#7201a8"
             ],
             [
              0.3333333333333333,
              "#9c179e"
             ],
             [
              0.4444444444444444,
              "#bd3786"
             ],
             [
              0.5555555555555556,
              "#d8576b"
             ],
             [
              0.6666666666666666,
              "#ed7953"
             ],
             [
              0.7777777777777778,
              "#fb9f3a"
             ],
             [
              0.8888888888888888,
              "#fdca26"
             ],
             [
              1,
              "#f0f921"
             ]
            ],
            "type": "surface"
           }
          ],
          "table": [
           {
            "cells": {
             "fill": {
              "color": "#EBF0F8"
             },
             "line": {
              "color": "white"
             }
            },
            "header": {
             "fill": {
              "color": "#C8D4E3"
             },
             "line": {
              "color": "white"
             }
            },
            "type": "table"
           }
          ]
         },
         "layout": {
          "annotationdefaults": {
           "arrowcolor": "#2a3f5f",
           "arrowhead": 0,
           "arrowwidth": 1
          },
          "autotypenumbers": "strict",
          "coloraxis": {
           "colorbar": {
            "outlinewidth": 0,
            "ticks": ""
           }
          },
          "colorscale": {
           "diverging": [
            [
             0,
             "#8e0152"
            ],
            [
             0.1,
             "#c51b7d"
            ],
            [
             0.2,
             "#de77ae"
            ],
            [
             0.3,
             "#f1b6da"
            ],
            [
             0.4,
             "#fde0ef"
            ],
            [
             0.5,
             "#f7f7f7"
            ],
            [
             0.6,
             "#e6f5d0"
            ],
            [
             0.7,
             "#b8e186"
            ],
            [
             0.8,
             "#7fbc41"
            ],
            [
             0.9,
             "#4d9221"
            ],
            [
             1,
             "#276419"
            ]
           ],
           "sequential": [
            [
             0,
             "#0d0887"
            ],
            [
             0.1111111111111111,
             "#46039f"
            ],
            [
             0.2222222222222222,
             "#7201a8"
            ],
            [
             0.3333333333333333,
             "#9c179e"
            ],
            [
             0.4444444444444444,
             "#bd3786"
            ],
            [
             0.5555555555555556,
             "#d8576b"
            ],
            [
             0.6666666666666666,
             "#ed7953"
            ],
            [
             0.7777777777777778,
             "#fb9f3a"
            ],
            [
             0.8888888888888888,
             "#fdca26"
            ],
            [
             1,
             "#f0f921"
            ]
           ],
           "sequentialminus": [
            [
             0,
             "#0d0887"
            ],
            [
             0.1111111111111111,
             "#46039f"
            ],
            [
             0.2222222222222222,
             "#7201a8"
            ],
            [
             0.3333333333333333,
             "#9c179e"
            ],
            [
             0.4444444444444444,
             "#bd3786"
            ],
            [
             0.5555555555555556,
             "#d8576b"
            ],
            [
             0.6666666666666666,
             "#ed7953"
            ],
            [
             0.7777777777777778,
             "#fb9f3a"
            ],
            [
             0.8888888888888888,
             "#fdca26"
            ],
            [
             1,
             "#f0f921"
            ]
           ]
          },
          "colorway": [
           "#636efa",
           "#EF553B",
           "#00cc96",
           "#ab63fa",
           "#FFA15A",
           "#19d3f3",
           "#FF6692",
           "#B6E880",
           "#FF97FF",
           "#FECB52"
          ],
          "font": {
           "color": "#2a3f5f"
          },
          "geo": {
           "bgcolor": "white",
           "lakecolor": "white",
           "landcolor": "#E5ECF6",
           "showlakes": true,
           "showland": true,
           "subunitcolor": "white"
          },
          "hoverlabel": {
           "align": "left"
          },
          "hovermode": "closest",
          "mapbox": {
           "style": "light"
          },
          "paper_bgcolor": "white",
          "plot_bgcolor": "#E5ECF6",
          "polar": {
           "angularaxis": {
            "gridcolor": "white",
            "linecolor": "white",
            "ticks": ""
           },
           "bgcolor": "#E5ECF6",
           "radialaxis": {
            "gridcolor": "white",
            "linecolor": "white",
            "ticks": ""
           }
          },
          "scene": {
           "xaxis": {
            "backgroundcolor": "#E5ECF6",
            "gridcolor": "white",
            "gridwidth": 2,
            "linecolor": "white",
            "showbackground": true,
            "ticks": "",
            "zerolinecolor": "white"
           },
           "yaxis": {
            "backgroundcolor": "#E5ECF6",
            "gridcolor": "white",
            "gridwidth": 2,
            "linecolor": "white",
            "showbackground": true,
            "ticks": "",
            "zerolinecolor": "white"
           },
           "zaxis": {
            "backgroundcolor": "#E5ECF6",
            "gridcolor": "white",
            "gridwidth": 2,
            "linecolor": "white",
            "showbackground": true,
            "ticks": "",
            "zerolinecolor": "white"
           }
          },
          "shapedefaults": {
           "line": {
            "color": "#2a3f5f"
           }
          },
          "ternary": {
           "aaxis": {
            "gridcolor": "white",
            "linecolor": "white",
            "ticks": ""
           },
           "baxis": {
            "gridcolor": "white",
            "linecolor": "white",
            "ticks": ""
           },
           "bgcolor": "#E5ECF6",
           "caxis": {
            "gridcolor": "white",
            "linecolor": "white",
            "ticks": ""
           }
          },
          "title": {
           "x": 0.05
          },
          "xaxis": {
           "automargin": true,
           "gridcolor": "white",
           "linecolor": "white",
           "ticks": "",
           "title": {
            "standoff": 15
           },
           "zerolinecolor": "white",
           "zerolinewidth": 2
          },
          "yaxis": {
           "automargin": true,
           "gridcolor": "white",
           "linecolor": "white",
           "ticks": "",
           "title": {
            "standoff": 15
           },
           "zerolinecolor": "white",
           "zerolinewidth": 2
          }
         }
        },
        "title": {
         "text": "Frequência dos disease por variant (Top 8)"
        },
        "xaxis": {
         "anchor": "y",
         "domain": [
          0,
          1
         ],
         "title": {
          "text": "variant"
         }
        },
        "yaxis": {
         "anchor": "x",
         "domain": [
          0,
          1
         ],
         "title": {
          "text": "Frequência"
         }
        }
       }
      }
     },
     "metadata": {},
     "output_type": "display_data"
    }
   ],
   "source": [
    "# agrupa os dados pela combinação de \"disease\" e \"variant\" e soma a quantidade de ocorrências de cada combinação\n",
    "grouped_variant_df = civic.groupby(['disease', 'variant']).size().reset_index(name='count')\n",
    "# ordena os dados pela quantidade de ocorrências em ordem decrescente\n",
    "sorted_variant_df = grouped_variant_df.sort_values('count', ascending=False)\n",
    "# seleciona as informações mais relevantes\n",
    "top_variant_df = sorted_variant_df.head(10)\n",
    "\n",
    "# Cria o gráfico de barras\n",
    "fig = px.bar(top_variant_df, x='variant', y='count', color='disease', \n",
    "             title='Frequência dos disease por variant (Top 8)',\n",
    "             color_discrete_sequence=px.colors.qualitative.Pastel)#, #template='plotly_dark')\n",
    "# Personaliza os rótulos do eixo x e y\n",
    "fig.update_xaxes(title='variant')\n",
    "fig.update_yaxes(title='Frequência')\n",
    "# Mostra o gráfico\n",
    "fig.show()"
   ]
  },
  {
   "attachments": {},
   "cell_type": "markdown",
   "metadata": {},
   "source": [
    "Cada doença possui sua variant, quais as maiores interações ? Por exemplo: Mutation se relaciona com 3 diseases, colorectal cancer com uma contagem de 41 aparições, acute myeloid leukemia com 37 aparições e lung non-small cell com 36 aparições"
   ]
  },
  {
   "cell_type": "code",
   "execution_count": 32,
   "metadata": {},
   "outputs": [
    {
     "data": {
      "application/vnd.plotly.v1+json": {
       "config": {
        "plotlyServerURL": "https://plot.ly"
       },
       "data": [
        {
         "alignmentgroup": "True",
         "hovertemplate": "disease=Chronic Myeloid Leukemia<br>drugs=%{x}<br>count=%{y}<extra></extra>",
         "legendgroup": "Chronic Myeloid Leukemia",
         "marker": {
          "color": "rgb(102, 197, 204)",
          "pattern": {
           "shape": ""
          }
         },
         "name": "Chronic Myeloid Leukemia",
         "offsetgroup": "Chronic Myeloid Leukemia",
         "orientation": "v",
         "showlegend": true,
         "textposition": "auto",
         "type": "bar",
         "x": [
          "Dasatinib",
          "Imatinib",
          "Bosutinib",
          "Imatinib Mesylate"
         ],
         "xaxis": "x",
         "y": [
          76,
          51,
          50,
          44
         ],
         "yaxis": "y"
        },
        {
         "alignmentgroup": "True",
         "hovertemplate": "disease=Colorectal Cancer<br>drugs=%{x}<br>count=%{y}<extra></extra>",
         "legendgroup": "Colorectal Cancer",
         "marker": {
          "color": "rgb(246, 207, 113)",
          "pattern": {
           "shape": ""
          }
         },
         "name": "Colorectal Cancer",
         "offsetgroup": "Colorectal Cancer",
         "orientation": "v",
         "showlegend": true,
         "textposition": "auto",
         "type": "bar",
         "x": [
          "Cetuximab"
         ],
         "xaxis": "x",
         "y": [
          56
         ],
         "yaxis": "y"
        },
        {
         "alignmentgroup": "True",
         "hovertemplate": "disease=Lung Non-small Cell Carcinoma<br>drugs=%{x}<br>count=%{y}<extra></extra>",
         "legendgroup": "Lung Non-small Cell Carcinoma",
         "marker": {
          "color": "rgb(248, 156, 116)",
          "pattern": {
           "shape": ""
          }
         },
         "name": "Lung Non-small Cell Carcinoma",
         "offsetgroup": "Lung Non-small Cell Carcinoma",
         "orientation": "v",
         "showlegend": true,
         "textposition": "auto",
         "type": "bar",
         "x": [
          "Crizotinib",
          "Gefitinib",
          "Erlotinib"
         ],
         "xaxis": "x",
         "y": [
          51,
          33,
          29
         ],
         "yaxis": "y"
        },
        {
         "alignmentgroup": "True",
         "hovertemplate": "disease=Melanoma<br>drugs=%{x}<br>count=%{y}<extra></extra>",
         "legendgroup": "Melanoma",
         "marker": {
          "color": "rgb(220, 176, 242)",
          "pattern": {
           "shape": ""
          }
         },
         "name": "Melanoma",
         "offsetgroup": "Melanoma",
         "orientation": "v",
         "showlegend": true,
         "textposition": "auto",
         "type": "bar",
         "x": [
          "Vemurafenib"
         ],
         "xaxis": "x",
         "y": [
          37
         ],
         "yaxis": "y"
        },
        {
         "alignmentgroup": "True",
         "hovertemplate": "disease=Gastrointestinal Stromal Tumor<br>drugs=%{x}<br>count=%{y}<extra></extra>",
         "legendgroup": "Gastrointestinal Stromal Tumor",
         "marker": {
          "color": "rgb(135, 197, 95)",
          "pattern": {
           "shape": ""
          }
         },
         "name": "Gastrointestinal Stromal Tumor",
         "offsetgroup": "Gastrointestinal Stromal Tumor",
         "orientation": "v",
         "showlegend": true,
         "textposition": "auto",
         "type": "bar",
         "x": [
          "Imatinib"
         ],
         "xaxis": "x",
         "y": [
          30
         ],
         "yaxis": "y"
        }
       ],
       "layout": {
        "barmode": "relative",
        "legend": {
         "title": {
          "text": "disease"
         },
         "tracegroupgap": 0
        },
        "template": {
         "data": {
          "bar": [
           {
            "error_x": {
             "color": "#2a3f5f"
            },
            "error_y": {
             "color": "#2a3f5f"
            },
            "marker": {
             "line": {
              "color": "#E5ECF6",
              "width": 0.5
             },
             "pattern": {
              "fillmode": "overlay",
              "size": 10,
              "solidity": 0.2
             }
            },
            "type": "bar"
           }
          ],
          "barpolar": [
           {
            "marker": {
             "line": {
              "color": "#E5ECF6",
              "width": 0.5
             },
             "pattern": {
              "fillmode": "overlay",
              "size": 10,
              "solidity": 0.2
             }
            },
            "type": "barpolar"
           }
          ],
          "carpet": [
           {
            "aaxis": {
             "endlinecolor": "#2a3f5f",
             "gridcolor": "white",
             "linecolor": "white",
             "minorgridcolor": "white",
             "startlinecolor": "#2a3f5f"
            },
            "baxis": {
             "endlinecolor": "#2a3f5f",
             "gridcolor": "white",
             "linecolor": "white",
             "minorgridcolor": "white",
             "startlinecolor": "#2a3f5f"
            },
            "type": "carpet"
           }
          ],
          "choropleth": [
           {
            "colorbar": {
             "outlinewidth": 0,
             "ticks": ""
            },
            "type": "choropleth"
           }
          ],
          "contour": [
           {
            "colorbar": {
             "outlinewidth": 0,
             "ticks": ""
            },
            "colorscale": [
             [
              0,
              "#0d0887"
             ],
             [
              0.1111111111111111,
              "#46039f"
             ],
             [
              0.2222222222222222,
              "#7201a8"
             ],
             [
              0.3333333333333333,
              "#9c179e"
             ],
             [
              0.4444444444444444,
              "#bd3786"
             ],
             [
              0.5555555555555556,
              "#d8576b"
             ],
             [
              0.6666666666666666,
              "#ed7953"
             ],
             [
              0.7777777777777778,
              "#fb9f3a"
             ],
             [
              0.8888888888888888,
              "#fdca26"
             ],
             [
              1,
              "#f0f921"
             ]
            ],
            "type": "contour"
           }
          ],
          "contourcarpet": [
           {
            "colorbar": {
             "outlinewidth": 0,
             "ticks": ""
            },
            "type": "contourcarpet"
           }
          ],
          "heatmap": [
           {
            "colorbar": {
             "outlinewidth": 0,
             "ticks": ""
            },
            "colorscale": [
             [
              0,
              "#0d0887"
             ],
             [
              0.1111111111111111,
              "#46039f"
             ],
             [
              0.2222222222222222,
              "#7201a8"
             ],
             [
              0.3333333333333333,
              "#9c179e"
             ],
             [
              0.4444444444444444,
              "#bd3786"
             ],
             [
              0.5555555555555556,
              "#d8576b"
             ],
             [
              0.6666666666666666,
              "#ed7953"
             ],
             [
              0.7777777777777778,
              "#fb9f3a"
             ],
             [
              0.8888888888888888,
              "#fdca26"
             ],
             [
              1,
              "#f0f921"
             ]
            ],
            "type": "heatmap"
           }
          ],
          "heatmapgl": [
           {
            "colorbar": {
             "outlinewidth": 0,
             "ticks": ""
            },
            "colorscale": [
             [
              0,
              "#0d0887"
             ],
             [
              0.1111111111111111,
              "#46039f"
             ],
             [
              0.2222222222222222,
              "#7201a8"
             ],
             [
              0.3333333333333333,
              "#9c179e"
             ],
             [
              0.4444444444444444,
              "#bd3786"
             ],
             [
              0.5555555555555556,
              "#d8576b"
             ],
             [
              0.6666666666666666,
              "#ed7953"
             ],
             [
              0.7777777777777778,
              "#fb9f3a"
             ],
             [
              0.8888888888888888,
              "#fdca26"
             ],
             [
              1,
              "#f0f921"
             ]
            ],
            "type": "heatmapgl"
           }
          ],
          "histogram": [
           {
            "marker": {
             "pattern": {
              "fillmode": "overlay",
              "size": 10,
              "solidity": 0.2
             }
            },
            "type": "histogram"
           }
          ],
          "histogram2d": [
           {
            "colorbar": {
             "outlinewidth": 0,
             "ticks": ""
            },
            "colorscale": [
             [
              0,
              "#0d0887"
             ],
             [
              0.1111111111111111,
              "#46039f"
             ],
             [
              0.2222222222222222,
              "#7201a8"
             ],
             [
              0.3333333333333333,
              "#9c179e"
             ],
             [
              0.4444444444444444,
              "#bd3786"
             ],
             [
              0.5555555555555556,
              "#d8576b"
             ],
             [
              0.6666666666666666,
              "#ed7953"
             ],
             [
              0.7777777777777778,
              "#fb9f3a"
             ],
             [
              0.8888888888888888,
              "#fdca26"
             ],
             [
              1,
              "#f0f921"
             ]
            ],
            "type": "histogram2d"
           }
          ],
          "histogram2dcontour": [
           {
            "colorbar": {
             "outlinewidth": 0,
             "ticks": ""
            },
            "colorscale": [
             [
              0,
              "#0d0887"
             ],
             [
              0.1111111111111111,
              "#46039f"
             ],
             [
              0.2222222222222222,
              "#7201a8"
             ],
             [
              0.3333333333333333,
              "#9c179e"
             ],
             [
              0.4444444444444444,
              "#bd3786"
             ],
             [
              0.5555555555555556,
              "#d8576b"
             ],
             [
              0.6666666666666666,
              "#ed7953"
             ],
             [
              0.7777777777777778,
              "#fb9f3a"
             ],
             [
              0.8888888888888888,
              "#fdca26"
             ],
             [
              1,
              "#f0f921"
             ]
            ],
            "type": "histogram2dcontour"
           }
          ],
          "mesh3d": [
           {
            "colorbar": {
             "outlinewidth": 0,
             "ticks": ""
            },
            "type": "mesh3d"
           }
          ],
          "parcoords": [
           {
            "line": {
             "colorbar": {
              "outlinewidth": 0,
              "ticks": ""
             }
            },
            "type": "parcoords"
           }
          ],
          "pie": [
           {
            "automargin": true,
            "type": "pie"
           }
          ],
          "scatter": [
           {
            "fillpattern": {
             "fillmode": "overlay",
             "size": 10,
             "solidity": 0.2
            },
            "type": "scatter"
           }
          ],
          "scatter3d": [
           {
            "line": {
             "colorbar": {
              "outlinewidth": 0,
              "ticks": ""
             }
            },
            "marker": {
             "colorbar": {
              "outlinewidth": 0,
              "ticks": ""
             }
            },
            "type": "scatter3d"
           }
          ],
          "scattercarpet": [
           {
            "marker": {
             "colorbar": {
              "outlinewidth": 0,
              "ticks": ""
             }
            },
            "type": "scattercarpet"
           }
          ],
          "scattergeo": [
           {
            "marker": {
             "colorbar": {
              "outlinewidth": 0,
              "ticks": ""
             }
            },
            "type": "scattergeo"
           }
          ],
          "scattergl": [
           {
            "marker": {
             "colorbar": {
              "outlinewidth": 0,
              "ticks": ""
             }
            },
            "type": "scattergl"
           }
          ],
          "scattermapbox": [
           {
            "marker": {
             "colorbar": {
              "outlinewidth": 0,
              "ticks": ""
             }
            },
            "type": "scattermapbox"
           }
          ],
          "scatterpolar": [
           {
            "marker": {
             "colorbar": {
              "outlinewidth": 0,
              "ticks": ""
             }
            },
            "type": "scatterpolar"
           }
          ],
          "scatterpolargl": [
           {
            "marker": {
             "colorbar": {
              "outlinewidth": 0,
              "ticks": ""
             }
            },
            "type": "scatterpolargl"
           }
          ],
          "scatterternary": [
           {
            "marker": {
             "colorbar": {
              "outlinewidth": 0,
              "ticks": ""
             }
            },
            "type": "scatterternary"
           }
          ],
          "surface": [
           {
            "colorbar": {
             "outlinewidth": 0,
             "ticks": ""
            },
            "colorscale": [
             [
              0,
              "#0d0887"
             ],
             [
              0.1111111111111111,
              "#46039f"
             ],
             [
              0.2222222222222222,
              "#7201a8"
             ],
             [
              0.3333333333333333,
              "#9c179e"
             ],
             [
              0.4444444444444444,
              "#bd3786"
             ],
             [
              0.5555555555555556,
              "#d8576b"
             ],
             [
              0.6666666666666666,
              "#ed7953"
             ],
             [
              0.7777777777777778,
              "#fb9f3a"
             ],
             [
              0.8888888888888888,
              "#fdca26"
             ],
             [
              1,
              "#f0f921"
             ]
            ],
            "type": "surface"
           }
          ],
          "table": [
           {
            "cells": {
             "fill": {
              "color": "#EBF0F8"
             },
             "line": {
              "color": "white"
             }
            },
            "header": {
             "fill": {
              "color": "#C8D4E3"
             },
             "line": {
              "color": "white"
             }
            },
            "type": "table"
           }
          ]
         },
         "layout": {
          "annotationdefaults": {
           "arrowcolor": "#2a3f5f",
           "arrowhead": 0,
           "arrowwidth": 1
          },
          "autotypenumbers": "strict",
          "coloraxis": {
           "colorbar": {
            "outlinewidth": 0,
            "ticks": ""
           }
          },
          "colorscale": {
           "diverging": [
            [
             0,
             "#8e0152"
            ],
            [
             0.1,
             "#c51b7d"
            ],
            [
             0.2,
             "#de77ae"
            ],
            [
             0.3,
             "#f1b6da"
            ],
            [
             0.4,
             "#fde0ef"
            ],
            [
             0.5,
             "#f7f7f7"
            ],
            [
             0.6,
             "#e6f5d0"
            ],
            [
             0.7,
             "#b8e186"
            ],
            [
             0.8,
             "#7fbc41"
            ],
            [
             0.9,
             "#4d9221"
            ],
            [
             1,
             "#276419"
            ]
           ],
           "sequential": [
            [
             0,
             "#0d0887"
            ],
            [
             0.1111111111111111,
             "#46039f"
            ],
            [
             0.2222222222222222,
             "#7201a8"
            ],
            [
             0.3333333333333333,
             "#9c179e"
            ],
            [
             0.4444444444444444,
             "#bd3786"
            ],
            [
             0.5555555555555556,
             "#d8576b"
            ],
            [
             0.6666666666666666,
             "#ed7953"
            ],
            [
             0.7777777777777778,
             "#fb9f3a"
            ],
            [
             0.8888888888888888,
             "#fdca26"
            ],
            [
             1,
             "#f0f921"
            ]
           ],
           "sequentialminus": [
            [
             0,
             "#0d0887"
            ],
            [
             0.1111111111111111,
             "#46039f"
            ],
            [
             0.2222222222222222,
             "#7201a8"
            ],
            [
             0.3333333333333333,
             "#9c179e"
            ],
            [
             0.4444444444444444,
             "#bd3786"
            ],
            [
             0.5555555555555556,
             "#d8576b"
            ],
            [
             0.6666666666666666,
             "#ed7953"
            ],
            [
             0.7777777777777778,
             "#fb9f3a"
            ],
            [
             0.8888888888888888,
             "#fdca26"
            ],
            [
             1,
             "#f0f921"
            ]
           ]
          },
          "colorway": [
           "#636efa",
           "#EF553B",
           "#00cc96",
           "#ab63fa",
           "#FFA15A",
           "#19d3f3",
           "#FF6692",
           "#B6E880",
           "#FF97FF",
           "#FECB52"
          ],
          "font": {
           "color": "#2a3f5f"
          },
          "geo": {
           "bgcolor": "white",
           "lakecolor": "white",
           "landcolor": "#E5ECF6",
           "showlakes": true,
           "showland": true,
           "subunitcolor": "white"
          },
          "hoverlabel": {
           "align": "left"
          },
          "hovermode": "closest",
          "mapbox": {
           "style": "light"
          },
          "paper_bgcolor": "white",
          "plot_bgcolor": "#E5ECF6",
          "polar": {
           "angularaxis": {
            "gridcolor": "white",
            "linecolor": "white",
            "ticks": ""
           },
           "bgcolor": "#E5ECF6",
           "radialaxis": {
            "gridcolor": "white",
            "linecolor": "white",
            "ticks": ""
           }
          },
          "scene": {
           "xaxis": {
            "backgroundcolor": "#E5ECF6",
            "gridcolor": "white",
            "gridwidth": 2,
            "linecolor": "white",
            "showbackground": true,
            "ticks": "",
            "zerolinecolor": "white"
           },
           "yaxis": {
            "backgroundcolor": "#E5ECF6",
            "gridcolor": "white",
            "gridwidth": 2,
            "linecolor": "white",
            "showbackground": true,
            "ticks": "",
            "zerolinecolor": "white"
           },
           "zaxis": {
            "backgroundcolor": "#E5ECF6",
            "gridcolor": "white",
            "gridwidth": 2,
            "linecolor": "white",
            "showbackground": true,
            "ticks": "",
            "zerolinecolor": "white"
           }
          },
          "shapedefaults": {
           "line": {
            "color": "#2a3f5f"
           }
          },
          "ternary": {
           "aaxis": {
            "gridcolor": "white",
            "linecolor": "white",
            "ticks": ""
           },
           "baxis": {
            "gridcolor": "white",
            "linecolor": "white",
            "ticks": ""
           },
           "bgcolor": "#E5ECF6",
           "caxis": {
            "gridcolor": "white",
            "linecolor": "white",
            "ticks": ""
           }
          },
          "title": {
           "x": 0.05
          },
          "xaxis": {
           "automargin": true,
           "gridcolor": "white",
           "linecolor": "white",
           "ticks": "",
           "title": {
            "standoff": 15
           },
           "zerolinecolor": "white",
           "zerolinewidth": 2
          },
          "yaxis": {
           "automargin": true,
           "gridcolor": "white",
           "linecolor": "white",
           "ticks": "",
           "title": {
            "standoff": 15
           },
           "zerolinecolor": "white",
           "zerolinewidth": 2
          }
         }
        },
        "title": {
         "text": "Frequência dos disease por drugs (Top 10)"
        },
        "xaxis": {
         "anchor": "y",
         "domain": [
          0,
          1
         ],
         "title": {
          "text": "drugs"
         }
        },
        "yaxis": {
         "anchor": "x",
         "domain": [
          0,
          1
         ],
         "title": {
          "text": "Frequência"
         }
        }
       }
      }
     },
     "metadata": {},
     "output_type": "display_data"
    }
   ],
   "source": [
    "# agrupa os dados pela combinação de \"disease\" e \"drugs\" e soma a quantidade de ocorrências de cada combinação\n",
    "grouped_drugs_df = civic.groupby(['disease', 'drugs']).size().reset_index(name='count')\n",
    "# ordena os dados pela quantidade de ocorrências em ordem decrescente\n",
    "sorted_drugs_df = grouped_drugs_df.sort_values('count', ascending=False)\n",
    "# seleciona as informações mais relevantes\n",
    "top_drugs_df = sorted_drugs_df.head(10)\n",
    "\n",
    "# Cria o gráfico de barras\n",
    "fig = px.bar(top_drugs_df, x='drugs', y='count', color='disease', \n",
    "             title='Frequência dos disease por drugs (Top 10)',\n",
    "             color_discrete_sequence=px.colors.qualitative.Pastel)#, #template='plotly_dark')\n",
    "# Personaliza os rótulos do eixo x e y\n",
    "fig.update_xaxes(title='drugs')\n",
    "fig.update_yaxes(title='Frequência')\n",
    "# Mostra o gráfico\n",
    "fig.show()"
   ]
  },
  {
   "attachments": {},
   "cell_type": "markdown",
   "metadata": {},
   "source": [
    "Para cada câncer uma ou mais drogas são usadas em seus tratamentos, quais as melhores interações ?\n",
    "\n",
    "Ex: Chronic Myeloid Leukemia tem uma grande interação com dasatinib, imatinib, bosutinib, imatinib mesylate, ou seja, esse tipo de câncer pode ser tratado com todas essas drogas mas a que mais é usada é a imatinib."
   ]
  },
  {
   "cell_type": "code",
   "execution_count": 33,
   "metadata": {},
   "outputs": [
    {
     "data": {
      "application/vnd.plotly.v1+json": {
       "config": {
        "plotlyServerURL": "https://plot.ly"
       },
       "data": [
        {
         "alignmentgroup": "True",
         "hovertemplate": "disease=Von Hippel-Lindau Disease<br>evidence_type=%{x}<br>count=%{y}<extra></extra>",
         "legendgroup": "Von Hippel-Lindau Disease",
         "marker": {
          "color": "rgb(102, 197, 204)",
          "pattern": {
           "shape": ""
          }
         },
         "name": "Von Hippel-Lindau Disease",
         "offsetgroup": "Von Hippel-Lindau Disease",
         "orientation": "v",
         "showlegend": true,
         "textposition": "auto",
         "type": "bar",
         "x": [
          "Predisposing"
         ],
         "xaxis": "x",
         "y": [
          587
         ],
         "yaxis": "y"
        },
        {
         "alignmentgroup": "True",
         "hovertemplate": "disease=Lung Non-small Cell Carcinoma<br>evidence_type=%{x}<br>count=%{y}<extra></extra>",
         "legendgroup": "Lung Non-small Cell Carcinoma",
         "marker": {
          "color": "rgb(246, 207, 113)",
          "pattern": {
           "shape": ""
          }
         },
         "name": "Lung Non-small Cell Carcinoma",
         "offsetgroup": "Lung Non-small Cell Carcinoma",
         "orientation": "v",
         "showlegend": true,
         "textposition": "auto",
         "type": "bar",
         "x": [
          "Predictive"
         ],
         "xaxis": "x",
         "y": [
          346
         ],
         "yaxis": "y"
        },
        {
         "alignmentgroup": "True",
         "hovertemplate": "disease=Chronic Myeloid Leukemia<br>evidence_type=%{x}<br>count=%{y}<extra></extra>",
         "legendgroup": "Chronic Myeloid Leukemia",
         "marker": {
          "color": "rgb(248, 156, 116)",
          "pattern": {
           "shape": ""
          }
         },
         "name": "Chronic Myeloid Leukemia",
         "offsetgroup": "Chronic Myeloid Leukemia",
         "orientation": "v",
         "showlegend": true,
         "textposition": "auto",
         "type": "bar",
         "x": [
          "Predictive"
         ],
         "xaxis": "x",
         "y": [
          299
         ],
         "yaxis": "y"
        },
        {
         "alignmentgroup": "True",
         "hovertemplate": "disease=Colorectal Cancer<br>evidence_type=%{x}<br>count=%{y}<extra></extra>",
         "legendgroup": "Colorectal Cancer",
         "marker": {
          "color": "rgb(220, 176, 242)",
          "pattern": {
           "shape": ""
          }
         },
         "name": "Colorectal Cancer",
         "offsetgroup": "Colorectal Cancer",
         "orientation": "v",
         "showlegend": true,
         "textposition": "auto",
         "type": "bar",
         "x": [
          "Predictive"
         ],
         "xaxis": "x",
         "y": [
          257
         ],
         "yaxis": "y"
        },
        {
         "alignmentgroup": "True",
         "hovertemplate": "disease=Cancer<br>evidence_type=%{x}<br>count=%{y}<extra></extra>",
         "legendgroup": "Cancer",
         "marker": {
          "color": "rgb(135, 197, 95)",
          "pattern": {
           "shape": ""
          }
         },
         "name": "Cancer",
         "offsetgroup": "Cancer",
         "orientation": "v",
         "showlegend": true,
         "textposition": "auto",
         "type": "bar",
         "x": [
          "Predictive"
         ],
         "xaxis": "x",
         "y": [
          160
         ],
         "yaxis": "y"
        },
        {
         "alignmentgroup": "True",
         "hovertemplate": "disease=Breast Cancer<br>evidence_type=%{x}<br>count=%{y}<extra></extra>",
         "legendgroup": "Breast Cancer",
         "marker": {
          "color": "rgb(158, 185, 243)",
          "pattern": {
           "shape": ""
          }
         },
         "name": "Breast Cancer",
         "offsetgroup": "Breast Cancer",
         "orientation": "v",
         "showlegend": true,
         "textposition": "auto",
         "type": "bar",
         "x": [
          "Predictive"
         ],
         "xaxis": "x",
         "y": [
          125
         ],
         "yaxis": "y"
        },
        {
         "alignmentgroup": "True",
         "hovertemplate": "disease=Melanoma<br>evidence_type=%{x}<br>count=%{y}<extra></extra>",
         "legendgroup": "Melanoma",
         "marker": {
          "color": "rgb(254, 136, 177)",
          "pattern": {
           "shape": ""
          }
         },
         "name": "Melanoma",
         "offsetgroup": "Melanoma",
         "orientation": "v",
         "showlegend": true,
         "textposition": "auto",
         "type": "bar",
         "x": [
          "Predictive"
         ],
         "xaxis": "x",
         "y": [
          118
         ],
         "yaxis": "y"
        },
        {
         "alignmentgroup": "True",
         "hovertemplate": "disease=Acute Myeloid Leukemia<br>evidence_type=%{x}<br>count=%{y}<extra></extra>",
         "legendgroup": "Acute Myeloid Leukemia",
         "marker": {
          "color": "rgb(201, 219, 116)",
          "pattern": {
           "shape": ""
          }
         },
         "name": "Acute Myeloid Leukemia",
         "offsetgroup": "Acute Myeloid Leukemia",
         "orientation": "v",
         "showlegend": true,
         "textposition": "auto",
         "type": "bar",
         "x": [
          "Prognostic"
         ],
         "xaxis": "x",
         "y": [
          107
         ],
         "yaxis": "y"
        },
        {
         "alignmentgroup": "True",
         "hovertemplate": "disease=Her2-receptor Positive Breast Cancer<br>evidence_type=%{x}<br>count=%{y}<extra></extra>",
         "legendgroup": "Her2-receptor Positive Breast Cancer",
         "marker": {
          "color": "rgb(139, 224, 164)",
          "pattern": {
           "shape": ""
          }
         },
         "name": "Her2-receptor Positive Breast Cancer",
         "offsetgroup": "Her2-receptor Positive Breast Cancer",
         "orientation": "v",
         "showlegend": true,
         "textposition": "auto",
         "type": "bar",
         "x": [
          "Predictive"
         ],
         "xaxis": "x",
         "y": [
          84
         ],
         "yaxis": "y"
        },
        {
         "alignmentgroup": "True",
         "hovertemplate": "disease=Gastrointestinal Stromal Tumor<br>evidence_type=%{x}<br>count=%{y}<extra></extra>",
         "legendgroup": "Gastrointestinal Stromal Tumor",
         "marker": {
          "color": "rgb(180, 151, 231)",
          "pattern": {
           "shape": ""
          }
         },
         "name": "Gastrointestinal Stromal Tumor",
         "offsetgroup": "Gastrointestinal Stromal Tumor",
         "orientation": "v",
         "showlegend": true,
         "textposition": "auto",
         "type": "bar",
         "x": [
          "Predictive"
         ],
         "xaxis": "x",
         "y": [
          84
         ],
         "yaxis": "y"
        }
       ],
       "layout": {
        "barmode": "relative",
        "legend": {
         "title": {
          "text": "disease"
         },
         "tracegroupgap": 0
        },
        "template": {
         "data": {
          "bar": [
           {
            "error_x": {
             "color": "#2a3f5f"
            },
            "error_y": {
             "color": "#2a3f5f"
            },
            "marker": {
             "line": {
              "color": "#E5ECF6",
              "width": 0.5
             },
             "pattern": {
              "fillmode": "overlay",
              "size": 10,
              "solidity": 0.2
             }
            },
            "type": "bar"
           }
          ],
          "barpolar": [
           {
            "marker": {
             "line": {
              "color": "#E5ECF6",
              "width": 0.5
             },
             "pattern": {
              "fillmode": "overlay",
              "size": 10,
              "solidity": 0.2
             }
            },
            "type": "barpolar"
           }
          ],
          "carpet": [
           {
            "aaxis": {
             "endlinecolor": "#2a3f5f",
             "gridcolor": "white",
             "linecolor": "white",
             "minorgridcolor": "white",
             "startlinecolor": "#2a3f5f"
            },
            "baxis": {
             "endlinecolor": "#2a3f5f",
             "gridcolor": "white",
             "linecolor": "white",
             "minorgridcolor": "white",
             "startlinecolor": "#2a3f5f"
            },
            "type": "carpet"
           }
          ],
          "choropleth": [
           {
            "colorbar": {
             "outlinewidth": 0,
             "ticks": ""
            },
            "type": "choropleth"
           }
          ],
          "contour": [
           {
            "colorbar": {
             "outlinewidth": 0,
             "ticks": ""
            },
            "colorscale": [
             [
              0,
              "#0d0887"
             ],
             [
              0.1111111111111111,
              "#46039f"
             ],
             [
              0.2222222222222222,
              "#7201a8"
             ],
             [
              0.3333333333333333,
              "#9c179e"
             ],
             [
              0.4444444444444444,
              "#bd3786"
             ],
             [
              0.5555555555555556,
              "#d8576b"
             ],
             [
              0.6666666666666666,
              "#ed7953"
             ],
             [
              0.7777777777777778,
              "#fb9f3a"
             ],
             [
              0.8888888888888888,
              "#fdca26"
             ],
             [
              1,
              "#f0f921"
             ]
            ],
            "type": "contour"
           }
          ],
          "contourcarpet": [
           {
            "colorbar": {
             "outlinewidth": 0,
             "ticks": ""
            },
            "type": "contourcarpet"
           }
          ],
          "heatmap": [
           {
            "colorbar": {
             "outlinewidth": 0,
             "ticks": ""
            },
            "colorscale": [
             [
              0,
              "#0d0887"
             ],
             [
              0.1111111111111111,
              "#46039f"
             ],
             [
              0.2222222222222222,
              "#7201a8"
             ],
             [
              0.3333333333333333,
              "#9c179e"
             ],
             [
              0.4444444444444444,
              "#bd3786"
             ],
             [
              0.5555555555555556,
              "#d8576b"
             ],
             [
              0.6666666666666666,
              "#ed7953"
             ],
             [
              0.7777777777777778,
              "#fb9f3a"
             ],
             [
              0.8888888888888888,
              "#fdca26"
             ],
             [
              1,
              "#f0f921"
             ]
            ],
            "type": "heatmap"
           }
          ],
          "heatmapgl": [
           {
            "colorbar": {
             "outlinewidth": 0,
             "ticks": ""
            },
            "colorscale": [
             [
              0,
              "#0d0887"
             ],
             [
              0.1111111111111111,
              "#46039f"
             ],
             [
              0.2222222222222222,
              "#7201a8"
             ],
             [
              0.3333333333333333,
              "#9c179e"
             ],
             [
              0.4444444444444444,
              "#bd3786"
             ],
             [
              0.5555555555555556,
              "#d8576b"
             ],
             [
              0.6666666666666666,
              "#ed7953"
             ],
             [
              0.7777777777777778,
              "#fb9f3a"
             ],
             [
              0.8888888888888888,
              "#fdca26"
             ],
             [
              1,
              "#f0f921"
             ]
            ],
            "type": "heatmapgl"
           }
          ],
          "histogram": [
           {
            "marker": {
             "pattern": {
              "fillmode": "overlay",
              "size": 10,
              "solidity": 0.2
             }
            },
            "type": "histogram"
           }
          ],
          "histogram2d": [
           {
            "colorbar": {
             "outlinewidth": 0,
             "ticks": ""
            },
            "colorscale": [
             [
              0,
              "#0d0887"
             ],
             [
              0.1111111111111111,
              "#46039f"
             ],
             [
              0.2222222222222222,
              "#7201a8"
             ],
             [
              0.3333333333333333,
              "#9c179e"
             ],
             [
              0.4444444444444444,
              "#bd3786"
             ],
             [
              0.5555555555555556,
              "#d8576b"
             ],
             [
              0.6666666666666666,
              "#ed7953"
             ],
             [
              0.7777777777777778,
              "#fb9f3a"
             ],
             [
              0.8888888888888888,
              "#fdca26"
             ],
             [
              1,
              "#f0f921"
             ]
            ],
            "type": "histogram2d"
           }
          ],
          "histogram2dcontour": [
           {
            "colorbar": {
             "outlinewidth": 0,
             "ticks": ""
            },
            "colorscale": [
             [
              0,
              "#0d0887"
             ],
             [
              0.1111111111111111,
              "#46039f"
             ],
             [
              0.2222222222222222,
              "#7201a8"
             ],
             [
              0.3333333333333333,
              "#9c179e"
             ],
             [
              0.4444444444444444,
              "#bd3786"
             ],
             [
              0.5555555555555556,
              "#d8576b"
             ],
             [
              0.6666666666666666,
              "#ed7953"
             ],
             [
              0.7777777777777778,
              "#fb9f3a"
             ],
             [
              0.8888888888888888,
              "#fdca26"
             ],
             [
              1,
              "#f0f921"
             ]
            ],
            "type": "histogram2dcontour"
           }
          ],
          "mesh3d": [
           {
            "colorbar": {
             "outlinewidth": 0,
             "ticks": ""
            },
            "type": "mesh3d"
           }
          ],
          "parcoords": [
           {
            "line": {
             "colorbar": {
              "outlinewidth": 0,
              "ticks": ""
             }
            },
            "type": "parcoords"
           }
          ],
          "pie": [
           {
            "automargin": true,
            "type": "pie"
           }
          ],
          "scatter": [
           {
            "fillpattern": {
             "fillmode": "overlay",
             "size": 10,
             "solidity": 0.2
            },
            "type": "scatter"
           }
          ],
          "scatter3d": [
           {
            "line": {
             "colorbar": {
              "outlinewidth": 0,
              "ticks": ""
             }
            },
            "marker": {
             "colorbar": {
              "outlinewidth": 0,
              "ticks": ""
             }
            },
            "type": "scatter3d"
           }
          ],
          "scattercarpet": [
           {
            "marker": {
             "colorbar": {
              "outlinewidth": 0,
              "ticks": ""
             }
            },
            "type": "scattercarpet"
           }
          ],
          "scattergeo": [
           {
            "marker": {
             "colorbar": {
              "outlinewidth": 0,
              "ticks": ""
             }
            },
            "type": "scattergeo"
           }
          ],
          "scattergl": [
           {
            "marker": {
             "colorbar": {
              "outlinewidth": 0,
              "ticks": ""
             }
            },
            "type": "scattergl"
           }
          ],
          "scattermapbox": [
           {
            "marker": {
             "colorbar": {
              "outlinewidth": 0,
              "ticks": ""
             }
            },
            "type": "scattermapbox"
           }
          ],
          "scatterpolar": [
           {
            "marker": {
             "colorbar": {
              "outlinewidth": 0,
              "ticks": ""
             }
            },
            "type": "scatterpolar"
           }
          ],
          "scatterpolargl": [
           {
            "marker": {
             "colorbar": {
              "outlinewidth": 0,
              "ticks": ""
             }
            },
            "type": "scatterpolargl"
           }
          ],
          "scatterternary": [
           {
            "marker": {
             "colorbar": {
              "outlinewidth": 0,
              "ticks": ""
             }
            },
            "type": "scatterternary"
           }
          ],
          "surface": [
           {
            "colorbar": {
             "outlinewidth": 0,
             "ticks": ""
            },
            "colorscale": [
             [
              0,
              "#0d0887"
             ],
             [
              0.1111111111111111,
              "#46039f"
             ],
             [
              0.2222222222222222,
              "#7201a8"
             ],
             [
              0.3333333333333333,
              "#9c179e"
             ],
             [
              0.4444444444444444,
              "#bd3786"
             ],
             [
              0.5555555555555556,
              "#d8576b"
             ],
             [
              0.6666666666666666,
              "#ed7953"
             ],
             [
              0.7777777777777778,
              "#fb9f3a"
             ],
             [
              0.8888888888888888,
              "#fdca26"
             ],
             [
              1,
              "#f0f921"
             ]
            ],
            "type": "surface"
           }
          ],
          "table": [
           {
            "cells": {
             "fill": {
              "color": "#EBF0F8"
             },
             "line": {
              "color": "white"
             }
            },
            "header": {
             "fill": {
              "color": "#C8D4E3"
             },
             "line": {
              "color": "white"
             }
            },
            "type": "table"
           }
          ]
         },
         "layout": {
          "annotationdefaults": {
           "arrowcolor": "#2a3f5f",
           "arrowhead": 0,
           "arrowwidth": 1
          },
          "autotypenumbers": "strict",
          "coloraxis": {
           "colorbar": {
            "outlinewidth": 0,
            "ticks": ""
           }
          },
          "colorscale": {
           "diverging": [
            [
             0,
             "#8e0152"
            ],
            [
             0.1,
             "#c51b7d"
            ],
            [
             0.2,
             "#de77ae"
            ],
            [
             0.3,
             "#f1b6da"
            ],
            [
             0.4,
             "#fde0ef"
            ],
            [
             0.5,
             "#f7f7f7"
            ],
            [
             0.6,
             "#e6f5d0"
            ],
            [
             0.7,
             "#b8e186"
            ],
            [
             0.8,
             "#7fbc41"
            ],
            [
             0.9,
             "#4d9221"
            ],
            [
             1,
             "#276419"
            ]
           ],
           "sequential": [
            [
             0,
             "#0d0887"
            ],
            [
             0.1111111111111111,
             "#46039f"
            ],
            [
             0.2222222222222222,
             "#7201a8"
            ],
            [
             0.3333333333333333,
             "#9c179e"
            ],
            [
             0.4444444444444444,
             "#bd3786"
            ],
            [
             0.5555555555555556,
             "#d8576b"
            ],
            [
             0.6666666666666666,
             "#ed7953"
            ],
            [
             0.7777777777777778,
             "#fb9f3a"
            ],
            [
             0.8888888888888888,
             "#fdca26"
            ],
            [
             1,
             "#f0f921"
            ]
           ],
           "sequentialminus": [
            [
             0,
             "#0d0887"
            ],
            [
             0.1111111111111111,
             "#46039f"
            ],
            [
             0.2222222222222222,
             "#7201a8"
            ],
            [
             0.3333333333333333,
             "#9c179e"
            ],
            [
             0.4444444444444444,
             "#bd3786"
            ],
            [
             0.5555555555555556,
             "#d8576b"
            ],
            [
             0.6666666666666666,
             "#ed7953"
            ],
            [
             0.7777777777777778,
             "#fb9f3a"
            ],
            [
             0.8888888888888888,
             "#fdca26"
            ],
            [
             1,
             "#f0f921"
            ]
           ]
          },
          "colorway": [
           "#636efa",
           "#EF553B",
           "#00cc96",
           "#ab63fa",
           "#FFA15A",
           "#19d3f3",
           "#FF6692",
           "#B6E880",
           "#FF97FF",
           "#FECB52"
          ],
          "font": {
           "color": "#2a3f5f"
          },
          "geo": {
           "bgcolor": "white",
           "lakecolor": "white",
           "landcolor": "#E5ECF6",
           "showlakes": true,
           "showland": true,
           "subunitcolor": "white"
          },
          "hoverlabel": {
           "align": "left"
          },
          "hovermode": "closest",
          "mapbox": {
           "style": "light"
          },
          "paper_bgcolor": "white",
          "plot_bgcolor": "#E5ECF6",
          "polar": {
           "angularaxis": {
            "gridcolor": "white",
            "linecolor": "white",
            "ticks": ""
           },
           "bgcolor": "#E5ECF6",
           "radialaxis": {
            "gridcolor": "white",
            "linecolor": "white",
            "ticks": ""
           }
          },
          "scene": {
           "xaxis": {
            "backgroundcolor": "#E5ECF6",
            "gridcolor": "white",
            "gridwidth": 2,
            "linecolor": "white",
            "showbackground": true,
            "ticks": "",
            "zerolinecolor": "white"
           },
           "yaxis": {
            "backgroundcolor": "#E5ECF6",
            "gridcolor": "white",
            "gridwidth": 2,
            "linecolor": "white",
            "showbackground": true,
            "ticks": "",
            "zerolinecolor": "white"
           },
           "zaxis": {
            "backgroundcolor": "#E5ECF6",
            "gridcolor": "white",
            "gridwidth": 2,
            "linecolor": "white",
            "showbackground": true,
            "ticks": "",
            "zerolinecolor": "white"
           }
          },
          "shapedefaults": {
           "line": {
            "color": "#2a3f5f"
           }
          },
          "ternary": {
           "aaxis": {
            "gridcolor": "white",
            "linecolor": "white",
            "ticks": ""
           },
           "baxis": {
            "gridcolor": "white",
            "linecolor": "white",
            "ticks": ""
           },
           "bgcolor": "#E5ECF6",
           "caxis": {
            "gridcolor": "white",
            "linecolor": "white",
            "ticks": ""
           }
          },
          "title": {
           "x": 0.05
          },
          "xaxis": {
           "automargin": true,
           "gridcolor": "white",
           "linecolor": "white",
           "ticks": "",
           "title": {
            "standoff": 15
           },
           "zerolinecolor": "white",
           "zerolinewidth": 2
          },
          "yaxis": {
           "automargin": true,
           "gridcolor": "white",
           "linecolor": "white",
           "ticks": "",
           "title": {
            "standoff": 15
           },
           "zerolinecolor": "white",
           "zerolinewidth": 2
          }
         }
        },
        "title": {
         "text": "Frequência dos disease por tipo de evidencia (Top 10)"
        },
        "xaxis": {
         "anchor": "y",
         "domain": [
          0,
          1
         ],
         "title": {
          "text": "evidence_type"
         }
        },
        "yaxis": {
         "anchor": "x",
         "domain": [
          0,
          1
         ],
         "title": {
          "text": "Frequência"
         }
        }
       }
      }
     },
     "metadata": {},
     "output_type": "display_data"
    }
   ],
   "source": [
    "# agrupa os dados pela combinação de \"disease\" e \"evidence_type\" e soma a quantidade de ocorrências de cada combinação\n",
    "grouped_evidence_type_df = civic.groupby(['disease', 'evidence_type']).size().reset_index(name='count')\n",
    "# ordena os dados pela quantidade de ocorrências em ordem decrescente\n",
    "sorted_evidence_type_df = grouped_evidence_type_df.sort_values('count', ascending=False)\n",
    "# seleciona as informações mais relevantes\n",
    "top_evidence_type_df = sorted_evidence_type_df.head(10)\n",
    "\n",
    "# Cria o gráfico de barras\n",
    "fig = px.bar(top_evidence_type_df, x='evidence_type', y='count', color='disease', \n",
    "             title='Frequência dos disease por tipo de evidencia (Top 10)',\n",
    "             color_discrete_sequence=px.colors.qualitative.Pastel)#, #template='plotly_dark')\n",
    "# Personaliza os rótulos do eixo x e y\n",
    "fig.update_xaxes(title='evidence_type')\n",
    "fig.update_yaxes(title='Frequência')\n",
    "# Mostra o gráfico\n",
    "fig.show()"
   ]
  },
  {
   "attachments": {},
   "cell_type": "markdown",
   "metadata": {},
   "source": [
    "Com esse gráfico visualizamos os tipos cancerigenos e como normalmente eles são diagnosticados. Ex: Von Hippel é na maior parte das vezes uma predisposição enquanto Lung Non-Small é um preditivo e Acute Myeloid Leukemia normalmente é um prognostico."
   ]
  },
  {
   "cell_type": "code",
   "execution_count": 34,
   "metadata": {},
   "outputs": [
    {
     "data": {
      "application/vnd.plotly.v1+json": {
       "config": {
        "plotlyServerURL": "https://plot.ly"
       },
       "data": [
        {
         "alignmentgroup": "True",
         "hovertemplate": "disease=Von Hippel-Lindau Disease<br>clinical_significance=%{x}<br>count=%{y}<extra></extra>",
         "legendgroup": "Von Hippel-Lindau Disease",
         "marker": {
          "color": "rgb(102, 197, 204)",
          "pattern": {
           "shape": ""
          }
         },
         "name": "Von Hippel-Lindau Disease",
         "offsetgroup": "Von Hippel-Lindau Disease",
         "orientation": "v",
         "showlegend": true,
         "textposition": "auto",
         "type": "bar",
         "x": [
          "Uncertain Significance"
         ],
         "xaxis": "x",
         "y": [
          477
         ],
         "yaxis": "y"
        },
        {
         "alignmentgroup": "True",
         "hovertemplate": "disease=Lung Non-small Cell Carcinoma<br>clinical_significance=%{x}<br>count=%{y}<extra></extra>",
         "legendgroup": "Lung Non-small Cell Carcinoma",
         "marker": {
          "color": "rgb(246, 207, 113)",
          "pattern": {
           "shape": ""
          }
         },
         "name": "Lung Non-small Cell Carcinoma",
         "offsetgroup": "Lung Non-small Cell Carcinoma",
         "orientation": "v",
         "showlegend": true,
         "textposition": "auto",
         "type": "bar",
         "x": [
          "Sensitivity/Response",
          "Resistance"
         ],
         "xaxis": "x",
         "y": [
          266,
          80
         ],
         "yaxis": "y"
        },
        {
         "alignmentgroup": "True",
         "hovertemplate": "disease=Chronic Myeloid Leukemia<br>clinical_significance=%{x}<br>count=%{y}<extra></extra>",
         "legendgroup": "Chronic Myeloid Leukemia",
         "marker": {
          "color": "rgb(248, 156, 116)",
          "pattern": {
           "shape": ""
          }
         },
         "name": "Chronic Myeloid Leukemia",
         "offsetgroup": "Chronic Myeloid Leukemia",
         "orientation": "v",
         "showlegend": true,
         "textposition": "auto",
         "type": "bar",
         "x": [
          "Resistance"
         ],
         "xaxis": "x",
         "y": [
          266
         ],
         "yaxis": "y"
        },
        {
         "alignmentgroup": "True",
         "hovertemplate": "disease=Colorectal Cancer<br>clinical_significance=%{x}<br>count=%{y}<extra></extra>",
         "legendgroup": "Colorectal Cancer",
         "marker": {
          "color": "rgb(220, 176, 242)",
          "pattern": {
           "shape": ""
          }
         },
         "name": "Colorectal Cancer",
         "offsetgroup": "Colorectal Cancer",
         "orientation": "v",
         "showlegend": true,
         "textposition": "auto",
         "type": "bar",
         "x": [
          "Resistance",
          "Sensitivity/Response"
         ],
         "xaxis": "x",
         "y": [
          162,
          95
         ],
         "yaxis": "y"
        },
        {
         "alignmentgroup": "True",
         "hovertemplate": "disease=Cancer<br>clinical_significance=%{x}<br>count=%{y}<extra></extra>",
         "legendgroup": "Cancer",
         "marker": {
          "color": "rgb(135, 197, 95)",
          "pattern": {
           "shape": ""
          }
         },
         "name": "Cancer",
         "offsetgroup": "Cancer",
         "orientation": "v",
         "showlegend": true,
         "textposition": "auto",
         "type": "bar",
         "x": [
          "Sensitivity/Response",
          "Resistance"
         ],
         "xaxis": "x",
         "y": [
          90,
          62
         ],
         "yaxis": "y"
        },
        {
         "alignmentgroup": "True",
         "hovertemplate": "disease=Breast Cancer<br>clinical_significance=%{x}<br>count=%{y}<extra></extra>",
         "legendgroup": "Breast Cancer",
         "marker": {
          "color": "rgb(158, 185, 243)",
          "pattern": {
           "shape": ""
          }
         },
         "name": "Breast Cancer",
         "offsetgroup": "Breast Cancer",
         "orientation": "v",
         "showlegend": true,
         "textposition": "auto",
         "type": "bar",
         "x": [
          "Sensitivity/Response"
         ],
         "xaxis": "x",
         "y": [
          86
         ],
         "yaxis": "y"
        },
        {
         "alignmentgroup": "True",
         "hovertemplate": "disease=Melanoma<br>clinical_significance=%{x}<br>count=%{y}<extra></extra>",
         "legendgroup": "Melanoma",
         "marker": {
          "color": "rgb(254, 136, 177)",
          "pattern": {
           "shape": ""
          }
         },
         "name": "Melanoma",
         "offsetgroup": "Melanoma",
         "orientation": "v",
         "showlegend": true,
         "textposition": "auto",
         "type": "bar",
         "x": [
          "Sensitivity/Response"
         ],
         "xaxis": "x",
         "y": [
          73
         ],
         "yaxis": "y"
        }
       ],
       "layout": {
        "barmode": "relative",
        "legend": {
         "title": {
          "text": "disease"
         },
         "tracegroupgap": 0
        },
        "template": {
         "data": {
          "bar": [
           {
            "error_x": {
             "color": "#2a3f5f"
            },
            "error_y": {
             "color": "#2a3f5f"
            },
            "marker": {
             "line": {
              "color": "#E5ECF6",
              "width": 0.5
             },
             "pattern": {
              "fillmode": "overlay",
              "size": 10,
              "solidity": 0.2
             }
            },
            "type": "bar"
           }
          ],
          "barpolar": [
           {
            "marker": {
             "line": {
              "color": "#E5ECF6",
              "width": 0.5
             },
             "pattern": {
              "fillmode": "overlay",
              "size": 10,
              "solidity": 0.2
             }
            },
            "type": "barpolar"
           }
          ],
          "carpet": [
           {
            "aaxis": {
             "endlinecolor": "#2a3f5f",
             "gridcolor": "white",
             "linecolor": "white",
             "minorgridcolor": "white",
             "startlinecolor": "#2a3f5f"
            },
            "baxis": {
             "endlinecolor": "#2a3f5f",
             "gridcolor": "white",
             "linecolor": "white",
             "minorgridcolor": "white",
             "startlinecolor": "#2a3f5f"
            },
            "type": "carpet"
           }
          ],
          "choropleth": [
           {
            "colorbar": {
             "outlinewidth": 0,
             "ticks": ""
            },
            "type": "choropleth"
           }
          ],
          "contour": [
           {
            "colorbar": {
             "outlinewidth": 0,
             "ticks": ""
            },
            "colorscale": [
             [
              0,
              "#0d0887"
             ],
             [
              0.1111111111111111,
              "#46039f"
             ],
             [
              0.2222222222222222,
              "#7201a8"
             ],
             [
              0.3333333333333333,
              "#9c179e"
             ],
             [
              0.4444444444444444,
              "#bd3786"
             ],
             [
              0.5555555555555556,
              "#d8576b"
             ],
             [
              0.6666666666666666,
              "#ed7953"
             ],
             [
              0.7777777777777778,
              "#fb9f3a"
             ],
             [
              0.8888888888888888,
              "#fdca26"
             ],
             [
              1,
              "#f0f921"
             ]
            ],
            "type": "contour"
           }
          ],
          "contourcarpet": [
           {
            "colorbar": {
             "outlinewidth": 0,
             "ticks": ""
            },
            "type": "contourcarpet"
           }
          ],
          "heatmap": [
           {
            "colorbar": {
             "outlinewidth": 0,
             "ticks": ""
            },
            "colorscale": [
             [
              0,
              "#0d0887"
             ],
             [
              0.1111111111111111,
              "#46039f"
             ],
             [
              0.2222222222222222,
              "#7201a8"
             ],
             [
              0.3333333333333333,
              "#9c179e"
             ],
             [
              0.4444444444444444,
              "#bd3786"
             ],
             [
              0.5555555555555556,
              "#d8576b"
             ],
             [
              0.6666666666666666,
              "#ed7953"
             ],
             [
              0.7777777777777778,
              "#fb9f3a"
             ],
             [
              0.8888888888888888,
              "#fdca26"
             ],
             [
              1,
              "#f0f921"
             ]
            ],
            "type": "heatmap"
           }
          ],
          "heatmapgl": [
           {
            "colorbar": {
             "outlinewidth": 0,
             "ticks": ""
            },
            "colorscale": [
             [
              0,
              "#0d0887"
             ],
             [
              0.1111111111111111,
              "#46039f"
             ],
             [
              0.2222222222222222,
              "#7201a8"
             ],
             [
              0.3333333333333333,
              "#9c179e"
             ],
             [
              0.4444444444444444,
              "#bd3786"
             ],
             [
              0.5555555555555556,
              "#d8576b"
             ],
             [
              0.6666666666666666,
              "#ed7953"
             ],
             [
              0.7777777777777778,
              "#fb9f3a"
             ],
             [
              0.8888888888888888,
              "#fdca26"
             ],
             [
              1,
              "#f0f921"
             ]
            ],
            "type": "heatmapgl"
           }
          ],
          "histogram": [
           {
            "marker": {
             "pattern": {
              "fillmode": "overlay",
              "size": 10,
              "solidity": 0.2
             }
            },
            "type": "histogram"
           }
          ],
          "histogram2d": [
           {
            "colorbar": {
             "outlinewidth": 0,
             "ticks": ""
            },
            "colorscale": [
             [
              0,
              "#0d0887"
             ],
             [
              0.1111111111111111,
              "#46039f"
             ],
             [
              0.2222222222222222,
              "#7201a8"
             ],
             [
              0.3333333333333333,
              "#9c179e"
             ],
             [
              0.4444444444444444,
              "#bd3786"
             ],
             [
              0.5555555555555556,
              "#d8576b"
             ],
             [
              0.6666666666666666,
              "#ed7953"
             ],
             [
              0.7777777777777778,
              "#fb9f3a"
             ],
             [
              0.8888888888888888,
              "#fdca26"
             ],
             [
              1,
              "#f0f921"
             ]
            ],
            "type": "histogram2d"
           }
          ],
          "histogram2dcontour": [
           {
            "colorbar": {
             "outlinewidth": 0,
             "ticks": ""
            },
            "colorscale": [
             [
              0,
              "#0d0887"
             ],
             [
              0.1111111111111111,
              "#46039f"
             ],
             [
              0.2222222222222222,
              "#7201a8"
             ],
             [
              0.3333333333333333,
              "#9c179e"
             ],
             [
              0.4444444444444444,
              "#bd3786"
             ],
             [
              0.5555555555555556,
              "#d8576b"
             ],
             [
              0.6666666666666666,
              "#ed7953"
             ],
             [
              0.7777777777777778,
              "#fb9f3a"
             ],
             [
              0.8888888888888888,
              "#fdca26"
             ],
             [
              1,
              "#f0f921"
             ]
            ],
            "type": "histogram2dcontour"
           }
          ],
          "mesh3d": [
           {
            "colorbar": {
             "outlinewidth": 0,
             "ticks": ""
            },
            "type": "mesh3d"
           }
          ],
          "parcoords": [
           {
            "line": {
             "colorbar": {
              "outlinewidth": 0,
              "ticks": ""
             }
            },
            "type": "parcoords"
           }
          ],
          "pie": [
           {
            "automargin": true,
            "type": "pie"
           }
          ],
          "scatter": [
           {
            "fillpattern": {
             "fillmode": "overlay",
             "size": 10,
             "solidity": 0.2
            },
            "type": "scatter"
           }
          ],
          "scatter3d": [
           {
            "line": {
             "colorbar": {
              "outlinewidth": 0,
              "ticks": ""
             }
            },
            "marker": {
             "colorbar": {
              "outlinewidth": 0,
              "ticks": ""
             }
            },
            "type": "scatter3d"
           }
          ],
          "scattercarpet": [
           {
            "marker": {
             "colorbar": {
              "outlinewidth": 0,
              "ticks": ""
             }
            },
            "type": "scattercarpet"
           }
          ],
          "scattergeo": [
           {
            "marker": {
             "colorbar": {
              "outlinewidth": 0,
              "ticks": ""
             }
            },
            "type": "scattergeo"
           }
          ],
          "scattergl": [
           {
            "marker": {
             "colorbar": {
              "outlinewidth": 0,
              "ticks": ""
             }
            },
            "type": "scattergl"
           }
          ],
          "scattermapbox": [
           {
            "marker": {
             "colorbar": {
              "outlinewidth": 0,
              "ticks": ""
             }
            },
            "type": "scattermapbox"
           }
          ],
          "scatterpolar": [
           {
            "marker": {
             "colorbar": {
              "outlinewidth": 0,
              "ticks": ""
             }
            },
            "type": "scatterpolar"
           }
          ],
          "scatterpolargl": [
           {
            "marker": {
             "colorbar": {
              "outlinewidth": 0,
              "ticks": ""
             }
            },
            "type": "scatterpolargl"
           }
          ],
          "scatterternary": [
           {
            "marker": {
             "colorbar": {
              "outlinewidth": 0,
              "ticks": ""
             }
            },
            "type": "scatterternary"
           }
          ],
          "surface": [
           {
            "colorbar": {
             "outlinewidth": 0,
             "ticks": ""
            },
            "colorscale": [
             [
              0,
              "#0d0887"
             ],
             [
              0.1111111111111111,
              "#46039f"
             ],
             [
              0.2222222222222222,
              "#7201a8"
             ],
             [
              0.3333333333333333,
              "#9c179e"
             ],
             [
              0.4444444444444444,
              "#bd3786"
             ],
             [
              0.5555555555555556,
              "#d8576b"
             ],
             [
              0.6666666666666666,
              "#ed7953"
             ],
             [
              0.7777777777777778,
              "#fb9f3a"
             ],
             [
              0.8888888888888888,
              "#fdca26"
             ],
             [
              1,
              "#f0f921"
             ]
            ],
            "type": "surface"
           }
          ],
          "table": [
           {
            "cells": {
             "fill": {
              "color": "#EBF0F8"
             },
             "line": {
              "color": "white"
             }
            },
            "header": {
             "fill": {
              "color": "#C8D4E3"
             },
             "line": {
              "color": "white"
             }
            },
            "type": "table"
           }
          ]
         },
         "layout": {
          "annotationdefaults": {
           "arrowcolor": "#2a3f5f",
           "arrowhead": 0,
           "arrowwidth": 1
          },
          "autotypenumbers": "strict",
          "coloraxis": {
           "colorbar": {
            "outlinewidth": 0,
            "ticks": ""
           }
          },
          "colorscale": {
           "diverging": [
            [
             0,
             "#8e0152"
            ],
            [
             0.1,
             "#c51b7d"
            ],
            [
             0.2,
             "#de77ae"
            ],
            [
             0.3,
             "#f1b6da"
            ],
            [
             0.4,
             "#fde0ef"
            ],
            [
             0.5,
             "#f7f7f7"
            ],
            [
             0.6,
             "#e6f5d0"
            ],
            [
             0.7,
             "#b8e186"
            ],
            [
             0.8,
             "#7fbc41"
            ],
            [
             0.9,
             "#4d9221"
            ],
            [
             1,
             "#276419"
            ]
           ],
           "sequential": [
            [
             0,
             "#0d0887"
            ],
            [
             0.1111111111111111,
             "#46039f"
            ],
            [
             0.2222222222222222,
             "#7201a8"
            ],
            [
             0.3333333333333333,
             "#9c179e"
            ],
            [
             0.4444444444444444,
             "#bd3786"
            ],
            [
             0.5555555555555556,
             "#d8576b"
            ],
            [
             0.6666666666666666,
             "#ed7953"
            ],
            [
             0.7777777777777778,
             "#fb9f3a"
            ],
            [
             0.8888888888888888,
             "#fdca26"
            ],
            [
             1,
             "#f0f921"
            ]
           ],
           "sequentialminus": [
            [
             0,
             "#0d0887"
            ],
            [
             0.1111111111111111,
             "#46039f"
            ],
            [
             0.2222222222222222,
             "#7201a8"
            ],
            [
             0.3333333333333333,
             "#9c179e"
            ],
            [
             0.4444444444444444,
             "#bd3786"
            ],
            [
             0.5555555555555556,
             "#d8576b"
            ],
            [
             0.6666666666666666,
             "#ed7953"
            ],
            [
             0.7777777777777778,
             "#fb9f3a"
            ],
            [
             0.8888888888888888,
             "#fdca26"
            ],
            [
             1,
             "#f0f921"
            ]
           ]
          },
          "colorway": [
           "#636efa",
           "#EF553B",
           "#00cc96",
           "#ab63fa",
           "#FFA15A",
           "#19d3f3",
           "#FF6692",
           "#B6E880",
           "#FF97FF",
           "#FECB52"
          ],
          "font": {
           "color": "#2a3f5f"
          },
          "geo": {
           "bgcolor": "white",
           "lakecolor": "white",
           "landcolor": "#E5ECF6",
           "showlakes": true,
           "showland": true,
           "subunitcolor": "white"
          },
          "hoverlabel": {
           "align": "left"
          },
          "hovermode": "closest",
          "mapbox": {
           "style": "light"
          },
          "paper_bgcolor": "white",
          "plot_bgcolor": "#E5ECF6",
          "polar": {
           "angularaxis": {
            "gridcolor": "white",
            "linecolor": "white",
            "ticks": ""
           },
           "bgcolor": "#E5ECF6",
           "radialaxis": {
            "gridcolor": "white",
            "linecolor": "white",
            "ticks": ""
           }
          },
          "scene": {
           "xaxis": {
            "backgroundcolor": "#E5ECF6",
            "gridcolor": "white",
            "gridwidth": 2,
            "linecolor": "white",
            "showbackground": true,
            "ticks": "",
            "zerolinecolor": "white"
           },
           "yaxis": {
            "backgroundcolor": "#E5ECF6",
            "gridcolor": "white",
            "gridwidth": 2,
            "linecolor": "white",
            "showbackground": true,
            "ticks": "",
            "zerolinecolor": "white"
           },
           "zaxis": {
            "backgroundcolor": "#E5ECF6",
            "gridcolor": "white",
            "gridwidth": 2,
            "linecolor": "white",
            "showbackground": true,
            "ticks": "",
            "zerolinecolor": "white"
           }
          },
          "shapedefaults": {
           "line": {
            "color": "#2a3f5f"
           }
          },
          "ternary": {
           "aaxis": {
            "gridcolor": "white",
            "linecolor": "white",
            "ticks": ""
           },
           "baxis": {
            "gridcolor": "white",
            "linecolor": "white",
            "ticks": ""
           },
           "bgcolor": "#E5ECF6",
           "caxis": {
            "gridcolor": "white",
            "linecolor": "white",
            "ticks": ""
           }
          },
          "title": {
           "x": 0.05
          },
          "xaxis": {
           "automargin": true,
           "gridcolor": "white",
           "linecolor": "white",
           "ticks": "",
           "title": {
            "standoff": 15
           },
           "zerolinecolor": "white",
           "zerolinewidth": 2
          },
          "yaxis": {
           "automargin": true,
           "gridcolor": "white",
           "linecolor": "white",
           "ticks": "",
           "title": {
            "standoff": 15
           },
           "zerolinecolor": "white",
           "zerolinewidth": 2
          }
         }
        },
        "title": {
         "text": "Frequência dos disease por significancia clinica (Top 10)"
        },
        "xaxis": {
         "anchor": "y",
         "domain": [
          0,
          1
         ],
         "title": {
          "text": "clinical_significance"
         }
        },
        "yaxis": {
         "anchor": "x",
         "domain": [
          0,
          1
         ],
         "title": {
          "text": "Frequência"
         }
        }
       }
      }
     },
     "metadata": {},
     "output_type": "display_data"
    }
   ],
   "source": [
    "# agrupa os dados pela combinação de \"disease\" e \"clinical_significance\" e soma a quantidade de ocorrências de cada combinação\n",
    "grouped_clinical_significance_type_df = civic.groupby(['disease', 'clinical_significance']).size().reset_index(name='count')\n",
    "# ordena os dados pela quantidade de ocorrências em ordem decrescente\n",
    "sorted_clinical_significance_type_df = grouped_clinical_significance_type_df.sort_values('count', ascending=False)\n",
    "# seleciona as informações mais relevantes\n",
    "top_clinical_significance_type_df = sorted_clinical_significance_type_df.head(10)\n",
    "\n",
    "# Cria o gráfico de barras\n",
    "fig = px.bar(top_clinical_significance_type_df, x='clinical_significance', y='count', color='disease', \n",
    "             title='Frequência dos disease por significancia clinica (Top 10)',\n",
    "             color_discrete_sequence=px.colors.qualitative.Pastel)#, #template='plotly_dark')\n",
    "# Personaliza os rótulos do eixo x e y\n",
    "fig.update_xaxes(title='clinical_significance')\n",
    "fig.update_yaxes(title='Frequência')\n",
    "# Mostra o gráfico\n",
    "fig.show()"
   ]
  },
  {
   "attachments": {},
   "cell_type": "markdown",
   "metadata": {},
   "source": [
    "Como os tipos cancerigenos responderam ao tratamento ? Von Hippel tende a responder com significancia incerta, enquanto melanoma tente a ter uma resposta sensitiva e o proprio cancer tente a ser resistente."
   ]
  },
  {
   "cell_type": "code",
   "execution_count": 35,
   "metadata": {},
   "outputs": [
    {
     "data": {
      "application/vnd.plotly.v1+json": {
       "config": {
        "plotlyServerURL": "https://plot.ly"
       },
       "data": [
        {
         "alignmentgroup": "True",
         "hovertemplate": "disease=Von Hippel-Lindau Disease<br>chromosome=%{x}<br>count=%{y}<extra></extra>",
         "legendgroup": "Von Hippel-Lindau Disease",
         "marker": {
          "color": "rgb(102, 197, 204)",
          "pattern": {
           "shape": ""
          }
         },
         "name": "Von Hippel-Lindau Disease",
         "offsetgroup": "Von Hippel-Lindau Disease",
         "orientation": "v",
         "showlegend": true,
         "textposition": "auto",
         "type": "bar",
         "x": [
          "3"
         ],
         "xaxis": "x",
         "y": [
          548
         ],
         "yaxis": "y"
        },
        {
         "alignmentgroup": "True",
         "hovertemplate": "disease=Chronic Myeloid Leukemia<br>chromosome=%{x}<br>count=%{y}<extra></extra>",
         "legendgroup": "Chronic Myeloid Leukemia",
         "marker": {
          "color": "rgb(246, 207, 113)",
          "pattern": {
           "shape": ""
          }
         },
         "name": "Chronic Myeloid Leukemia",
         "offsetgroup": "Chronic Myeloid Leukemia",
         "orientation": "v",
         "showlegend": true,
         "textposition": "auto",
         "type": "bar",
         "x": [
          "9"
         ],
         "xaxis": "x",
         "y": [
          262
         ],
         "yaxis": "y"
        },
        {
         "alignmentgroup": "True",
         "hovertemplate": "disease=Lung Non-small Cell Carcinoma<br>chromosome=%{x}<br>count=%{y}<extra></extra>",
         "legendgroup": "Lung Non-small Cell Carcinoma",
         "marker": {
          "color": "rgb(248, 156, 116)",
          "pattern": {
           "shape": ""
          }
         },
         "name": "Lung Non-small Cell Carcinoma",
         "offsetgroup": "Lung Non-small Cell Carcinoma",
         "orientation": "v",
         "showlegend": true,
         "textposition": "auto",
         "type": "bar",
         "x": [
          "7",
          "2"
         ],
         "xaxis": "x",
         "y": [
          134,
          81
         ],
         "yaxis": "y"
        },
        {
         "alignmentgroup": "True",
         "hovertemplate": "disease=Colorectal Cancer<br>chromosome=%{x}<br>count=%{y}<extra></extra>",
         "legendgroup": "Colorectal Cancer",
         "marker": {
          "color": "rgb(220, 176, 242)",
          "pattern": {
           "shape": ""
          }
         },
         "name": "Colorectal Cancer",
         "offsetgroup": "Colorectal Cancer",
         "orientation": "v",
         "showlegend": true,
         "textposition": "auto",
         "type": "bar",
         "x": [
          "12",
          "7",
          "3"
         ],
         "xaxis": "x",
         "y": [
          92,
          83,
          60
         ],
         "yaxis": "y"
        },
        {
         "alignmentgroup": "True",
         "hovertemplate": "disease=Gastrointestinal Stromal Tumor<br>chromosome=%{x}<br>count=%{y}<extra></extra>",
         "legendgroup": "Gastrointestinal Stromal Tumor",
         "marker": {
          "color": "rgb(135, 197, 95)",
          "pattern": {
           "shape": ""
          }
         },
         "name": "Gastrointestinal Stromal Tumor",
         "offsetgroup": "Gastrointestinal Stromal Tumor",
         "orientation": "v",
         "showlegend": true,
         "textposition": "auto",
         "type": "bar",
         "x": [
          "4"
         ],
         "xaxis": "x",
         "y": [
          83
         ],
         "yaxis": "y"
        },
        {
         "alignmentgroup": "True",
         "hovertemplate": "disease=Melanoma<br>chromosome=%{x}<br>count=%{y}<extra></extra>",
         "legendgroup": "Melanoma",
         "marker": {
          "color": "rgb(158, 185, 243)",
          "pattern": {
           "shape": ""
          }
         },
         "name": "Melanoma",
         "offsetgroup": "Melanoma",
         "orientation": "v",
         "showlegend": true,
         "textposition": "auto",
         "type": "bar",
         "x": [
          "7"
         ],
         "xaxis": "x",
         "y": [
          54
         ],
         "yaxis": "y"
        },
        {
         "alignmentgroup": "True",
         "hovertemplate": "disease=Acute Myeloid Leukemia<br>chromosome=%{x}<br>count=%{y}<extra></extra>",
         "legendgroup": "Acute Myeloid Leukemia",
         "marker": {
          "color": "rgb(254, 136, 177)",
          "pattern": {
           "shape": ""
          }
         },
         "name": "Acute Myeloid Leukemia",
         "offsetgroup": "Acute Myeloid Leukemia",
         "orientation": "v",
         "showlegend": true,
         "textposition": "auto",
         "type": "bar",
         "x": [
          "13"
         ],
         "xaxis": "x",
         "y": [
          54
         ],
         "yaxis": "y"
        }
       ],
       "layout": {
        "barmode": "relative",
        "legend": {
         "title": {
          "text": "disease"
         },
         "tracegroupgap": 0
        },
        "template": {
         "data": {
          "bar": [
           {
            "error_x": {
             "color": "#2a3f5f"
            },
            "error_y": {
             "color": "#2a3f5f"
            },
            "marker": {
             "line": {
              "color": "#E5ECF6",
              "width": 0.5
             },
             "pattern": {
              "fillmode": "overlay",
              "size": 10,
              "solidity": 0.2
             }
            },
            "type": "bar"
           }
          ],
          "barpolar": [
           {
            "marker": {
             "line": {
              "color": "#E5ECF6",
              "width": 0.5
             },
             "pattern": {
              "fillmode": "overlay",
              "size": 10,
              "solidity": 0.2
             }
            },
            "type": "barpolar"
           }
          ],
          "carpet": [
           {
            "aaxis": {
             "endlinecolor": "#2a3f5f",
             "gridcolor": "white",
             "linecolor": "white",
             "minorgridcolor": "white",
             "startlinecolor": "#2a3f5f"
            },
            "baxis": {
             "endlinecolor": "#2a3f5f",
             "gridcolor": "white",
             "linecolor": "white",
             "minorgridcolor": "white",
             "startlinecolor": "#2a3f5f"
            },
            "type": "carpet"
           }
          ],
          "choropleth": [
           {
            "colorbar": {
             "outlinewidth": 0,
             "ticks": ""
            },
            "type": "choropleth"
           }
          ],
          "contour": [
           {
            "colorbar": {
             "outlinewidth": 0,
             "ticks": ""
            },
            "colorscale": [
             [
              0,
              "#0d0887"
             ],
             [
              0.1111111111111111,
              "#46039f"
             ],
             [
              0.2222222222222222,
              "#7201a8"
             ],
             [
              0.3333333333333333,
              "#9c179e"
             ],
             [
              0.4444444444444444,
              "#bd3786"
             ],
             [
              0.5555555555555556,
              "#d8576b"
             ],
             [
              0.6666666666666666,
              "#ed7953"
             ],
             [
              0.7777777777777778,
              "#fb9f3a"
             ],
             [
              0.8888888888888888,
              "#fdca26"
             ],
             [
              1,
              "#f0f921"
             ]
            ],
            "type": "contour"
           }
          ],
          "contourcarpet": [
           {
            "colorbar": {
             "outlinewidth": 0,
             "ticks": ""
            },
            "type": "contourcarpet"
           }
          ],
          "heatmap": [
           {
            "colorbar": {
             "outlinewidth": 0,
             "ticks": ""
            },
            "colorscale": [
             [
              0,
              "#0d0887"
             ],
             [
              0.1111111111111111,
              "#46039f"
             ],
             [
              0.2222222222222222,
              "#7201a8"
             ],
             [
              0.3333333333333333,
              "#9c179e"
             ],
             [
              0.4444444444444444,
              "#bd3786"
             ],
             [
              0.5555555555555556,
              "#d8576b"
             ],
             [
              0.6666666666666666,
              "#ed7953"
             ],
             [
              0.7777777777777778,
              "#fb9f3a"
             ],
             [
              0.8888888888888888,
              "#fdca26"
             ],
             [
              1,
              "#f0f921"
             ]
            ],
            "type": "heatmap"
           }
          ],
          "heatmapgl": [
           {
            "colorbar": {
             "outlinewidth": 0,
             "ticks": ""
            },
            "colorscale": [
             [
              0,
              "#0d0887"
             ],
             [
              0.1111111111111111,
              "#46039f"
             ],
             [
              0.2222222222222222,
              "#7201a8"
             ],
             [
              0.3333333333333333,
              "#9c179e"
             ],
             [
              0.4444444444444444,
              "#bd3786"
             ],
             [
              0.5555555555555556,
              "#d8576b"
             ],
             [
              0.6666666666666666,
              "#ed7953"
             ],
             [
              0.7777777777777778,
              "#fb9f3a"
             ],
             [
              0.8888888888888888,
              "#fdca26"
             ],
             [
              1,
              "#f0f921"
             ]
            ],
            "type": "heatmapgl"
           }
          ],
          "histogram": [
           {
            "marker": {
             "pattern": {
              "fillmode": "overlay",
              "size": 10,
              "solidity": 0.2
             }
            },
            "type": "histogram"
           }
          ],
          "histogram2d": [
           {
            "colorbar": {
             "outlinewidth": 0,
             "ticks": ""
            },
            "colorscale": [
             [
              0,
              "#0d0887"
             ],
             [
              0.1111111111111111,
              "#46039f"
             ],
             [
              0.2222222222222222,
              "#7201a8"
             ],
             [
              0.3333333333333333,
              "#9c179e"
             ],
             [
              0.4444444444444444,
              "#bd3786"
             ],
             [
              0.5555555555555556,
              "#d8576b"
             ],
             [
              0.6666666666666666,
              "#ed7953"
             ],
             [
              0.7777777777777778,
              "#fb9f3a"
             ],
             [
              0.8888888888888888,
              "#fdca26"
             ],
             [
              1,
              "#f0f921"
             ]
            ],
            "type": "histogram2d"
           }
          ],
          "histogram2dcontour": [
           {
            "colorbar": {
             "outlinewidth": 0,
             "ticks": ""
            },
            "colorscale": [
             [
              0,
              "#0d0887"
             ],
             [
              0.1111111111111111,
              "#46039f"
             ],
             [
              0.2222222222222222,
              "#7201a8"
             ],
             [
              0.3333333333333333,
              "#9c179e"
             ],
             [
              0.4444444444444444,
              "#bd3786"
             ],
             [
              0.5555555555555556,
              "#d8576b"
             ],
             [
              0.6666666666666666,
              "#ed7953"
             ],
             [
              0.7777777777777778,
              "#fb9f3a"
             ],
             [
              0.8888888888888888,
              "#fdca26"
             ],
             [
              1,
              "#f0f921"
             ]
            ],
            "type": "histogram2dcontour"
           }
          ],
          "mesh3d": [
           {
            "colorbar": {
             "outlinewidth": 0,
             "ticks": ""
            },
            "type": "mesh3d"
           }
          ],
          "parcoords": [
           {
            "line": {
             "colorbar": {
              "outlinewidth": 0,
              "ticks": ""
             }
            },
            "type": "parcoords"
           }
          ],
          "pie": [
           {
            "automargin": true,
            "type": "pie"
           }
          ],
          "scatter": [
           {
            "fillpattern": {
             "fillmode": "overlay",
             "size": 10,
             "solidity": 0.2
            },
            "type": "scatter"
           }
          ],
          "scatter3d": [
           {
            "line": {
             "colorbar": {
              "outlinewidth": 0,
              "ticks": ""
             }
            },
            "marker": {
             "colorbar": {
              "outlinewidth": 0,
              "ticks": ""
             }
            },
            "type": "scatter3d"
           }
          ],
          "scattercarpet": [
           {
            "marker": {
             "colorbar": {
              "outlinewidth": 0,
              "ticks": ""
             }
            },
            "type": "scattercarpet"
           }
          ],
          "scattergeo": [
           {
            "marker": {
             "colorbar": {
              "outlinewidth": 0,
              "ticks": ""
             }
            },
            "type": "scattergeo"
           }
          ],
          "scattergl": [
           {
            "marker": {
             "colorbar": {
              "outlinewidth": 0,
              "ticks": ""
             }
            },
            "type": "scattergl"
           }
          ],
          "scattermapbox": [
           {
            "marker": {
             "colorbar": {
              "outlinewidth": 0,
              "ticks": ""
             }
            },
            "type": "scattermapbox"
           }
          ],
          "scatterpolar": [
           {
            "marker": {
             "colorbar": {
              "outlinewidth": 0,
              "ticks": ""
             }
            },
            "type": "scatterpolar"
           }
          ],
          "scatterpolargl": [
           {
            "marker": {
             "colorbar": {
              "outlinewidth": 0,
              "ticks": ""
             }
            },
            "type": "scatterpolargl"
           }
          ],
          "scatterternary": [
           {
            "marker": {
             "colorbar": {
              "outlinewidth": 0,
              "ticks": ""
             }
            },
            "type": "scatterternary"
           }
          ],
          "surface": [
           {
            "colorbar": {
             "outlinewidth": 0,
             "ticks": ""
            },
            "colorscale": [
             [
              0,
              "#0d0887"
             ],
             [
              0.1111111111111111,
              "#46039f"
             ],
             [
              0.2222222222222222,
              "#7201a8"
             ],
             [
              0.3333333333333333,
              "#9c179e"
             ],
             [
              0.4444444444444444,
              "#bd3786"
             ],
             [
              0.5555555555555556,
              "#d8576b"
             ],
             [
              0.6666666666666666,
              "#ed7953"
             ],
             [
              0.7777777777777778,
              "#fb9f3a"
             ],
             [
              0.8888888888888888,
              "#fdca26"
             ],
             [
              1,
              "#f0f921"
             ]
            ],
            "type": "surface"
           }
          ],
          "table": [
           {
            "cells": {
             "fill": {
              "color": "#EBF0F8"
             },
             "line": {
              "color": "white"
             }
            },
            "header": {
             "fill": {
              "color": "#C8D4E3"
             },
             "line": {
              "color": "white"
             }
            },
            "type": "table"
           }
          ]
         },
         "layout": {
          "annotationdefaults": {
           "arrowcolor": "#2a3f5f",
           "arrowhead": 0,
           "arrowwidth": 1
          },
          "autotypenumbers": "strict",
          "coloraxis": {
           "colorbar": {
            "outlinewidth": 0,
            "ticks": ""
           }
          },
          "colorscale": {
           "diverging": [
            [
             0,
             "#8e0152"
            ],
            [
             0.1,
             "#c51b7d"
            ],
            [
             0.2,
             "#de77ae"
            ],
            [
             0.3,
             "#f1b6da"
            ],
            [
             0.4,
             "#fde0ef"
            ],
            [
             0.5,
             "#f7f7f7"
            ],
            [
             0.6,
             "#e6f5d0"
            ],
            [
             0.7,
             "#b8e186"
            ],
            [
             0.8,
             "#7fbc41"
            ],
            [
             0.9,
             "#4d9221"
            ],
            [
             1,
             "#276419"
            ]
           ],
           "sequential": [
            [
             0,
             "#0d0887"
            ],
            [
             0.1111111111111111,
             "#46039f"
            ],
            [
             0.2222222222222222,
             "#7201a8"
            ],
            [
             0.3333333333333333,
             "#9c179e"
            ],
            [
             0.4444444444444444,
             "#bd3786"
            ],
            [
             0.5555555555555556,
             "#d8576b"
            ],
            [
             0.6666666666666666,
             "#ed7953"
            ],
            [
             0.7777777777777778,
             "#fb9f3a"
            ],
            [
             0.8888888888888888,
             "#fdca26"
            ],
            [
             1,
             "#f0f921"
            ]
           ],
           "sequentialminus": [
            [
             0,
             "#0d0887"
            ],
            [
             0.1111111111111111,
             "#46039f"
            ],
            [
             0.2222222222222222,
             "#7201a8"
            ],
            [
             0.3333333333333333,
             "#9c179e"
            ],
            [
             0.4444444444444444,
             "#bd3786"
            ],
            [
             0.5555555555555556,
             "#d8576b"
            ],
            [
             0.6666666666666666,
             "#ed7953"
            ],
            [
             0.7777777777777778,
             "#fb9f3a"
            ],
            [
             0.8888888888888888,
             "#fdca26"
            ],
            [
             1,
             "#f0f921"
            ]
           ]
          },
          "colorway": [
           "#636efa",
           "#EF553B",
           "#00cc96",
           "#ab63fa",
           "#FFA15A",
           "#19d3f3",
           "#FF6692",
           "#B6E880",
           "#FF97FF",
           "#FECB52"
          ],
          "font": {
           "color": "#2a3f5f"
          },
          "geo": {
           "bgcolor": "white",
           "lakecolor": "white",
           "landcolor": "#E5ECF6",
           "showlakes": true,
           "showland": true,
           "subunitcolor": "white"
          },
          "hoverlabel": {
           "align": "left"
          },
          "hovermode": "closest",
          "mapbox": {
           "style": "light"
          },
          "paper_bgcolor": "white",
          "plot_bgcolor": "#E5ECF6",
          "polar": {
           "angularaxis": {
            "gridcolor": "white",
            "linecolor": "white",
            "ticks": ""
           },
           "bgcolor": "#E5ECF6",
           "radialaxis": {
            "gridcolor": "white",
            "linecolor": "white",
            "ticks": ""
           }
          },
          "scene": {
           "xaxis": {
            "backgroundcolor": "#E5ECF6",
            "gridcolor": "white",
            "gridwidth": 2,
            "linecolor": "white",
            "showbackground": true,
            "ticks": "",
            "zerolinecolor": "white"
           },
           "yaxis": {
            "backgroundcolor": "#E5ECF6",
            "gridcolor": "white",
            "gridwidth": 2,
            "linecolor": "white",
            "showbackground": true,
            "ticks": "",
            "zerolinecolor": "white"
           },
           "zaxis": {
            "backgroundcolor": "#E5ECF6",
            "gridcolor": "white",
            "gridwidth": 2,
            "linecolor": "white",
            "showbackground": true,
            "ticks": "",
            "zerolinecolor": "white"
           }
          },
          "shapedefaults": {
           "line": {
            "color": "#2a3f5f"
           }
          },
          "ternary": {
           "aaxis": {
            "gridcolor": "white",
            "linecolor": "white",
            "ticks": ""
           },
           "baxis": {
            "gridcolor": "white",
            "linecolor": "white",
            "ticks": ""
           },
           "bgcolor": "#E5ECF6",
           "caxis": {
            "gridcolor": "white",
            "linecolor": "white",
            "ticks": ""
           }
          },
          "title": {
           "x": 0.05
          },
          "xaxis": {
           "automargin": true,
           "gridcolor": "white",
           "linecolor": "white",
           "ticks": "",
           "title": {
            "standoff": 15
           },
           "zerolinecolor": "white",
           "zerolinewidth": 2
          },
          "yaxis": {
           "automargin": true,
           "gridcolor": "white",
           "linecolor": "white",
           "ticks": "",
           "title": {
            "standoff": 15
           },
           "zerolinecolor": "white",
           "zerolinewidth": 2
          }
         }
        },
        "title": {
         "text": "Frequência dos disease por chromosome (Top 10)"
        },
        "xaxis": {
         "anchor": "y",
         "domain": [
          0,
          1
         ],
         "title": {
          "text": "chromosome"
         }
        },
        "yaxis": {
         "anchor": "x",
         "domain": [
          0,
          1
         ],
         "title": {
          "text": "Frequência"
         }
        }
       }
      }
     },
     "metadata": {},
     "output_type": "display_data"
    }
   ],
   "source": [
    "# agrupa os dados pela combinação de \"disease\" e \"chromosome\" e soma a quantidade de ocorrências de cada combinação\n",
    "grouped_chromosome_type_df = civic.groupby(['disease', 'chromosome']).size().reset_index(name='count')\n",
    "# ordena os dados pela quantidade de ocorrências em ordem decrescente\n",
    "sorted_chromosome_type_df = grouped_chromosome_type_df.sort_values('count', ascending=False)\n",
    "# seleciona as informações mais relevantes\n",
    "top_chromosome_type_df = sorted_chromosome_type_df.head(10)\n",
    "\n",
    "# Cria o gráfico de barras\n",
    "fig = px.bar(top_chromosome_type_df, x='chromosome', y='count', color='disease', \n",
    "             title='Frequência dos disease por chromosome (Top 10)',\n",
    "             color_discrete_sequence=px.colors.qualitative.Pastel)#, #template='plotly_dark')\n",
    "# Personaliza os rótulos do eixo x e y\n",
    "fig.update_xaxes(title='chromosome')\n",
    "fig.update_yaxes(title='Frequência')\n",
    "# Mostra o gráfico\n",
    "fig.show()\n"
   ]
  },
  {
   "attachments": {},
   "cell_type": "markdown",
   "metadata": {},
   "source": [
    "Os tipos cancerigenos realmente tendem a atacar apenas um gene como padrão ? Melanoma ataca o gene 7 com incidencia de 7 itens, cartinoma ataca o gene 7 tambem mas com uma incidência de 134 itens e o Von Hippel ? Bom, ele ataca o gene 3 com uma incidência de 548 itens."
   ]
  },
  {
   "cell_type": "code",
   "execution_count": 36,
   "metadata": {},
   "outputs": [
    {
     "data": {
      "application/vnd.plotly.v1+json": {
       "config": {
        "plotlyServerURL": "https://plot.ly"
       },
       "data": [
        {
         "hovertemplate": "gene=%{x}<br>disease=%{y}<br>count=%{marker.size}<extra></extra>",
         "legendgroup": "",
         "marker": {
          "color": "rgb(102, 197, 204)",
          "size": [
           588,
           297,
           123,
           93,
           80,
           71,
           64,
           64,
           59,
           44
          ],
          "sizemode": "area",
          "sizeref": 1.47,
          "symbol": "circle"
         },
         "mode": "markers",
         "name": "",
         "orientation": "v",
         "showlegend": false,
         "type": "scatter",
         "x": [
          "VHL",
          "ABL1",
          "EGFR",
          "KRAS",
          "ALK",
          "KIT",
          "FLT3",
          "BRAF",
          "BRAF",
          "EGFR"
         ],
         "xaxis": "x",
         "y": [
          "Von Hippel-Lindau Disease",
          "Chronic Myeloid Leukemia",
          "Lung Non-small Cell Carcinoma",
          "Colorectal Cancer",
          "Lung Non-small Cell Carcinoma",
          "Gastrointestinal Stromal Tumor",
          "Acute Myeloid Leukemia",
          "Colorectal Cancer",
          "Melanoma",
          "Lung Adenocarcinoma"
         ],
         "yaxis": "y"
        }
       ],
       "layout": {
        "legend": {
         "itemsizing": "constant",
         "tracegroupgap": 0
        },
        "template": {
         "data": {
          "bar": [
           {
            "error_x": {
             "color": "#f2f5fa"
            },
            "error_y": {
             "color": "#f2f5fa"
            },
            "marker": {
             "line": {
              "color": "rgb(17,17,17)",
              "width": 0.5
             },
             "pattern": {
              "fillmode": "overlay",
              "size": 10,
              "solidity": 0.2
             }
            },
            "type": "bar"
           }
          ],
          "barpolar": [
           {
            "marker": {
             "line": {
              "color": "rgb(17,17,17)",
              "width": 0.5
             },
             "pattern": {
              "fillmode": "overlay",
              "size": 10,
              "solidity": 0.2
             }
            },
            "type": "barpolar"
           }
          ],
          "carpet": [
           {
            "aaxis": {
             "endlinecolor": "#A2B1C6",
             "gridcolor": "#506784",
             "linecolor": "#506784",
             "minorgridcolor": "#506784",
             "startlinecolor": "#A2B1C6"
            },
            "baxis": {
             "endlinecolor": "#A2B1C6",
             "gridcolor": "#506784",
             "linecolor": "#506784",
             "minorgridcolor": "#506784",
             "startlinecolor": "#A2B1C6"
            },
            "type": "carpet"
           }
          ],
          "choropleth": [
           {
            "colorbar": {
             "outlinewidth": 0,
             "ticks": ""
            },
            "type": "choropleth"
           }
          ],
          "contour": [
           {
            "colorbar": {
             "outlinewidth": 0,
             "ticks": ""
            },
            "colorscale": [
             [
              0,
              "#0d0887"
             ],
             [
              0.1111111111111111,
              "#46039f"
             ],
             [
              0.2222222222222222,
              "#7201a8"
             ],
             [
              0.3333333333333333,
              "#9c179e"
             ],
             [
              0.4444444444444444,
              "#bd3786"
             ],
             [
              0.5555555555555556,
              "#d8576b"
             ],
             [
              0.6666666666666666,
              "#ed7953"
             ],
             [
              0.7777777777777778,
              "#fb9f3a"
             ],
             [
              0.8888888888888888,
              "#fdca26"
             ],
             [
              1,
              "#f0f921"
             ]
            ],
            "type": "contour"
           }
          ],
          "contourcarpet": [
           {
            "colorbar": {
             "outlinewidth": 0,
             "ticks": ""
            },
            "type": "contourcarpet"
           }
          ],
          "heatmap": [
           {
            "colorbar": {
             "outlinewidth": 0,
             "ticks": ""
            },
            "colorscale": [
             [
              0,
              "#0d0887"
             ],
             [
              0.1111111111111111,
              "#46039f"
             ],
             [
              0.2222222222222222,
              "#7201a8"
             ],
             [
              0.3333333333333333,
              "#9c179e"
             ],
             [
              0.4444444444444444,
              "#bd3786"
             ],
             [
              0.5555555555555556,
              "#d8576b"
             ],
             [
              0.6666666666666666,
              "#ed7953"
             ],
             [
              0.7777777777777778,
              "#fb9f3a"
             ],
             [
              0.8888888888888888,
              "#fdca26"
             ],
             [
              1,
              "#f0f921"
             ]
            ],
            "type": "heatmap"
           }
          ],
          "heatmapgl": [
           {
            "colorbar": {
             "outlinewidth": 0,
             "ticks": ""
            },
            "colorscale": [
             [
              0,
              "#0d0887"
             ],
             [
              0.1111111111111111,
              "#46039f"
             ],
             [
              0.2222222222222222,
              "#7201a8"
             ],
             [
              0.3333333333333333,
              "#9c179e"
             ],
             [
              0.4444444444444444,
              "#bd3786"
             ],
             [
              0.5555555555555556,
              "#d8576b"
             ],
             [
              0.6666666666666666,
              "#ed7953"
             ],
             [
              0.7777777777777778,
              "#fb9f3a"
             ],
             [
              0.8888888888888888,
              "#fdca26"
             ],
             [
              1,
              "#f0f921"
             ]
            ],
            "type": "heatmapgl"
           }
          ],
          "histogram": [
           {
            "marker": {
             "pattern": {
              "fillmode": "overlay",
              "size": 10,
              "solidity": 0.2
             }
            },
            "type": "histogram"
           }
          ],
          "histogram2d": [
           {
            "colorbar": {
             "outlinewidth": 0,
             "ticks": ""
            },
            "colorscale": [
             [
              0,
              "#0d0887"
             ],
             [
              0.1111111111111111,
              "#46039f"
             ],
             [
              0.2222222222222222,
              "#7201a8"
             ],
             [
              0.3333333333333333,
              "#9c179e"
             ],
             [
              0.4444444444444444,
              "#bd3786"
             ],
             [
              0.5555555555555556,
              "#d8576b"
             ],
             [
              0.6666666666666666,
              "#ed7953"
             ],
             [
              0.7777777777777778,
              "#fb9f3a"
             ],
             [
              0.8888888888888888,
              "#fdca26"
             ],
             [
              1,
              "#f0f921"
             ]
            ],
            "type": "histogram2d"
           }
          ],
          "histogram2dcontour": [
           {
            "colorbar": {
             "outlinewidth": 0,
             "ticks": ""
            },
            "colorscale": [
             [
              0,
              "#0d0887"
             ],
             [
              0.1111111111111111,
              "#46039f"
             ],
             [
              0.2222222222222222,
              "#7201a8"
             ],
             [
              0.3333333333333333,
              "#9c179e"
             ],
             [
              0.4444444444444444,
              "#bd3786"
             ],
             [
              0.5555555555555556,
              "#d8576b"
             ],
             [
              0.6666666666666666,
              "#ed7953"
             ],
             [
              0.7777777777777778,
              "#fb9f3a"
             ],
             [
              0.8888888888888888,
              "#fdca26"
             ],
             [
              1,
              "#f0f921"
             ]
            ],
            "type": "histogram2dcontour"
           }
          ],
          "mesh3d": [
           {
            "colorbar": {
             "outlinewidth": 0,
             "ticks": ""
            },
            "type": "mesh3d"
           }
          ],
          "parcoords": [
           {
            "line": {
             "colorbar": {
              "outlinewidth": 0,
              "ticks": ""
             }
            },
            "type": "parcoords"
           }
          ],
          "pie": [
           {
            "automargin": true,
            "type": "pie"
           }
          ],
          "scatter": [
           {
            "marker": {
             "line": {
              "color": "#283442"
             }
            },
            "type": "scatter"
           }
          ],
          "scatter3d": [
           {
            "line": {
             "colorbar": {
              "outlinewidth": 0,
              "ticks": ""
             }
            },
            "marker": {
             "colorbar": {
              "outlinewidth": 0,
              "ticks": ""
             }
            },
            "type": "scatter3d"
           }
          ],
          "scattercarpet": [
           {
            "marker": {
             "colorbar": {
              "outlinewidth": 0,
              "ticks": ""
             }
            },
            "type": "scattercarpet"
           }
          ],
          "scattergeo": [
           {
            "marker": {
             "colorbar": {
              "outlinewidth": 0,
              "ticks": ""
             }
            },
            "type": "scattergeo"
           }
          ],
          "scattergl": [
           {
            "marker": {
             "line": {
              "color": "#283442"
             }
            },
            "type": "scattergl"
           }
          ],
          "scattermapbox": [
           {
            "marker": {
             "colorbar": {
              "outlinewidth": 0,
              "ticks": ""
             }
            },
            "type": "scattermapbox"
           }
          ],
          "scatterpolar": [
           {
            "marker": {
             "colorbar": {
              "outlinewidth": 0,
              "ticks": ""
             }
            },
            "type": "scatterpolar"
           }
          ],
          "scatterpolargl": [
           {
            "marker": {
             "colorbar": {
              "outlinewidth": 0,
              "ticks": ""
             }
            },
            "type": "scatterpolargl"
           }
          ],
          "scatterternary": [
           {
            "marker": {
             "colorbar": {
              "outlinewidth": 0,
              "ticks": ""
             }
            },
            "type": "scatterternary"
           }
          ],
          "surface": [
           {
            "colorbar": {
             "outlinewidth": 0,
             "ticks": ""
            },
            "colorscale": [
             [
              0,
              "#0d0887"
             ],
             [
              0.1111111111111111,
              "#46039f"
             ],
             [
              0.2222222222222222,
              "#7201a8"
             ],
             [
              0.3333333333333333,
              "#9c179e"
             ],
             [
              0.4444444444444444,
              "#bd3786"
             ],
             [
              0.5555555555555556,
              "#d8576b"
             ],
             [
              0.6666666666666666,
              "#ed7953"
             ],
             [
              0.7777777777777778,
              "#fb9f3a"
             ],
             [
              0.8888888888888888,
              "#fdca26"
             ],
             [
              1,
              "#f0f921"
             ]
            ],
            "type": "surface"
           }
          ],
          "table": [
           {
            "cells": {
             "fill": {
              "color": "#506784"
             },
             "line": {
              "color": "rgb(17,17,17)"
             }
            },
            "header": {
             "fill": {
              "color": "#2a3f5f"
             },
             "line": {
              "color": "rgb(17,17,17)"
             }
            },
            "type": "table"
           }
          ]
         },
         "layout": {
          "annotationdefaults": {
           "arrowcolor": "#f2f5fa",
           "arrowhead": 0,
           "arrowwidth": 1
          },
          "autotypenumbers": "strict",
          "coloraxis": {
           "colorbar": {
            "outlinewidth": 0,
            "ticks": ""
           }
          },
          "colorscale": {
           "diverging": [
            [
             0,
             "#8e0152"
            ],
            [
             0.1,
             "#c51b7d"
            ],
            [
             0.2,
             "#de77ae"
            ],
            [
             0.3,
             "#f1b6da"
            ],
            [
             0.4,
             "#fde0ef"
            ],
            [
             0.5,
             "#f7f7f7"
            ],
            [
             0.6,
             "#e6f5d0"
            ],
            [
             0.7,
             "#b8e186"
            ],
            [
             0.8,
             "#7fbc41"
            ],
            [
             0.9,
             "#4d9221"
            ],
            [
             1,
             "#276419"
            ]
           ],
           "sequential": [
            [
             0,
             "#0d0887"
            ],
            [
             0.1111111111111111,
             "#46039f"
            ],
            [
             0.2222222222222222,
             "#7201a8"
            ],
            [
             0.3333333333333333,
             "#9c179e"
            ],
            [
             0.4444444444444444,
             "#bd3786"
            ],
            [
             0.5555555555555556,
             "#d8576b"
            ],
            [
             0.6666666666666666,
             "#ed7953"
            ],
            [
             0.7777777777777778,
             "#fb9f3a"
            ],
            [
             0.8888888888888888,
             "#fdca26"
            ],
            [
             1,
             "#f0f921"
            ]
           ],
           "sequentialminus": [
            [
             0,
             "#0d0887"
            ],
            [
             0.1111111111111111,
             "#46039f"
            ],
            [
             0.2222222222222222,
             "#7201a8"
            ],
            [
             0.3333333333333333,
             "#9c179e"
            ],
            [
             0.4444444444444444,
             "#bd3786"
            ],
            [
             0.5555555555555556,
             "#d8576b"
            ],
            [
             0.6666666666666666,
             "#ed7953"
            ],
            [
             0.7777777777777778,
             "#fb9f3a"
            ],
            [
             0.8888888888888888,
             "#fdca26"
            ],
            [
             1,
             "#f0f921"
            ]
           ]
          },
          "colorway": [
           "#636efa",
           "#EF553B",
           "#00cc96",
           "#ab63fa",
           "#FFA15A",
           "#19d3f3",
           "#FF6692",
           "#B6E880",
           "#FF97FF",
           "#FECB52"
          ],
          "font": {
           "color": "#f2f5fa"
          },
          "geo": {
           "bgcolor": "rgb(17,17,17)",
           "lakecolor": "rgb(17,17,17)",
           "landcolor": "rgb(17,17,17)",
           "showlakes": true,
           "showland": true,
           "subunitcolor": "#506784"
          },
          "hoverlabel": {
           "align": "left"
          },
          "hovermode": "closest",
          "mapbox": {
           "style": "dark"
          },
          "paper_bgcolor": "rgb(17,17,17)",
          "plot_bgcolor": "rgb(17,17,17)",
          "polar": {
           "angularaxis": {
            "gridcolor": "#506784",
            "linecolor": "#506784",
            "ticks": ""
           },
           "bgcolor": "rgb(17,17,17)",
           "radialaxis": {
            "gridcolor": "#506784",
            "linecolor": "#506784",
            "ticks": ""
           }
          },
          "scene": {
           "xaxis": {
            "backgroundcolor": "rgb(17,17,17)",
            "gridcolor": "#506784",
            "gridwidth": 2,
            "linecolor": "#506784",
            "showbackground": true,
            "ticks": "",
            "zerolinecolor": "#C8D4E3"
           },
           "yaxis": {
            "backgroundcolor": "rgb(17,17,17)",
            "gridcolor": "#506784",
            "gridwidth": 2,
            "linecolor": "#506784",
            "showbackground": true,
            "ticks": "",
            "zerolinecolor": "#C8D4E3"
           },
           "zaxis": {
            "backgroundcolor": "rgb(17,17,17)",
            "gridcolor": "#506784",
            "gridwidth": 2,
            "linecolor": "#506784",
            "showbackground": true,
            "ticks": "",
            "zerolinecolor": "#C8D4E3"
           }
          },
          "shapedefaults": {
           "line": {
            "color": "#f2f5fa"
           }
          },
          "sliderdefaults": {
           "bgcolor": "#C8D4E3",
           "bordercolor": "rgb(17,17,17)",
           "borderwidth": 1,
           "tickwidth": 0
          },
          "ternary": {
           "aaxis": {
            "gridcolor": "#506784",
            "linecolor": "#506784",
            "ticks": ""
           },
           "baxis": {
            "gridcolor": "#506784",
            "linecolor": "#506784",
            "ticks": ""
           },
           "bgcolor": "rgb(17,17,17)",
           "caxis": {
            "gridcolor": "#506784",
            "linecolor": "#506784",
            "ticks": ""
           }
          },
          "title": {
           "x": 0.05
          },
          "updatemenudefaults": {
           "bgcolor": "#506784",
           "borderwidth": 0
          },
          "xaxis": {
           "automargin": true,
           "gridcolor": "#283442",
           "linecolor": "#506784",
           "ticks": "",
           "title": {
            "standoff": 15
           },
           "zerolinecolor": "#283442",
           "zerolinewidth": 2
          },
          "yaxis": {
           "automargin": true,
           "gridcolor": "#283442",
           "linecolor": "#506784",
           "ticks": "",
           "title": {
            "standoff": 15
           },
           "zerolinecolor": "#283442",
           "zerolinewidth": 2
          }
         }
        },
        "title": {
         "text": "Identificando a doença do gene"
        },
        "xaxis": {
         "anchor": "y",
         "domain": [
          0,
          1
         ],
         "title": {
          "text": "gene"
         }
        },
        "yaxis": {
         "anchor": "x",
         "domain": [
          0,
          1
         ],
         "title": {
          "text": "disease"
         }
        }
       }
      }
     },
     "metadata": {},
     "output_type": "display_data"
    }
   ],
   "source": [
    "# agrupa os dados pela combinação de \"disease\" e \"rating\" e soma a quantidade de ocorrências de cada combinação\n",
    "grouped_rating_type_df = civic.groupby(['disease', 'rating']).size().reset_index(name='count')\n",
    "# ordena os dados pela quantidade de ocorrências em ordem decrescente\n",
    "sorted_rating_type_df = grouped_rating_type_df.sort_values('count', ascending=False)\n",
    "# seleciona zzas informações mais relevantes\n",
    "top_rating_type_df = sorted_rating_type_df.head(10)\n",
    "\n",
    "# conta a frequência dos valores em cada coluna\n",
    "var_counts = civic['variant_origin'].value_counts().reset_index()\n",
    "gene_counts = civic['disease'].value_counts().reset_index()\n",
    "# renomeia as colunas\n",
    "gene_counts.columns = ['disease', 'count']\n",
    "var_counts.columns = ['gene', 'count']\n",
    "\n",
    "# cria o gráfico de dispersão\n",
    "fig = px.scatter(top_genes_df, x='gene', y='disease', size='count',title='Identificando a doença do gene',\n",
    "            color_discrete_sequence=px.colors.qualitative.Pastel,\n",
    "            template='plotly_dark')\n",
    "# mostra o gráfico\n",
    "fig.show()"
   ]
  },
  {
   "cell_type": "code",
   "execution_count": 37,
   "metadata": {},
   "outputs": [
    {
     "data": {
      "application/vnd.plotly.v1+json": {
       "config": {
        "plotlyServerURL": "https://plot.ly"
       },
       "data": [
        {
         "alignmentgroup": "True",
         "hovertemplate": "disease=Von Hippel-Lindau Disease<br>rating=%{x}<br>count=%{y}<extra></extra>",
         "legendgroup": "Von Hippel-Lindau Disease",
         "marker": {
          "color": "rgb(102, 197, 204)",
          "pattern": {
           "shape": ""
          }
         },
         "name": "Von Hippel-Lindau Disease",
         "offsetgroup": "Von Hippel-Lindau Disease",
         "orientation": "v",
         "showlegend": true,
         "textposition": "auto",
         "type": "bar",
         "x": [
          3,
          2
         ],
         "xaxis": "x",
         "y": [
          296,
          203
         ],
         "yaxis": "y"
        },
        {
         "alignmentgroup": "True",
         "hovertemplate": "disease=Colorectal Cancer<br>rating=%{x}<br>count=%{y}<extra></extra>",
         "legendgroup": "Colorectal Cancer",
         "marker": {
          "color": "rgb(246, 207, 113)",
          "pattern": {
           "shape": ""
          }
         },
         "name": "Colorectal Cancer",
         "offsetgroup": "Colorectal Cancer",
         "orientation": "v",
         "showlegend": true,
         "textposition": "auto",
         "type": "bar",
         "x": [
          3
         ],
         "xaxis": "x",
         "y": [
          149
         ],
         "yaxis": "y"
        },
        {
         "alignmentgroup": "True",
         "hovertemplate": "disease=Lung Non-small Cell Carcinoma<br>rating=%{x}<br>count=%{y}<extra></extra>",
         "legendgroup": "Lung Non-small Cell Carcinoma",
         "marker": {
          "color": "rgb(248, 156, 116)",
          "pattern": {
           "shape": ""
          }
         },
         "name": "Lung Non-small Cell Carcinoma",
         "offsetgroup": "Lung Non-small Cell Carcinoma",
         "orientation": "v",
         "showlegend": true,
         "textposition": "auto",
         "type": "bar",
         "x": [
          3,
          4,
          2
         ],
         "xaxis": "x",
         "y": [
          140,
          105,
          86
         ],
         "yaxis": "y"
        },
        {
         "alignmentgroup": "True",
         "hovertemplate": "disease=Chronic Myeloid Leukemia<br>rating=%{x}<br>count=%{y}<extra></extra>",
         "legendgroup": "Chronic Myeloid Leukemia",
         "marker": {
          "color": "rgb(220, 176, 242)",
          "pattern": {
           "shape": ""
          }
         },
         "name": "Chronic Myeloid Leukemia",
         "offsetgroup": "Chronic Myeloid Leukemia",
         "orientation": "v",
         "showlegend": true,
         "textposition": "auto",
         "type": "bar",
         "x": [
          2,
          3
         ],
         "xaxis": "x",
         "y": [
          106,
          90
         ],
         "yaxis": "y"
        },
        {
         "alignmentgroup": "True",
         "hovertemplate": "disease=Acute Myeloid Leukemia<br>rating=%{x}<br>count=%{y}<extra></extra>",
         "legendgroup": "Acute Myeloid Leukemia",
         "marker": {
          "color": "rgb(135, 197, 95)",
          "pattern": {
           "shape": ""
          }
         },
         "name": "Acute Myeloid Leukemia",
         "offsetgroup": "Acute Myeloid Leukemia",
         "orientation": "v",
         "showlegend": true,
         "textposition": "auto",
         "type": "bar",
         "x": [
          3,
          4
         ],
         "xaxis": "x",
         "y": [
          92,
          76
         ],
         "yaxis": "y"
        }
       ],
       "layout": {
        "barmode": "relative",
        "legend": {
         "title": {
          "text": "disease"
         },
         "tracegroupgap": 0
        },
        "template": {
         "data": {
          "bar": [
           {
            "error_x": {
             "color": "#2a3f5f"
            },
            "error_y": {
             "color": "#2a3f5f"
            },
            "marker": {
             "line": {
              "color": "#E5ECF6",
              "width": 0.5
             },
             "pattern": {
              "fillmode": "overlay",
              "size": 10,
              "solidity": 0.2
             }
            },
            "type": "bar"
           }
          ],
          "barpolar": [
           {
            "marker": {
             "line": {
              "color": "#E5ECF6",
              "width": 0.5
             },
             "pattern": {
              "fillmode": "overlay",
              "size": 10,
              "solidity": 0.2
             }
            },
            "type": "barpolar"
           }
          ],
          "carpet": [
           {
            "aaxis": {
             "endlinecolor": "#2a3f5f",
             "gridcolor": "white",
             "linecolor": "white",
             "minorgridcolor": "white",
             "startlinecolor": "#2a3f5f"
            },
            "baxis": {
             "endlinecolor": "#2a3f5f",
             "gridcolor": "white",
             "linecolor": "white",
             "minorgridcolor": "white",
             "startlinecolor": "#2a3f5f"
            },
            "type": "carpet"
           }
          ],
          "choropleth": [
           {
            "colorbar": {
             "outlinewidth": 0,
             "ticks": ""
            },
            "type": "choropleth"
           }
          ],
          "contour": [
           {
            "colorbar": {
             "outlinewidth": 0,
             "ticks": ""
            },
            "colorscale": [
             [
              0,
              "#0d0887"
             ],
             [
              0.1111111111111111,
              "#46039f"
             ],
             [
              0.2222222222222222,
              "#7201a8"
             ],
             [
              0.3333333333333333,
              "#9c179e"
             ],
             [
              0.4444444444444444,
              "#bd3786"
             ],
             [
              0.5555555555555556,
              "#d8576b"
             ],
             [
              0.6666666666666666,
              "#ed7953"
             ],
             [
              0.7777777777777778,
              "#fb9f3a"
             ],
             [
              0.8888888888888888,
              "#fdca26"
             ],
             [
              1,
              "#f0f921"
             ]
            ],
            "type": "contour"
           }
          ],
          "contourcarpet": [
           {
            "colorbar": {
             "outlinewidth": 0,
             "ticks": ""
            },
            "type": "contourcarpet"
           }
          ],
          "heatmap": [
           {
            "colorbar": {
             "outlinewidth": 0,
             "ticks": ""
            },
            "colorscale": [
             [
              0,
              "#0d0887"
             ],
             [
              0.1111111111111111,
              "#46039f"
             ],
             [
              0.2222222222222222,
              "#7201a8"
             ],
             [
              0.3333333333333333,
              "#9c179e"
             ],
             [
              0.4444444444444444,
              "#bd3786"
             ],
             [
              0.5555555555555556,
              "#d8576b"
             ],
             [
              0.6666666666666666,
              "#ed7953"
             ],
             [
              0.7777777777777778,
              "#fb9f3a"
             ],
             [
              0.8888888888888888,
              "#fdca26"
             ],
             [
              1,
              "#f0f921"
             ]
            ],
            "type": "heatmap"
           }
          ],
          "heatmapgl": [
           {
            "colorbar": {
             "outlinewidth": 0,
             "ticks": ""
            },
            "colorscale": [
             [
              0,
              "#0d0887"
             ],
             [
              0.1111111111111111,
              "#46039f"
             ],
             [
              0.2222222222222222,
              "#7201a8"
             ],
             [
              0.3333333333333333,
              "#9c179e"
             ],
             [
              0.4444444444444444,
              "#bd3786"
             ],
             [
              0.5555555555555556,
              "#d8576b"
             ],
             [
              0.6666666666666666,
              "#ed7953"
             ],
             [
              0.7777777777777778,
              "#fb9f3a"
             ],
             [
              0.8888888888888888,
              "#fdca26"
             ],
             [
              1,
              "#f0f921"
             ]
            ],
            "type": "heatmapgl"
           }
          ],
          "histogram": [
           {
            "marker": {
             "pattern": {
              "fillmode": "overlay",
              "size": 10,
              "solidity": 0.2
             }
            },
            "type": "histogram"
           }
          ],
          "histogram2d": [
           {
            "colorbar": {
             "outlinewidth": 0,
             "ticks": ""
            },
            "colorscale": [
             [
              0,
              "#0d0887"
             ],
             [
              0.1111111111111111,
              "#46039f"
             ],
             [
              0.2222222222222222,
              "#7201a8"
             ],
             [
              0.3333333333333333,
              "#9c179e"
             ],
             [
              0.4444444444444444,
              "#bd3786"
             ],
             [
              0.5555555555555556,
              "#d8576b"
             ],
             [
              0.6666666666666666,
              "#ed7953"
             ],
             [
              0.7777777777777778,
              "#fb9f3a"
             ],
             [
              0.8888888888888888,
              "#fdca26"
             ],
             [
              1,
              "#f0f921"
             ]
            ],
            "type": "histogram2d"
           }
          ],
          "histogram2dcontour": [
           {
            "colorbar": {
             "outlinewidth": 0,
             "ticks": ""
            },
            "colorscale": [
             [
              0,
              "#0d0887"
             ],
             [
              0.1111111111111111,
              "#46039f"
             ],
             [
              0.2222222222222222,
              "#7201a8"
             ],
             [
              0.3333333333333333,
              "#9c179e"
             ],
             [
              0.4444444444444444,
              "#bd3786"
             ],
             [
              0.5555555555555556,
              "#d8576b"
             ],
             [
              0.6666666666666666,
              "#ed7953"
             ],
             [
              0.7777777777777778,
              "#fb9f3a"
             ],
             [
              0.8888888888888888,
              "#fdca26"
             ],
             [
              1,
              "#f0f921"
             ]
            ],
            "type": "histogram2dcontour"
           }
          ],
          "mesh3d": [
           {
            "colorbar": {
             "outlinewidth": 0,
             "ticks": ""
            },
            "type": "mesh3d"
           }
          ],
          "parcoords": [
           {
            "line": {
             "colorbar": {
              "outlinewidth": 0,
              "ticks": ""
             }
            },
            "type": "parcoords"
           }
          ],
          "pie": [
           {
            "automargin": true,
            "type": "pie"
           }
          ],
          "scatter": [
           {
            "fillpattern": {
             "fillmode": "overlay",
             "size": 10,
             "solidity": 0.2
            },
            "type": "scatter"
           }
          ],
          "scatter3d": [
           {
            "line": {
             "colorbar": {
              "outlinewidth": 0,
              "ticks": ""
             }
            },
            "marker": {
             "colorbar": {
              "outlinewidth": 0,
              "ticks": ""
             }
            },
            "type": "scatter3d"
           }
          ],
          "scattercarpet": [
           {
            "marker": {
             "colorbar": {
              "outlinewidth": 0,
              "ticks": ""
             }
            },
            "type": "scattercarpet"
           }
          ],
          "scattergeo": [
           {
            "marker": {
             "colorbar": {
              "outlinewidth": 0,
              "ticks": ""
             }
            },
            "type": "scattergeo"
           }
          ],
          "scattergl": [
           {
            "marker": {
             "colorbar": {
              "outlinewidth": 0,
              "ticks": ""
             }
            },
            "type": "scattergl"
           }
          ],
          "scattermapbox": [
           {
            "marker": {
             "colorbar": {
              "outlinewidth": 0,
              "ticks": ""
             }
            },
            "type": "scattermapbox"
           }
          ],
          "scatterpolar": [
           {
            "marker": {
             "colorbar": {
              "outlinewidth": 0,
              "ticks": ""
             }
            },
            "type": "scatterpolar"
           }
          ],
          "scatterpolargl": [
           {
            "marker": {
             "colorbar": {
              "outlinewidth": 0,
              "ticks": ""
             }
            },
            "type": "scatterpolargl"
           }
          ],
          "scatterternary": [
           {
            "marker": {
             "colorbar": {
              "outlinewidth": 0,
              "ticks": ""
             }
            },
            "type": "scatterternary"
           }
          ],
          "surface": [
           {
            "colorbar": {
             "outlinewidth": 0,
             "ticks": ""
            },
            "colorscale": [
             [
              0,
              "#0d0887"
             ],
             [
              0.1111111111111111,
              "#46039f"
             ],
             [
              0.2222222222222222,
              "#7201a8"
             ],
             [
              0.3333333333333333,
              "#9c179e"
             ],
             [
              0.4444444444444444,
              "#bd3786"
             ],
             [
              0.5555555555555556,
              "#d8576b"
             ],
             [
              0.6666666666666666,
              "#ed7953"
             ],
             [
              0.7777777777777778,
              "#fb9f3a"
             ],
             [
              0.8888888888888888,
              "#fdca26"
             ],
             [
              1,
              "#f0f921"
             ]
            ],
            "type": "surface"
           }
          ],
          "table": [
           {
            "cells": {
             "fill": {
              "color": "#EBF0F8"
             },
             "line": {
              "color": "white"
             }
            },
            "header": {
             "fill": {
              "color": "#C8D4E3"
             },
             "line": {
              "color": "white"
             }
            },
            "type": "table"
           }
          ]
         },
         "layout": {
          "annotationdefaults": {
           "arrowcolor": "#2a3f5f",
           "arrowhead": 0,
           "arrowwidth": 1
          },
          "autotypenumbers": "strict",
          "coloraxis": {
           "colorbar": {
            "outlinewidth": 0,
            "ticks": ""
           }
          },
          "colorscale": {
           "diverging": [
            [
             0,
             "#8e0152"
            ],
            [
             0.1,
             "#c51b7d"
            ],
            [
             0.2,
             "#de77ae"
            ],
            [
             0.3,
             "#f1b6da"
            ],
            [
             0.4,
             "#fde0ef"
            ],
            [
             0.5,
             "#f7f7f7"
            ],
            [
             0.6,
             "#e6f5d0"
            ],
            [
             0.7,
             "#b8e186"
            ],
            [
             0.8,
             "#7fbc41"
            ],
            [
             0.9,
             "#4d9221"
            ],
            [
             1,
             "#276419"
            ]
           ],
           "sequential": [
            [
             0,
             "#0d0887"
            ],
            [
             0.1111111111111111,
             "#46039f"
            ],
            [
             0.2222222222222222,
             "#7201a8"
            ],
            [
             0.3333333333333333,
             "#9c179e"
            ],
            [
             0.4444444444444444,
             "#bd3786"
            ],
            [
             0.5555555555555556,
             "#d8576b"
            ],
            [
             0.6666666666666666,
             "#ed7953"
            ],
            [
             0.7777777777777778,
             "#fb9f3a"
            ],
            [
             0.8888888888888888,
             "#fdca26"
            ],
            [
             1,
             "#f0f921"
            ]
           ],
           "sequentialminus": [
            [
             0,
             "#0d0887"
            ],
            [
             0.1111111111111111,
             "#46039f"
            ],
            [
             0.2222222222222222,
             "#7201a8"
            ],
            [
             0.3333333333333333,
             "#9c179e"
            ],
            [
             0.4444444444444444,
             "#bd3786"
            ],
            [
             0.5555555555555556,
             "#d8576b"
            ],
            [
             0.6666666666666666,
             "#ed7953"
            ],
            [
             0.7777777777777778,
             "#fb9f3a"
            ],
            [
             0.8888888888888888,
             "#fdca26"
            ],
            [
             1,
             "#f0f921"
            ]
           ]
          },
          "colorway": [
           "#636efa",
           "#EF553B",
           "#00cc96",
           "#ab63fa",
           "#FFA15A",
           "#19d3f3",
           "#FF6692",
           "#B6E880",
           "#FF97FF",
           "#FECB52"
          ],
          "font": {
           "color": "#2a3f5f"
          },
          "geo": {
           "bgcolor": "white",
           "lakecolor": "white",
           "landcolor": "#E5ECF6",
           "showlakes": true,
           "showland": true,
           "subunitcolor": "white"
          },
          "hoverlabel": {
           "align": "left"
          },
          "hovermode": "closest",
          "mapbox": {
           "style": "light"
          },
          "paper_bgcolor": "white",
          "plot_bgcolor": "#E5ECF6",
          "polar": {
           "angularaxis": {
            "gridcolor": "white",
            "linecolor": "white",
            "ticks": ""
           },
           "bgcolor": "#E5ECF6",
           "radialaxis": {
            "gridcolor": "white",
            "linecolor": "white",
            "ticks": ""
           }
          },
          "scene": {
           "xaxis": {
            "backgroundcolor": "#E5ECF6",
            "gridcolor": "white",
            "gridwidth": 2,
            "linecolor": "white",
            "showbackground": true,
            "ticks": "",
            "zerolinecolor": "white"
           },
           "yaxis": {
            "backgroundcolor": "#E5ECF6",
            "gridcolor": "white",
            "gridwidth": 2,
            "linecolor": "white",
            "showbackground": true,
            "ticks": "",
            "zerolinecolor": "white"
           },
           "zaxis": {
            "backgroundcolor": "#E5ECF6",
            "gridcolor": "white",
            "gridwidth": 2,
            "linecolor": "white",
            "showbackground": true,
            "ticks": "",
            "zerolinecolor": "white"
           }
          },
          "shapedefaults": {
           "line": {
            "color": "#2a3f5f"
           }
          },
          "ternary": {
           "aaxis": {
            "gridcolor": "white",
            "linecolor": "white",
            "ticks": ""
           },
           "baxis": {
            "gridcolor": "white",
            "linecolor": "white",
            "ticks": ""
           },
           "bgcolor": "#E5ECF6",
           "caxis": {
            "gridcolor": "white",
            "linecolor": "white",
            "ticks": ""
           }
          },
          "title": {
           "x": 0.05
          },
          "xaxis": {
           "automargin": true,
           "gridcolor": "white",
           "linecolor": "white",
           "ticks": "",
           "title": {
            "standoff": 15
           },
           "zerolinecolor": "white",
           "zerolinewidth": 2
          },
          "yaxis": {
           "automargin": true,
           "gridcolor": "white",
           "linecolor": "white",
           "ticks": "",
           "title": {
            "standoff": 15
           },
           "zerolinecolor": "white",
           "zerolinewidth": 2
          }
         }
        },
        "title": {
         "text": "Frequência dos disease por rating (Top 10)"
        },
        "xaxis": {
         "anchor": "y",
         "domain": [
          0,
          1
         ],
         "title": {
          "text": "rating"
         }
        },
        "yaxis": {
         "anchor": "x",
         "domain": [
          0,
          1
         ],
         "title": {
          "text": "Frequência"
         }
        }
       }
      }
     },
     "metadata": {},
     "output_type": "display_data"
    }
   ],
   "source": [
    "# Cria o gráfico de barras\n",
    "fig = px.bar(top_rating_type_df, x='rating', y='count', color='disease', \n",
    "             title='Frequência dos disease por rating (Top 10)',\n",
    "             color_discrete_sequence=px.colors.qualitative.Pastel)#, #template='plotly_dark')\n",
    "# Personaliza os rótulos do eixo x e y\n",
    "fig.update_xaxes(title='rating')\n",
    "fig.update_yaxes(title='Frequência')\n",
    "# Mostra o gráfico\n",
    "fig.show()"
   ]
  },
  {
   "attachments": {},
   "cell_type": "markdown",
   "metadata": {},
   "source": [
    "Nem sempre o tratamento que funciona pra funciona pra todos, afinal cada pessoa é uma pessoa, por isso nesse gráfico visualizamos que o ranking pode variar dependendo da doença. Ex: Von Hippel recebeu entre 2 e 3 estrelas enquanto o carcinoma recebeu entre 2, 3 e 4 estrelas."
   ]
  },
  {
   "attachments": {},
   "cell_type": "markdown",
   "metadata": {},
   "source": [
    "#### Transformando em número"
   ]
  },
  {
   "cell_type": "code",
   "execution_count": 38,
   "metadata": {},
   "outputs": [],
   "source": [
    "#Transformando os dados não númericos em númericos.\n",
    "df = civic[['gene', 'disease', 'variant', 'clinical_significance', 'variant_origin', 'evidence_level', 'drugs']].apply(lambda x: pd.factorize(x)[0])"
   ]
  },
  {
   "cell_type": "code",
   "execution_count": 39,
   "metadata": {},
   "outputs": [
    {
     "data": {
      "image/png": "[encoded data removed]",
      "text/plain": [
       "<Figure size 640x480 with 1 Axes>"
      ]
     },
     "metadata": {},
     "output_type": "display_data"
    }
   ],
   "source": [
    "#Gráfico de dispersão (scattler plot)\n",
    "# Pontos do Gráfico nazz côr verde (c = 'g')\n",
    "plt.scatter(df['disease'], df['gene'], c='g')\n",
    "plt.xlabel(\"Câncer\")\n",
    "plt.ylabel(\"Gene\")\n",
    "plt.show()"
   ]
  },
  {
   "attachments": {},
   "cell_type": "markdown",
   "metadata": {},
   "source": [
    "Usamos o scattler plot para observaro compartamento entre duas variáveis e sua relação, podemos ver que perto de 0 existe um grande aglomerado, pois essa são as váriais que mais aparencem em nossos dados."
   ]
  },
  {
   "cell_type": "code",
   "execution_count": 40,
   "metadata": {},
   "outputs": [
    {
     "data": {
      "image/png": "[encoded data removed]",
      "text/plain": [
       "<Figure size 640x480 with 2 Axes>"
      ]
     },
     "metadata": {},
     "output_type": "display_data"
    }
   ],
   "source": [
    "# Calcule a matriz de correlação\n",
    "correlation_matrix = df.corr()\n",
    "# Crie o heatmap para visualizar a correlação\n",
    "sns.heatmap(correlation_matrix, annot=True, cmap='coolwarm')\n",
    "plt.title(\"Correlação entre gene e doença\")\n",
    "plt.show()"
   ]
  },
  {
   "attachments": {},
   "cell_type": "markdown",
   "metadata": {},
   "source": [
    "Por fim uma matriz de correlação entre as variaveis mais usadas durante esse caderno, os valores próximos de 1 representam uma correlação positiva forte entre as variaveis.\n",
    "Quando mais proximo de -1 mais forte é a correlação negativa entre duas variaveis.\n",
    "Se o valor se aproxima de 0 indica que não há uma correlação linear forte."
   ]
  },
  {
   "attachments": {},
   "cell_type": "markdown",
   "metadata": {},
   "source": [
    "# Banco de Dados"
   ]
  },
  {
   "attachments": {},
   "cell_type": "markdown",
   "metadata": {},
   "source": [
    "## Criando um banco de dados"
   ]
  },
  {
   "attachments": {},
   "cell_type": "markdown",
   "metadata": {},
   "source": [
    "Para o banco de dados, utilizamos o PostgreSQL, criando 3 tabelas, genes, variantes e evidencias. A tabela genes contém os genes que foram analisados, a tabela variantes contém as variantes encontradas e a tabela evidencias contém as evidências encontradas para cada variante."
   ]
  },
  {
   "cell_type": "markdown",
   "metadata": {},
   "source": [
    "<img src= \"https://raw.githubusercontent.com/perolatai/projeto_CDIA_CIVIC/main/database/civic_erdpng.png\">"
   ]
  },
  {
   "attachments": {},
   "cell_type": "markdown",
   "metadata": {},
   "source": [
    "database backup: <https://github.com/perolatai/projeto_CDIA_CIVIC/blob/main/database/ifaxtmtq.sql.lzo>\n",
    "\n",
    "-cd \"$FILE_NAME\" | psql \"$DATABASE_NAME\""
   ]
  },
  {
   "attachments": {},
   "cell_type": "markdown",
   "metadata": {},
   "source": [
    "```python\n",
    "CREATE TABLE genes\n",
    "(\n",
    "    entrez_id INTEGER PRIMARY KEY,\n",
    "    gene VARCHAR(255),\n",
    "    description TEXT\n",
    ");\n",
    "\n",
    "CREATE TABLE variantes\n",
    "(\n",
    "    variant_id INTEGER PRIMARY KEY,\n",
    "    variant VARCHAR(255),\n",
    "    summary TEXT,\n",
    "    start VARCHAR(255),\n",
    "    stop VARCHAR(255),\n",
    "    reference_bases VARCHAR(255),\n",
    "    variant_bases VARCHAR(255),\n",
    "    representative_transcript VARCHAR(255),\n",
    "    ensembl_version FLOAT,\n",
    "    reference_build VARCHAR(255),\n",
    "    variant_types VARCHAR(255),\n",
    "    hgvs_expressions VARCHAR(255),\n",
    "    civic_variant_evidence_score FLOAT,\n",
    "    allele_registry_id VARCHAR(255),\n",
    "    clinvar_ids VARCHAR(255),\n",
    "    variant_aliases VARCHAR(255)\n",
    ");\n",
    "\n",
    "CREATE TABLE evidencias\n",
    "(\n",
    "    evidence_id INTEGER PRIMARY KEY,\n",
    "    entrez_id INTEGER,\n",
    "    disease VARCHAR(255),\n",
    "    doid FLOAT,\n",
    "    phenotypes VARCHAR(255),\n",
    "    drugs VARCHAR(255),\n",
    "    drug_interaction_type VARCHAR(255),\n",
    "    evidence_type VARCHAR(255),\n",
    "    evidence_direction VARCHAR(255),\n",
    "    evidence_level VARCHAR(255),\n",
    "    clinical_significance VARCHAR(255),\n",
    "    evidence_statement TEXT,\n",
    "    citation_id INTEGER,\n",
    "    source_type VARCHAR(255),\n",
    "    citation VARCHAR(255),\n",
    "    rating FLOAT,\n",
    "    evidence_status VARCHAR(255),\n",
    "    variant_id INTEGER,\n",
    "    chromosome VARCHAR(255),\n",
    "    variant_origin VARCHAR(255),\n",
    "    is_flagged BOOLEAN,\n",
    "    FOREIGN KEY (entrez_id) REFERENCES genes(entrez_id),\n",
    "    FOREIGN KEY (variant_id) REFERENCES variantes(variant_id)\n",
    ");\n",
    "```"
   ]
  },
  {
   "attachments": {},
   "cell_type": "markdown",
   "metadata": {},
   "source": [
    "A tabela evidencias possui uma chave estrangeira para a tabela variantes, que é a variante_id e uma chave estrangeira para a tabela genes, que é a gene_id, possibilitando a ligação entre as tabelas."
   ]
  },
  {
   "attachments": {},
   "cell_type": "markdown",
   "metadata": {},
   "source": [
    "## Inserindo dados"
   ]
  },
  {
   "attachments": {},
   "cell_type": "markdown",
   "metadata": {},
   "source": [
    "Ao extrairmosos dados da API, utilizamos os arquivos para inserir os dados em nosso banco de dados, atraves de um script em python."
   ]
  },
  {
   "attachments": {},
   "cell_type": "markdown",
   "metadata": {},
   "source": [
    "```python\n",
    "def insert_dataframe_into_mysql(df, table_name, connection):\n",
    "    cursor = connection.cursor()\n",
    "    placeholders = ', '.join(['%s'] * len(df.columns))\n",
    "    columns = ', '.join(df.columns)\n",
    "    sql = f\"INSERT INTO {table_name} ({columns}) VALUES ({placeholders})\"\n",
    "    for _, row in df.iterrows():\n",
    "        row = pd.concat([pd.Series([0]), row])\n",
    "        row = row.iloc[1:]\n",
    "        values = tuple(row.fillna('None'))\n",
    "        cursor.execute(sql, values)\n",
    "    connection.commit()\n",
    "\n",
    "\n",
    "insert_dataframe_into_mysql(df_Gene, 'genes', conn)\n",
    "insert_dataframe_into_mysql(df_Variant, 'variantes', conn)\n",
    "insert_dataframe_into_mysql(df_Evidences, 'evidencias', conn)\n",
    "```"
   ]
  },
  {
   "attachments": {},
   "cell_type": "markdown",
   "metadata": {},
   "source": [
    "## Disponibilizando os dados"
   ]
  },
  {
   "attachments": {},
   "cell_type": "markdown",
   "metadata": {},
   "source": [
    "Para que o grupo tenha acesso a todo momento aos dados, disponibilizamos um banco de dados na nuvem, através do site [https://www.elephantsql.com/](https://www.elephantsql.com/), que utilizam o PostgreSQL como banco de dados.\n",
    "\n",
    "Para acessarmos os dados, utilizamos o seguitne comando:"
   ]
  },
  {
   "attachments": {},
   "cell_type": "markdown",
   "metadata": {},
   "source": [
    "```python\n",
    "conn = psycopg2.connect(\n",
    "    database=database,\n",
    "    host=host,\n",
    "    user=user,\n",
    "    password=password,\n",
    "    port=port)\n",
    "```"
   ]
  },
  {
   "attachments": {},
   "cell_type": "markdown",
   "metadata": {},
   "source": [
    "# API"
   ]
  },
  {
   "attachments": {},
   "cell_type": "markdown",
   "metadata": {},
   "source": [
    "No nosso trabalho, a função da API é extrair todas as informações do banco de dados CIViC, feito com base numa planilha de mesmo nome, documentando várias informações sobre pacientes com câncer.\n",
    "\n",
    "Os dados estão divididos em três tabelas: Genes, Evidências e Variantes."
   ]
  },
  {
   "attachments": {},
   "cell_type": "markdown",
   "metadata": {},
   "source": [
    "```python\n",
    "from flask import Flask, make_response, jsonify, request\n",
    "```"
   ]
  },
  {
   "attachments": {},
   "cell_type": "markdown",
   "metadata": {},
   "source": [
    "O Flask traz o comandos GET, POST, PUT e DELETE, utilizados para interagir com bancos de dados. Assim, conseguimos utilizar também a sintaxe do SQL para fazer as requisições na nossa base.   \n",
    "O MySQL.connector liga a API ao banco de dados, bastando fornecer as credenciais criadas pelo gerente do database.   \n",
    "O Settings é um arquivo .py com as credenciais citadas acima.\n",
    "```python\n",
    "conn = psycopg2.connect(\n",
    "    database=database,\n",
    "    host=host,\n",
    "    user=user,\n",
    "    password=password,\n",
    "    port=port)\n",
    "\n",
    "app = Flask(__name__)\n",
    "app.config['JSON_SORT_KEYS'] = False\n",
    "\n",
    "cursor = conn.cursor()\n",
    "```"
   ]
  },
  {
   "attachments": {},
   "cell_type": "markdown",
   "metadata": {},
   "source": [
    "Colocamos o Flask na variável 'app' e importamos o cursor para poder \"navegar\" pelo banco de dados."
   ]
  },
  {
   "attachments": {},
   "cell_type": "markdown",
   "metadata": {},
   "source": [
    "```python\n",
    "\n",
    "@app.route('/genes', methods=['GET'])\n",
    "def get_genes():\n",
    "    cursor.execute('SELECT * FROM genes')\n",
    "    lista_genes = cursor.fetchall()\n",
    "\n",
    "    genes = list()\n",
    "    for gene in lista_genes:\n",
    "        genes.append(\n",
    "            {\n",
    "                'id':gene[0],\n",
    "                'gene':gene[1],\n",
    "                'descrição':gene[2]\n",
    "            }\n",
    "        )\n",
    "\n",
    "    return make_response(\n",
    "        jsonify(\n",
    "            message ='Genes:',\n",
    "            data = genes\n",
    "        )\n",
    "    )\n",
    "```"
   ]
  },
  {
   "attachments": {},
   "cell_type": "markdown",
   "metadata": {},
   "source": [
    "Os comandos do Flask para definir a rota (/genes) e o método (GET) sempre começam com @.   \n",
    "Depois fizemos uma função para extrair tudo da tabela GENES, separar o rótulo das colunas e depois aplicá-los nos dados para torná-los mais fáceis de entender. Nessa junção final, utilizamos o **jsonify**."
   ]
  },
  {
   "attachments": {},
   "cell_type": "markdown",
   "metadata": {},
   "source": [
    "O mesmo foi feito com as duas outras tabelas, EVIDENCIAS e VARIÁVEIS. O código é o mesmo, mudando apenas as váriaveis e a quantidade de rótulos extraídos, pois as tabelas têm números diferentes de colunas. De qualquer forma, segue o código:"
   ]
  },
  {
   "attachments": {},
   "cell_type": "markdown",
   "metadata": {},
   "source": [
    "```python\n",
    "@app.route('/evidencias', methods=['GET'])\n",
    "def get_evidencias():\n",
    "    cursor.execute('SELECT * FROM evidencias')\n",
    "    lista_evidencias = cursor.fetchall()\n",
    "\n",
    "    # Adicionando os rótulos das colunas;\n",
    "    evidencias = list()\n",
    "    for evidencia in lista_evidencias:\n",
    "        evidencias.append(\n",
    "            {\n",
    "                'evidence_id': evidencia[0],\n",
    "                'entrez_id': evidencia[1],\n",
    "                'disease': evidencia[2],\n",
    "                'doid': evidencia[3],\n",
    "                'phenotypes': evidencia[4],\n",
    "                'drugs': evidencia[5],\n",
    "                'drug_interaction_type': evidencia[6],\n",
    "                'evidence_type': evidencia[7],\n",
    "                'evidence_direction': evidencia[8],\n",
    "                'evidence_level': evidencia[9],\n",
    "                'clinical_significance': evidencia[10],\n",
    "                'evidence_statement': evidencia[11],\n",
    "                'citation_id': evidencia[12],\n",
    "                'source_type': evidencia[13],\n",
    "                'citation': evidencia[14],\n",
    "                'rating': evidencia[15],\n",
    "                'evidence_status': evidencia[16],\n",
    "                'variant_id': evidencia[17],\n",
    "                'chromosome': evidencia[18],\n",
    "                'variant_origin': evidencia[19],\n",
    "                'is_flagged': evidencia[20]\n",
    "            }\n",
    "        )\n",
    "\n",
    "    return make_response(\n",
    "        jsonify(\n",
    "            message ='Evidencias',\n",
    "            data = evidencias\n",
    "        )\n",
    "    )\n",
    "```"
   ]
  },
  {
   "attachments": {},
   "cell_type": "markdown",
   "metadata": {},
   "source": [
    "```python\n",
    "@app.route('/variantes', methods=['GET'])\n",
    "def get_variantes():\n",
    "    cursor.execute('SELECT * FROM variantes')\n",
    "    lista_variantes = cursor.fetchall()\n",
    "\n",
    "    # Adicionando os rótulos das colunas;\n",
    "    variantes = list()\n",
    "    for variante in lista_variantes:\n",
    "        variantes.append(\n",
    "            {\n",
    "                'variant_id':variante[0],\n",
    "                'variant':variante[1],\n",
    "                'summary':variante[2],\n",
    "                'start':variante[3],\n",
    "                'stop':variante[4],\n",
    "                'reference_bases':variante[5],\n",
    "                'variant_bases':variante[6],\n",
    "                'representative_transcript':variante[7],\n",
    "                'ensembl_version':variante[8],\n",
    "                'reference_build':variante[9],\n",
    "                'variant_types':variante[10],\n",
    "                'hgvs_expressions':variante[11],\n",
    "                'civic_variant_evidence_score':variante[12],\n",
    "                'allele_registry_id':variante[13],\n",
    "                'clinvar_ids':variante[14],\n",
    "                'variant_aliases':variante[15]\n",
    "            }\n",
    "        )\n",
    "\n",
    "    return make_response(\n",
    "        jsonify(\n",
    "            message ='Variantes:',\n",
    "            data = variantes\n",
    "        )\n",
    "    )\n",
    "```"
   ]
  },
  {
   "attachments": {},
   "cell_type": "markdown",
   "metadata": {},
   "source": [
    "Por fim, rodamos a API com um comando do Flask:\n",
    "\n",
    "```python\n",
    "if __name__ == \"__main__\":\n",
    "    app.run()\n",
    "```"
   ]
  },
  {
   "attachments": {},
   "cell_type": "markdown",
   "metadata": {},
   "source": [
    "# Modelo Preditivo"
   ]
  },
  {
   "attachments": {},
   "cell_type": "markdown",
   "metadata": {},
   "source": [
    "Vamos utilizar a biblioteca PyTorch para o modelo de rede neural.\n",
    "\n",
    "Com o PyTorch, podemos facilmente criar modelos de redes neurais, definir a função de perda, otimizar os pesos do modelo usando um otimizador, e iterar sobre seus dados de treinamento para ajustar o modelo. PyTorch é uma escolha popular devido à sua facilidade de uso e flexibilidade.\n",
    "\n",
    "A implementação do modelo foi baseada na documentação oficial do PyTorch que possui uma seção de tutoriais com exemplos práticos e passo a passo detalhado.\n",
    "\n",
    "https://learn.microsoft.com/pt-br/windows/ai/windows-ml/tutorials/pytorch-analysis-train-model"
   ]
  },
  {
   "cell_type": "code",
   "execution_count": 41,
   "metadata": {},
   "outputs": [],
   "source": [
    "#importações necessárias para o modelo preditivo\n",
    "import torch \n",
    "import torch.nn as nn \n",
    "from torch.utils.data import random_split, DataLoader, TensorDataset \n",
    "import torch.nn.functional as F \n",
    "import numpy as np \n",
    "import torch.optim as optim \n",
    "from torch.optim import Adam \n",
    "import warnings\n",
    "warnings.filterwarnings(\"ignore\")"
   ]
  },
  {
   "attachments": {},
   "cell_type": "markdown",
   "metadata": {},
   "source": [
    "Iremos excluir dados que causarão ruídos no nosso treinamento como colunas que representam o gene mas com códigos diferentes e até citações que ocorreram em algum projeto ou artigo.\n",
    "\n",
    "Também definiremos a nossa variável alvo que é a coluna 'evidence_type', nela temos as categorias de ações que queremos prever."
   ]
  },
  {
   "cell_type": "code",
   "execution_count": 42,
   "metadata": {},
   "outputs": [],
   "source": [
    "#separando X e y\n",
    "y = civic[['evidence_type']]\n",
    "\n",
    "# cria a lista para deletar colunas que não servem para o modelo:\n",
    "toDrop = ['entrez_id', 'evidence_type', 'gene_id', 'evidence_level', 'citation_id', 'source_type', 'citation', \n",
    "          'evidence_id', 'representative_transcript','ensembl_version', 'allele_registry_id']\n",
    "\n",
    "#cria a função para deletar as colunas:\n",
    "def deletaColuna(dataframe):\n",
    "    for coluna in toDrop:\n",
    "        del dataframe[coluna]\n",
    "\n",
    "#chama a função:\n",
    "deletaColuna(civic)\n",
    "\n",
    "#chama o fatorize para transformar as colunas categóricas em número:\n",
    "X = civic.apply(lambda x: pd.factorize(x)[0])\n",
    "\n",
    "#converte para número as features:\n",
    "labels = {'Predictive':0, 'Predisposing':1, 'Prognostic':2, 'Diagnostic':3, 'Oncogenic':4, 'Functional':5} \n",
    "\n",
    "#adiciona os numeros para as features categóricas:\n",
    "y['evidence_type_num'] = y['evidence_type']   \n",
    "y.evidence_type_num = [labels[item] for item in y.evidence_type_num]\n",
    "\n",
    "#output: pega a ultima coluna do Y  \n",
    "output = y.loc[:, 'evidence_type_num'] "
   ]
  },
  {
   "cell_type": "code",
   "execution_count": 43,
   "metadata": {},
   "outputs": [
    {
     "name": "stdout",
     "output_type": "stream",
     "text": [
      "\n",
      "Input format:  torch.Size([3897, 28]) torch.float32\n",
      "Output format:  torch.Size([3897]) torch.int64\n"
     ]
    }
   ],
   "source": [
    "#Converte o dado de Input e o Output para tensor e criar o dataset de Tensor:\n",
    "input = torch.Tensor(X.to_numpy())      # cria o tensot do tipo torch.float32 \n",
    "print('\\nInput format: ', input.shape, input.dtype)  \n",
    "output = torch.tensor(output.to_numpy())        # cria o tensor do tipo torch.int64  \n",
    "print('Output format: ', output.shape, output.dtype)\n",
    "data = TensorDataset(input, output) "
   ]
  },
  {
   "cell_type": "code",
   "execution_count": 44,
   "metadata": {},
   "outputs": [],
   "source": [
    "#separa em treino, validação e test usando random_split\n",
    "train_batch_size = 5 #quantidade de passagens pelo conjunto\n",
    "number_rows = len(input)    \n",
    "test_split = int(number_rows*0.3)  \n",
    "validate_split = int(number_rows*0.2) \n",
    "train_split = number_rows - test_split - validate_split     \n",
    "train_set, validate_set, test_set = random_split( data, [train_split, validate_split, test_split])  "
   ]
  },
  {
   "cell_type": "code",
   "execution_count": 45,
   "metadata": {},
   "outputs": [],
   "source": [
    "#Cria o Dataloader para ler o dado com tamanho batch e põe na memória:\n",
    "train_loader = DataLoader(train_set, batch_size = train_batch_size, shuffle = True) \n",
    "validate_loader = DataLoader(validate_set, batch_size = 1) \n",
    "test_loader = DataLoader(test_set, batch_size = 1)"
   ]
  },
  {
   "cell_type": "code",
   "execution_count": 46,
   "metadata": {},
   "outputs": [],
   "source": [
    "# Define os parâmetros do modelo\n",
    "input_size = list(input.shape)[1]  \n",
    "learning_rate = 0.01 \n",
    "output_size = len(labels)"
   ]
  },
  {
   "cell_type": "code",
   "execution_count": 47,
   "metadata": {},
   "outputs": [],
   "source": [
    "# definindo a rede neural \n",
    "class Network(nn.Module): \n",
    "   def __init__(self, input_size, output_size): \n",
    "       super(Network, self).__init__() \n",
    "        \n",
    "       self.layer1 = nn.Linear(input_size, 24) \n",
    "       self.layer2 = nn.Linear(24, 24) \n",
    "       self.layer3 = nn.Linear(24, output_size) \n",
    "\n",
    "\n",
    "   def forward(self, x): \n",
    "       x1 = F.relu(self.layer1(x)) \n",
    "       x2 = F.relu(self.layer2(x1)) \n",
    "       x3 = self.layer3(x2) \n",
    "       return x3 "
   ]
  },
  {
   "cell_type": "code",
   "execution_count": 48,
   "metadata": {},
   "outputs": [],
   "source": [
    "# Instanciando o modelo\n",
    "model = Network(input_size, output_size)"
   ]
  },
  {
   "cell_type": "code",
   "execution_count": 49,
   "metadata": {},
   "outputs": [],
   "source": [
    "# Função para salvar o modelo\n",
    "def saveModel(): \n",
    "    path = \"./Resultado-do-Civic-Modelo.pth\" \n",
    "    torch.save(model.state_dict(), path) "
   ]
  },
  {
   "cell_type": "code",
   "execution_count": 50,
   "metadata": {},
   "outputs": [],
   "source": [
    "# Define the loss function with Classification Cross-Entropy loss and an optimizer with Adam optimizer\n",
    "loss_fn = nn.CrossEntropyLoss()\n",
    "optimizer = Adam(model.parameters(), lr=0.001, weight_decay=0.0001)"
   ]
  },
  {
   "cell_type": "code",
   "execution_count": 51,
   "metadata": {},
   "outputs": [],
   "source": [
    "# Função de treino:\n",
    "def train(num_epochs): \n",
    "    best_accuracy = 0.0 \n",
    "     \n",
    "    print(\"Começando o treino das epochs...\") \n",
    "    for epoch in range(1, num_epochs+1): \n",
    "        running_train_loss = 0.0 \n",
    "        running_accuracy = 0.0 \n",
    "        running_vall_loss = 0.0 \n",
    "        total = 0 \n",
    " \n",
    "        # Looping de treino \n",
    "        for data in train_loader: \n",
    "            inputs, outputs = data  \n",
    "            optimizer.zero_grad()   \n",
    "            predicted_outputs = model(inputs) #predict\n",
    "            train_loss = loss_fn(predicted_outputs, outputs)   \n",
    "            train_loss.backward()   \n",
    "            optimizer.step()        \n",
    "            running_train_loss +=train_loss.item()  \n",
    " \n",
    "        # Calculando o training loss value:\n",
    "        train_loss_value = running_train_loss/len(train_loader) \n",
    " \n",
    "        # Looping de validação: \n",
    "        with torch.no_grad(): \n",
    "            model.eval() \n",
    "            for data in validate_loader: \n",
    "               inputs, outputs = data \n",
    "               predicted_outputs = model(inputs) \n",
    "               val_loss = loss_fn(predicted_outputs, outputs) \n",
    "             \n",
    "               # A label com o mais alto valor será o prediction \n",
    "               _, predicted = torch.max(predicted_outputs, 1) \n",
    "               running_vall_loss += val_loss.item()  \n",
    "               total += outputs.size(0) \n",
    "               running_accuracy += (predicted == outputs).sum().item() \n",
    " \n",
    "        # calculando o validation loss value \n",
    "        val_loss_value = running_vall_loss/len(validate_loader) \n",
    "        accuracy = (100 * running_accuracy / total)     \n",
    " \n",
    "        # Salva o modelo, se tiver boa acurácia:\n",
    "        if accuracy > best_accuracy: \n",
    "            saveModel() \n",
    "            best_accuracy = accuracy \n",
    "            \n",
    "         \n",
    "        # Print as estatisticas das epoch's\n",
    "        print('Completed training batch', epoch, 'Training Loss is: %.4f' %train_loss_value, 'Validation Loss is: %.4f' %val_loss_value, 'Accuracy is %d %%' % (accuracy))\n"
   ]
  },
  {
   "cell_type": "code",
   "execution_count": 52,
   "metadata": {},
   "outputs": [],
   "source": [
    "# Função de teste do Modelo\n",
    "def test(): \n",
    "    # Load the model that we saved at the end of the training loop \n",
    "    model = Network(input_size, output_size) \n",
    "    path = \"Resultado-do-Civic-Modelo.pth\" \n",
    "    model.load_state_dict(torch.load(path)) \n",
    "     \n",
    "    running_accuracy = 0 \n",
    "    total = 0 \n",
    " \n",
    "    with torch.no_grad(): \n",
    "        for data in test_loader: \n",
    "            inputs, outputs = data \n",
    "            outputs = outputs.to(torch.float32) \n",
    "            predicted_outputs = model(inputs) \n",
    "            _, predicted = torch.max(predicted_outputs, 1) \n",
    "            total += outputs.size(0) \n",
    "            running_accuracy += (predicted == outputs).sum().item() \n",
    " \n",
    "        print('Precisão do modelo com base no conjunto de teste de', test_split ,'acurácia de: %d %%' % (100 * running_accuracy / total))"
   ]
  },
  {
   "cell_type": "code",
   "execution_count": 53,
   "metadata": {},
   "outputs": [],
   "source": [
    "# Função de teste para cada categoria\n",
    "def test_dna(): \n",
    "    # carrega o modelo salvo\n",
    "    model = Network(input_size, output_size) \n",
    "    path = \"Resultado-do-Civic-Modelo.pth\" \n",
    "    model.load_state_dict(torch.load(path)) \n",
    "     \n",
    "    labels_length = len(labels) \n",
    "    labels_correct = list(0. for i in range(labels_length)) \n",
    "    labels_total = list(0. for i in range(labels_length))   \n",
    "  \n",
    "    with torch.no_grad(): \n",
    "        for data in test_loader: \n",
    "            inputs, outputs = data \n",
    "            predicted_outputs = model(inputs) \n",
    "            _, predicted = torch.max(predicted_outputs, 1) \n",
    "             \n",
    "            label_correct_running = (predicted == outputs).squeeze() \n",
    "            label = outputs[0] \n",
    "            if label_correct_running.item():  \n",
    "                labels_correct[label] += 1 \n",
    "            labels_total[label] += 1  \n",
    "  \n",
    "    label_list = list(labels.keys()) \n",
    "    for i in range(output_size): \n",
    "        print('Acurácia para prever %5s : %2d %%' % (label_list[i], 100 * labels_correct[i] / labels_total[i]))"
   ]
  },
  {
   "cell_type": "code",
   "execution_count": 54,
   "metadata": {},
   "outputs": [
    {
     "name": "stdout",
     "output_type": "stream",
     "text": [
      "Começando o treino das epochs...\n",
      "Completed training batch 1 Training Loss is: 3.5216 Validation Loss is: 1.6348 Accuracy is 69 %\n",
      "Completed training batch 2 Training Loss is: 0.9096 Validation Loss is: 0.7068 Accuracy is 80 %\n",
      "Completed training batch 3 Training Loss is: 0.7343 Validation Loss is: 0.5789 Accuracy is 84 %\n",
      "Completed training batch 4 Training Loss is: 0.5848 Validation Loss is: 0.6041 Accuracy is 85 %\n",
      "Completed training batch 5 Training Loss is: 0.5297 Validation Loss is: 0.5653 Accuracy is 84 %\n",
      "Completed training batch 6 Training Loss is: 0.4894 Validation Loss is: 0.5048 Accuracy is 87 %\n",
      "Completed training batch 7 Training Loss is: 0.4859 Validation Loss is: 0.6527 Accuracy is 85 %\n",
      "Completed training batch 8 Training Loss is: 0.4674 Validation Loss is: 0.4337 Accuracy is 88 %\n",
      "Completed training batch 9 Training Loss is: 0.3801 Validation Loss is: 0.4836 Accuracy is 85 %\n",
      "Completed training batch 10 Training Loss is: 0.3646 Validation Loss is: 0.4510 Accuracy is 88 %\n",
      "Fim do Treino para 10 epochs definidas! \n",
      "\n",
      "Precisão do modelo com base no conjunto de teste de 1169 acurácia de: 87 %\n",
      "Acurácia para prever Predictive : 95 %\n",
      "Acurácia para prever Predisposing : 92 %\n",
      "Acurácia para prever Prognostic : 78 %\n",
      "Acurácia para prever Diagnostic : 30 %\n",
      "Acurácia para prever Oncogenic : 35 %\n",
      "Acurácia para prever Functional : 40 %\n"
     ]
    }
   ],
   "source": [
    "# Executando o modelo\n",
    "num_epochs = 10\n",
    "train(num_epochs) \n",
    "print('Fim do Treino para', num_epochs, 'epochs definidas! \\n') \n",
    "test() \n",
    "test_dna()"
   ]
  },
  {
   "attachments": {},
   "cell_type": "markdown",
   "metadata": {},
   "source": [
    "Temos uma taxa de acerto relativamente alta de 87% \n",
    "\n",
    "Com base nos resultados apresentados, podemos concluir que o modelo apresentou uma precisão geral de 87% no conjunto de teste. Além disso, ele obteve altas acurácias ao prever os tipos de evidência Predictive (95%) e Predisposing (92%). No entanto, a acurácia foi menor ao prever os tipos de evidência Diagnostic (30%) e Oncogenic (35%)."
   ]
  },
  {
   "cell_type": "code",
   "execution_count": 57,
   "metadata": {},
   "outputs": [
    {
     "data": {
      "image/png": "[encoded data removed]",
      "text/plain": [
       "<Figure size 640x480 with 1 Axes>"
      ]
     },
     "metadata": {},
     "output_type": "display_data"
    }
   ],
   "source": [
    "from sklearn.metrics import confusion_matrix\n",
    "# colocando o modelo no modo de avaliação\n",
    "model.eval()\n",
    "# lista para armazenar as previsões do modelo\n",
    "predicted_labels = []\n",
    "# lista para armazenar as verdadeiras labels\n",
    "true_labels = []\n",
    "# percorre o conjunto de testes e faz as previsões\n",
    "for data in test_loader:\n",
    "    inputs, outputs = data\n",
    "    predicted_outputs = model(inputs)\n",
    "    _, predicted = torch.max(predicted_outputs.data, 1)\n",
    "    predicted_labels.append(predicted.item())\n",
    "    true_labels.append(outputs.item())\n",
    "\n",
    "# cria a matriz de confusão\n",
    "cm = confusion_matrix(true_labels, predicted_labels)\n",
    "# labels para o eixo x e y\n",
    "labels = list(y.loc[:, 'evidence_type'].value_counts().keys())\n",
    "# plotando a matriz de confusão\n",
    "sns.heatmap(cm, annot=True, cmap='Blues', fmt='g', xticklabels=labels, yticklabels=labels, cbar=False)\n",
    "# labels do gráfico\n",
    "plt.xlabel('Predicted labels')\n",
    "plt.ylabel('True labels')\n",
    "plt.title('Matriz de Confusão')\n",
    "plt.show()"
   ]
  },
  {
   "attachments": {},
   "cell_type": "markdown",
   "metadata": {},
   "source": [
    "Com a Matriz de Confusão é possível visualizar quantos previsões foram corretas através dos valores diagonais e todos os valores fora foram as classificações preditas erroneamente, nossos falsos positivos."
   ]
  },
  {
   "cell_type": "code",
   "execution_count": 56,
   "metadata": {},
   "outputs": [
    {
     "data": {
      "text/plain": [
       "evidence_type  evidence_type_num\n",
       "Predictive     0                    2451\n",
       "Predisposing   1                     643\n",
       "Prognostic     2                     511\n",
       "Diagnostic     3                     194\n",
       "Oncogenic      4                      67\n",
       "Functional     5                      31\n",
       "Name: count, dtype: int64"
      ]
     },
     "execution_count": 56,
     "metadata": {},
     "output_type": "execute_result"
    }
   ],
   "source": [
    "#quantidade de ocorrências para cada categoria\n",
    "y.value_counts()"
   ]
  },
  {
   "attachments": {},
   "cell_type": "markdown",
   "metadata": {},
   "source": [
    "Observando a distribuição dos tipos de evidência na coluna \"evidence_type\", podemos notar que os tipos Predictive e Predisposing são os mais frequentes, seguidos pelo tipo Prognostic. Portanto, é natural que o modelo tenha apresentado maior acurácia ao prever esses tipos de evidência."
   ]
  }
 ],
 "metadata": {
  "kernelspec": {
   "display_name": "Python 3",
   "language": "python",
   "name": "python3"
  },
  "language_info": {
   "codemirror_mode": {
    "name": "ipython",
    "version": 3
   },
   "file_extension": ".py",
   "mimetype": "text/x-python",
   "name": "python",
   "nbconvert_exporter": "python",
   "pygments_lexer": "ipython3",
   "version": "3.11.0"
  },
  "orig_nbformat": 4
 },
 "nbformat": 4,
 "nbformat_minor": 2
}
